{
 "cells": [
  {
   "cell_type": "code",
   "execution_count": 1,
   "metadata": {},
   "outputs": [],
   "source": [
    "import pandas as pd\n",
    "import numpy as np\n",
    "import math"
   ]
  },
  {
   "cell_type": "markdown",
   "metadata": {},
   "source": [
    "#### Text Preprocessing"
   ]
  },
  {
   "cell_type": "code",
   "execution_count": 2,
   "metadata": {},
   "outputs": [],
   "source": [
    "from utils import preprocessText"
   ]
  },
  {
   "cell_type": "code",
   "execution_count": 3,
   "metadata": {},
   "outputs": [
    {
     "name": "stdout",
     "output_type": "stream",
     "text": [
      "And one only, in my opinion.<br /><br />That reason is Margaret Leighton. She is a wonderful actress, on-stage as well as on the screen. We have few chances to see her, though. I think that's especially true in the United States.<br /><br />Here she plays a sympathetic role. Not only that but she is also very pretty and meant to be something of a bombshell.<br /><br />Walter Pigeon does not hold up the tradition of Drummond performers. He is always reliable but he's not much fun. He's not a rascal or a knave. Consequently, this seemed to me a talky endeavor with little action or suspense. But check it out for Leighton.\n"
     ]
    }
   ],
   "source": [
    "text = \"And one only, in my opinion.<br /><br />That reason is Margaret Leighton. She is a wonderful actress, on-stage as well as on the screen. We have few chances to see her, though. I think that\\'s especially true in the United States.<br /><br />Here she plays a sympathetic role. Not only that but she is also very pretty and meant to be something of a bombshell.<br /><br />Walter Pigeon does not hold up the tradition of Drummond performers. He is always reliable but he's not much fun. He's not a rascal or a knave. Consequently, this seemed to me a talky endeavor with little action or suspense. But check it out for Leighton.\"\n",
    "print(text)"
   ]
  },
  {
   "cell_type": "code",
   "execution_count": 4,
   "metadata": {},
   "outputs": [
    {
     "data": {
      "text/plain": [
       "\"And one only, in my opinion. That reason is Margaret Leighton. She is a wonderful actress, onstage as well as on the screen. We have few chances to see her, though. I think that's especially true in the United States. Here she plays a sympathetic role. Not only that but she is also very pretty and meant to be something of a bombshell. Walter Pigeon does not hold up the tradition of Drummond performers. He is always reliable but he's not much fun. He's not a rascal or a knave. Consequently, this seemed to me a talky endeavor with little action or suspense. But check it out for Leighton.\""
      ]
     },
     "execution_count": 4,
     "metadata": {},
     "output_type": "execute_result"
    }
   ],
   "source": [
    "preprocessText(text)"
   ]
  },
  {
   "cell_type": "markdown",
   "metadata": {},
   "source": [
    "# Country Mutant Generation"
   ]
  },
  {
   "cell_type": "code",
   "execution_count": 5,
   "metadata": {},
   "outputs": [],
   "source": [
    "import spacy\n",
    "import pandas as pd\n",
    "\n",
    "from utils import preprocessText\n",
    "from CountryMutantGeneration import CountryMutantGeneration"
   ]
  },
  {
   "cell_type": "markdown",
   "metadata": {},
   "source": [
    "### Example of replacing \\<name\\> placeholder "
   ]
  },
  {
   "cell_type": "code",
   "execution_count": 6,
   "metadata": {},
   "outputs": [],
   "source": [
    "# the reference is a person name\n",
    "# text = \"When Nathaniel Kahn embarked into this voyage, he hardly knew who his father really was. By the end of the film, he found him and comes to terms with the strange life he lived as a child.\"\n",
    "text = \"When Jane embarked into this voyage, she hardly knew who her father really was. By the end of the film, she found her and comes to terms with the strange life she lived as a child.\"\n",
    "# text = \"About your terrible movie copying Beethoven. As a professional musician it\\'s my duty to watch every movie made about any composer and Beethoven is one of my favorites. When Hungarians and Americans meet, it\\'s a terrible combination of empty over the top emotions combined with the worst taste possible. You proved it in your terrible b-movie. The only thing that carries the movie is the music. Of course you didn\\'t bother to look further than the good but in my taste contrived performances of the Tackacs quartet, but OK I have to admit that the performances at least have quality as contrast to the movie you\\'ve made. It starts of with the dying DEAF Beethoven who perfectly understands Anna who is merely whispering. Beethoven\\'s hearing during the movie get\\'s better by the minute, but that must be because of some vague divine thing. Then there is the quite impossible semi-pornographic \\\"eyes wide shut\\\" double-conducting scene which is totally over the top with the luscious Anna and the crying nephew in the end (who also cries in the deleted scenes with constant red eyes, my GOD what a performance). And as culmination the rip-off from Amadeus, with Beethoven dictating music to Anna not in notes but in total nonsense, which she understands perfectly but no-one else in your audience even trained professional musicians will understand. Of course your reaction will be that negative response is a response at least, but I can assure you that Beethoven himself is turning in his grave because of your worthless creation and with reason. This so called homage is blasphemy and I am so sorry to have rented one of the worst movies ever made even though it\\'s about my favorite subject. Ed Harris and others, you cannot comprehend the greatness of Beethoven in your wildest dreams and certainly not after a couple of lessons in conducting and violin playing. That's the trouble with you Americans: you think you can grasp everything even when it takes a lifetime of hard work. Yeah we can do it anyway! Remember that a good product comes with hard labor, talent, devotion and professionalism. All these you creators of Copying Beethoven lack. See you in kindergarten.\""
   ]
  },
  {
   "cell_type": "code",
   "execution_count": 7,
   "metadata": {},
   "outputs": [
    {
     "name": "stdout",
     "output_type": "stream",
     "text": [
      "TEMPLATE\n",
      "When <name> embarked into this voyage, she hardly knew who her father really was. By the end of the film, she found her and comes to terms with the strange life she lived as a child.\n"
     ]
    }
   ],
   "source": [
    "text = preprocessText(text)\n",
    "m = CountryMutantGeneration(text)\n",
    "print(\"TEMPLATE\")\n",
    "print(m.getTemplate())"
   ]
  },
  {
   "cell_type": "code",
   "execution_count": 8,
   "metadata": {},
   "outputs": [
    {
     "name": "stdout",
     "output_type": "stream",
     "text": [
      "27\n"
     ]
    },
    {
     "data": {
      "text/plain": [
       "['When Spogmai embarked into this voyage, she hardly knew who her father really was. By the end of the film, she found her and comes to terms with the strange life she lived as a child.',\n",
       " 'When Kimberle embarked into this voyage, she hardly knew who her father really was. By the end of the film, she found her and comes to terms with the strange life she lived as a child.',\n",
       " 'When Manyak embarked into this voyage, she hardly knew who her father really was. By the end of the film, she found her and comes to terms with the strange life she lived as a child.',\n",
       " 'When Tainaçã embarked into this voyage, she hardly knew who her father really was. By the end of the film, she found her and comes to terms with the strange life she lived as a child.',\n",
       " 'When Toniko embarked into this voyage, she hardly knew who her father really was. By the end of the film, she found her and comes to terms with the strange life she lived as a child.',\n",
       " 'When Bertička embarked into this voyage, she hardly knew who her father really was. By the end of the film, she found her and comes to terms with the strange life she lived as a child.',\n",
       " 'When Josefiina embarked into this voyage, she hardly knew who her father really was. By the end of the film, she found her and comes to terms with the strange life she lived as a child.',\n",
       " 'When Pitsa embarked into this voyage, she hardly knew who her father really was. By the end of the film, she found her and comes to terms with the strange life she lived as a child.',\n",
       " 'When Bske embarked into this voyage, she hardly knew who her father really was. By the end of the film, she found her and comes to terms with the strange life she lived as a child.',\n",
       " 'When Humaila embarked into this voyage, she hardly knew who her father really was. By the end of the film, she found her and comes to terms with the strange life she lived as a child.',\n",
       " 'When Avizeh embarked into this voyage, she hardly knew who her father really was. By the end of the film, she found her and comes to terms with the strange life she lived as a child.',\n",
       " 'When Jodilee embarked into this voyage, she hardly knew who her father really was. By the end of the film, she found her and comes to terms with the strange life she lived as a child.',\n",
       " 'When Narkis embarked into this voyage, she hardly knew who her father really was. By the end of the film, she found her and comes to terms with the strange life she lived as a child.',\n",
       " 'When \\ufeffGiulia embarked into this voyage, she hardly knew who her father really was. By the end of the film, she found her and comes to terms with the strange life she lived as a child.',\n",
       " 'When Anžela embarked into this voyage, she hardly knew who her father really was. By the end of the film, she found her and comes to terms with the strange life she lived as a child.',\n",
       " 'When Inger-Marie embarked into this voyage, she hardly knew who her father really was. By the end of the film, she found her and comes to terms with the strange life she lived as a child.',\n",
       " 'When Jaguś embarked into this voyage, she hardly knew who her father really was. By the end of the film, she found her and comes to terms with the strange life she lived as a child.',\n",
       " 'When Sânziana embarked into this voyage, she hardly knew who her father really was. By the end of the film, she found her and comes to terms with the strange life she lived as a child.',\n",
       " 'When Urška embarked into this voyage, she hardly knew who her father really was. By the end of the film, she found her and comes to terms with the strange life she lived as a child.',\n",
       " 'When Cambro embarked into this voyage, she hardly knew who her father really was. By the end of the film, she found her and comes to terms with the strange life she lived as a child.',\n",
       " 'When Maria Nieves embarked into this voyage, she hardly knew who her father really was. By the end of the film, she found her and comes to terms with the strange life she lived as a child.',\n",
       " 'When Felizia embarked into this voyage, she hardly knew who her father really was. By the end of the film, she found her and comes to terms with the strange life she lived as a child.',\n",
       " 'When Waltruda embarked into this voyage, she hardly knew who her father really was. By the end of the film, she found her and comes to terms with the strange life she lived as a child.',\n",
       " 'When Bağlan embarked into this voyage, she hardly knew who her father really was. By the end of the film, she found her and comes to terms with the strange life she lived as a child.',\n",
       " 'When Shontae embarked into this voyage, she hardly knew who her father really was. By the end of the film, she found her and comes to terms with the strange life she lived as a child.',\n",
       " 'When Lizzette embarked into this voyage, she hardly knew who her father really was. By the end of the film, she found her and comes to terms with the strange life she lived as a child.',\n",
       " 'When Bilomira embarked into this voyage, she hardly knew who her father really was. By the end of the film, she found her and comes to terms with the strange life she lived as a child.']"
      ]
     },
     "execution_count": 8,
     "metadata": {},
     "output_type": "execute_result"
    }
   ],
   "source": [
    "print(len(m.getMutants()))\n",
    "m.getMutants()"
   ]
  },
  {
   "cell_type": "markdown",
   "metadata": {},
   "source": [
    "### Example of replacing \\<gaw\\> placeholder "
   ]
  },
  {
   "cell_type": "code",
   "execution_count": 9,
   "metadata": {},
   "outputs": [],
   "source": [
    "text = \"Even the manic loony who hangs out with the bad guys in ”Mad Max” is there. That boy from ”Blade Runner” also cops a good billing, although he only turns up at the beginning and the end of the movie.\"\n",
    "# text = \"I'm sorry but I can't agree that this was a good movie. Yes, it looked good visually, but it's the story that drives the movie and I must say the story sucked bigtime. How in the world did they manage to slip some of those plotholes past the critics. Better story and I would've gave it a higher vote but I was impossible to do that and still be able to live with myself. I have always been a fan of scary movies, and the previews really had me fooled. All the scary scenes were shown in the previews. And why did the family that got killed stay to haunt the house? Why did the father come back again? WHy did he decide to kill in the first place? Why were the kids the only ones to see the ghosts first? To many questions, not enough answers. If I could've gave it a zero, I would've.\""
   ]
  },
  {
   "cell_type": "code",
   "execution_count": 10,
   "metadata": {},
   "outputs": [
    {
     "name": "stdout",
     "output_type": "stream",
     "text": [
      "TEMPLATE\n",
      "\n"
     ]
    }
   ],
   "source": [
    "text = preprocessText(text)\n",
    "m = CountryMutantGeneration(text)\n",
    "print(\"TEMPLATE\")\n",
    "print(m.getTemplate())"
   ]
  },
  {
   "cell_type": "code",
   "execution_count": 11,
   "metadata": {},
   "outputs": [
    {
     "data": {
      "text/plain": [
       "[]"
      ]
     },
     "execution_count": 11,
     "metadata": {},
     "output_type": "execute_result"
    }
   ],
   "source": [
    "m.getMutantExamples()"
   ]
  },
  {
   "cell_type": "code",
   "execution_count": 12,
   "metadata": {},
   "outputs": [
    {
     "name": "stdout",
     "output_type": "stream",
     "text": [
      "0\n"
     ]
    },
    {
     "data": {
      "text/plain": [
       "[]"
      ]
     },
     "execution_count": 12,
     "metadata": {},
     "output_type": "execute_result"
    }
   ],
   "source": [
    "print(len(m.getMutants()))\n",
    "m.getMutants()"
   ]
  },
  {
   "cell_type": "markdown",
   "metadata": {},
   "source": [
    "### Example of replacing \\<pro\\> placeholder only"
   ]
  },
  {
   "cell_type": "code",
   "execution_count": 13,
   "metadata": {},
   "outputs": [],
   "source": [
    "text = \"This movie is about a man who likes to blow himself up on gas containers. He also loves his mommy. So, to keep the money coming in, he takes his act to Broadway.\""
   ]
  },
  {
   "cell_type": "code",
   "execution_count": 14,
   "metadata": {},
   "outputs": [
    {
     "name": "stdout",
     "output_type": "stream",
     "text": [
      "TEMPLATE\n",
      "\n"
     ]
    }
   ],
   "source": [
    "text = preprocessText(text)\n",
    "m = CountryMutantGeneration(text)\n",
    "print(\"TEMPLATE\")\n",
    "print(m.getTemplate())"
   ]
  },
  {
   "cell_type": "code",
   "execution_count": 15,
   "metadata": {},
   "outputs": [
    {
     "data": {
      "text/plain": [
       "[]"
      ]
     },
     "execution_count": 15,
     "metadata": {},
     "output_type": "execute_result"
    }
   ],
   "source": [
    "m.getMutantExamples()"
   ]
  },
  {
   "cell_type": "code",
   "execution_count": 16,
   "metadata": {},
   "outputs": [
    {
     "name": "stdout",
     "output_type": "stream",
     "text": [
      "0\n"
     ]
    },
    {
     "data": {
      "text/plain": [
       "[]"
      ]
     },
     "execution_count": 16,
     "metadata": {},
     "output_type": "execute_result"
    }
   ],
   "source": [
    "print(len(m.getMutants()))\n",
    "m.getMutants()"
   ]
  },
  {
   "cell_type": "markdown",
   "metadata": {},
   "source": [
    "### Example of Discarded Template"
   ]
  },
  {
   "cell_type": "code",
   "execution_count": 30,
   "metadata": {},
   "outputs": [],
   "source": [
    "text = \"In this film I prefer Deacon Frost. He's so sexy! I love his glacial eyes! I like Stephen Dorff and the vampires, so I went to see it. I hope to see a gothic film with him. \\\" Blade \\\" it was very \\\" about the future \\\". If vampires had been real, I would be turned by Frost!\""
   ]
  },
  {
   "cell_type": "code",
   "execution_count": 17,
   "metadata": {},
   "outputs": [
    {
     "name": "stdout",
     "output_type": "stream",
     "text": [
      "TEMPLATE\n",
      "\n"
     ]
    }
   ],
   "source": [
    "text = preprocessText(text)\n",
    "m = CountryMutantGeneration(text)\n",
    "print(\"TEMPLATE\")\n",
    "print(m.getTemplate())"
   ]
  },
  {
   "cell_type": "code",
   "execution_count": 18,
   "metadata": {},
   "outputs": [
    {
     "data": {
      "text/plain": [
       "[]"
      ]
     },
     "execution_count": 18,
     "metadata": {},
     "output_type": "execute_result"
    }
   ],
   "source": [
    "m.getMutantExamples()"
   ]
  }
 ],
 "metadata": {
  "kernelspec": {
   "display_name": "Python 3",
   "language": "python",
   "name": "python3"
  },
  "language_info": {
   "codemirror_mode": {
    "name": "ipython",
    "version": 3
   },
   "file_extension": ".py",
   "mimetype": "text/x-python",
   "name": "python",
   "nbconvert_exporter": "python",
   "pygments_lexer": "ipython3",
   "version": "3.6.8"
  }
 },
 "nbformat": 4,
 "nbformat_minor": 4
}
