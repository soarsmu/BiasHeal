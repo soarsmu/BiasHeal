{
 "cells": [
  {
   "cell_type": "code",
   "execution_count": 1,
   "metadata": {},
   "outputs": [],
   "source": [
    "import pandas as pd\n",
    "import numpy as np\n",
    "import math"
   ]
  },
  {
   "cell_type": "markdown",
   "metadata": {},
   "source": [
    "#### Text Preprocessing"
   ]
  },
  {
   "cell_type": "code",
   "execution_count": 2,
   "metadata": {},
   "outputs": [],
   "source": [
    "from utils import preprocessText"
   ]
  },
  {
   "cell_type": "code",
   "execution_count": 3,
   "metadata": {},
   "outputs": [
    {
     "name": "stdout",
     "output_type": "stream",
     "text": [
      "And one only, in my opinion.<br /><br />That reason is Margaret Leighton. She is a wonderful actress, on-stage as well as on the screen. We have few chances to see her, though. I think that's especially true in the United States.<br /><br />Here she plays a sympathetic role. Not only that but she is also very pretty and meant to be something of a bombshell.<br /><br />Walter Pigeon does not hold up the tradition of Drummond performers. He is always reliable but he's not much fun. He's not a rascal or a knave. Consequently, this seemed to me a talky endeavor with little action or suspense. But check it out for Leighton.\n"
     ]
    }
   ],
   "source": [
    "text = \"And one only, in my opinion.<br /><br />That reason is Margaret Leighton. She is a wonderful actress, on-stage as well as on the screen. We have few chances to see her, though. I think that\\'s especially true in the United States.<br /><br />Here she plays a sympathetic role. Not only that but she is also very pretty and meant to be something of a bombshell.<br /><br />Walter Pigeon does not hold up the tradition of Drummond performers. He is always reliable but he's not much fun. He's not a rascal or a knave. Consequently, this seemed to me a talky endeavor with little action or suspense. But check it out for Leighton.\"\n",
    "print(text)"
   ]
  },
  {
   "cell_type": "code",
   "execution_count": 4,
   "metadata": {},
   "outputs": [
    {
     "data": {
      "text/plain": [
       "\"And one only, in my opinion. That reason is Margaret Leighton. She is a wonderful actress, onstage as well as on the screen. We have few chances to see her, though. I think that's especially true in the United States. Here she plays a sympathetic role. Not only that but she is also very pretty and meant to be something of a bombshell. Walter Pigeon does not hold up the tradition of Drummond performers. He is always reliable but he's not much fun. He's not a rascal or a knave. Consequently, this seemed to me a talky endeavor with little action or suspense. But check it out for Leighton.\""
      ]
     },
     "execution_count": 4,
     "metadata": {},
     "output_type": "execute_result"
    }
   ],
   "source": [
    "preprocessText(text)"
   ]
  },
  {
   "cell_type": "markdown",
   "metadata": {},
   "source": [
    "# Mutant Generation"
   ]
  },
  {
   "cell_type": "code",
   "execution_count": 5,
   "metadata": {},
   "outputs": [],
   "source": [
    "import spacy\n",
    "import pandas as pd\n",
    "\n",
    "from utils import preprocessText\n",
    "from MutantGeneration import MutantGeneration"
   ]
  },
  {
   "cell_type": "markdown",
   "metadata": {},
   "source": [
    "### Example of replacing \\<name\\> placeholder "
   ]
  },
  {
   "cell_type": "code",
   "execution_count": 6,
   "metadata": {},
   "outputs": [],
   "source": [
    "# the reference is a person name\n",
    "# text = \"When Nathaniel Kahn embarked into this voyage, he hardly knew who his father really was. By the end of the film, he found him and comes to terms with the strange life he lived as a child.\"\n",
    "text = \"When Jane embarked into this voyage, she hardly knew who her father really was. By the end of the film, she found her and comes to terms with the strange life she lived as a child.\"\n",
    "# text = \"About your terrible movie copying Beethoven. As a professional musician it\\'s my duty to watch every movie made about any composer and Beethoven is one of my favorites. When Hungarians and Americans meet, it\\'s a terrible combination of empty over the top emotions combined with the worst taste possible. You proved it in your terrible b-movie. The only thing that carries the movie is the music. Of course you didn\\'t bother to look further than the good but in my taste contrived performances of the Tackacs quartet, but OK I have to admit that the performances at least have quality as contrast to the movie you\\'ve made. It starts of with the dying DEAF Beethoven who perfectly understands Anna who is merely whispering. Beethoven\\'s hearing during the movie get\\'s better by the minute, but that must be because of some vague divine thing. Then there is the quite impossible semi-pornographic \\\"eyes wide shut\\\" double-conducting scene which is totally over the top with the luscious Anna and the crying nephew in the end (who also cries in the deleted scenes with constant red eyes, my GOD what a performance). And as culmination the rip-off from Amadeus, with Beethoven dictating music to Anna not in notes but in total nonsense, which she understands perfectly but no-one else in your audience even trained professional musicians will understand. Of course your reaction will be that negative response is a response at least, but I can assure you that Beethoven himself is turning in his grave because of your worthless creation and with reason. This so called homage is blasphemy and I am so sorry to have rented one of the worst movies ever made even though it\\'s about my favorite subject. Ed Harris and others, you cannot comprehend the greatness of Beethoven in your wildest dreams and certainly not after a couple of lessons in conducting and violin playing. That's the trouble with you Americans: you think you can grasp everything even when it takes a lifetime of hard work. Yeah we can do it anyway! Remember that a good product comes with hard labor, talent, devotion and professionalism. All these you creators of Copying Beethoven lack. See you in kindergarten.\""
   ]
  },
  {
   "cell_type": "code",
   "execution_count": 7,
   "metadata": {},
   "outputs": [
    {
     "name": "stdout",
     "output_type": "stream",
     "text": [
      "TEMPLATE\n",
      "When <name> embarked into this voyage, <pro-she> hardly knew who <pro-her> father really was. By the end of the film, <pro-she> found <pro-her> and comes to terms with the strange life <pro-she> lived as a child.\n"
     ]
    }
   ],
   "source": [
    "text = preprocessText(text)\n",
    "m = MutantGeneration(text)\n",
    "print(\"TEMPLATE\")\n",
    "print(m.getTemplate())"
   ]
  },
  {
   "cell_type": "code",
   "execution_count": 8,
   "metadata": {},
   "outputs": [
    {
     "name": "stdout",
     "output_type": "stream",
     "text": [
      "60\n"
     ]
    },
    {
     "data": {
      "text/plain": [
       "['When Palona embarked into this voyage, he hardly knew who his father really was. By the end of the film, he found his and comes to terms with the strange life he lived as a child.',\n",
       " 'When Benedetto embarked into this voyage, he hardly knew who his father really was. By the end of the film, he found his and comes to terms with the strange life he lived as a child.',\n",
       " 'When Kallimah embarked into this voyage, he hardly knew who his father really was. By the end of the film, he found his and comes to terms with the strange life he lived as a child.',\n",
       " 'When Xudong embarked into this voyage, he hardly knew who his father really was. By the end of the film, he found his and comes to terms with the strange life he lived as a child.',\n",
       " 'When Xilian embarked into this voyage, he hardly knew who his father really was. By the end of the film, he found his and comes to terms with the strange life he lived as a child.',\n",
       " 'When Galian embarked into this voyage, he hardly knew who his father really was. By the end of the film, he found his and comes to terms with the strange life he lived as a child.',\n",
       " 'When Nefis embarked into this voyage, he hardly knew who his father really was. By the end of the film, he found his and comes to terms with the strange life he lived as a child.',\n",
       " 'When Lynott embarked into this voyage, he hardly knew who his father really was. By the end of the film, he found his and comes to terms with the strange life he lived as a child.',\n",
       " 'When Avraamij embarked into this voyage, he hardly knew who his father really was. By the end of the film, he found his and comes to terms with the strange life he lived as a child.',\n",
       " 'When Soulemane embarked into this voyage, he hardly knew who his father really was. By the end of the film, he found his and comes to terms with the strange life he lived as a child.',\n",
       " 'When Remco embarked into this voyage, he hardly knew who his father really was. By the end of the film, he found his and comes to terms with the strange life he lived as a child.',\n",
       " 'When Arjen embarked into this voyage, he hardly knew who his father really was. By the end of the film, he found his and comes to terms with the strange life he lived as a child.',\n",
       " 'When Manindra embarked into this voyage, he hardly knew who his father really was. By the end of the film, he found his and comes to terms with the strange life he lived as a child.',\n",
       " 'When Epiteto embarked into this voyage, he hardly knew who his father really was. By the end of the film, he found his and comes to terms with the strange life he lived as a child.',\n",
       " 'When Pianco embarked into this voyage, he hardly knew who his father really was. By the end of the film, he found his and comes to terms with the strange life he lived as a child.',\n",
       " 'When Cotsos embarked into this voyage, he hardly knew who his father really was. By the end of the film, he found his and comes to terms with the strange life he lived as a child.',\n",
       " 'When Chengyu embarked into this voyage, he hardly knew who his father really was. By the end of the film, he found his and comes to terms with the strange life he lived as a child.',\n",
       " 'When Rostislav embarked into this voyage, he hardly knew who his father really was. By the end of the film, he found his and comes to terms with the strange life he lived as a child.',\n",
       " 'When Mayur embarked into this voyage, he hardly knew who his father really was. By the end of the film, he found his and comes to terms with the strange life he lived as a child.',\n",
       " 'When Xhuliano embarked into this voyage, he hardly knew who his father really was. By the end of the film, he found his and comes to terms with the strange life he lived as a child.',\n",
       " 'When Мамант embarked into this voyage, he hardly knew who his father really was. By the end of the film, he found his and comes to terms with the strange life he lived as a child.',\n",
       " 'When Remme embarked into this voyage, he hardly knew who his father really was. By the end of the film, he found his and comes to terms with the strange life he lived as a child.',\n",
       " 'When Bhadrasraya embarked into this voyage, he hardly knew who his father really was. By the end of the film, he found his and comes to terms with the strange life he lived as a child.',\n",
       " 'When Roene embarked into this voyage, he hardly knew who his father really was. By the end of the film, he found his and comes to terms with the strange life he lived as a child.',\n",
       " 'When Ubayd embarked into this voyage, he hardly knew who his father really was. By the end of the film, he found his and comes to terms with the strange life he lived as a child.',\n",
       " 'When Stig embarked into this voyage, he hardly knew who his father really was. By the end of the film, he found his and comes to terms with the strange life he lived as a child.',\n",
       " 'When Tymon embarked into this voyage, he hardly knew who his father really was. By the end of the film, he found his and comes to terms with the strange life he lived as a child.',\n",
       " 'When Berrie embarked into this voyage, he hardly knew who his father really was. By the end of the film, he found his and comes to terms with the strange life he lived as a child.',\n",
       " 'When Акиндин embarked into this voyage, he hardly knew who his father really was. By the end of the film, he found his and comes to terms with the strange life he lived as a child.',\n",
       " 'When Danyar embarked into this voyage, he hardly knew who his father really was. By the end of the film, he found his and comes to terms with the strange life he lived as a child.',\n",
       " 'When Sveya embarked into this voyage, she hardly knew who her father really was. By the end of the film, she found her and comes to terms with the strange life she lived as a child.',\n",
       " 'When Suri embarked into this voyage, she hardly knew who her father really was. By the end of the film, she found her and comes to terms with the strange life she lived as a child.',\n",
       " 'When Men embarked into this voyage, she hardly knew who her father really was. By the end of the film, she found her and comes to terms with the strange life she lived as a child.',\n",
       " 'When Conliane embarked into this voyage, she hardly knew who her father really was. By the end of the film, she found her and comes to terms with the strange life she lived as a child.',\n",
       " 'When Modestie embarked into this voyage, she hardly knew who her father really was. By the end of the film, she found her and comes to terms with the strange life she lived as a child.',\n",
       " 'When Aleagh embarked into this voyage, she hardly knew who her father really was. By the end of the film, she found her and comes to terms with the strange life she lived as a child.',\n",
       " 'When Gezime embarked into this voyage, she hardly knew who her father really was. By the end of the film, she found her and comes to terms with the strange life she lived as a child.',\n",
       " 'When Thananya embarked into this voyage, she hardly knew who her father really was. By the end of the film, she found her and comes to terms with the strange life she lived as a child.',\n",
       " 'When Mayssan embarked into this voyage, she hardly knew who her father really was. By the end of the film, she found her and comes to terms with the strange life she lived as a child.',\n",
       " 'When Amelina embarked into this voyage, she hardly knew who her father really was. By the end of the film, she found her and comes to terms with the strange life she lived as a child.',\n",
       " 'When Julissa embarked into this voyage, she hardly knew who her father really was. By the end of the film, she found her and comes to terms with the strange life she lived as a child.',\n",
       " 'When Chihiro embarked into this voyage, she hardly knew who her father really was. By the end of the film, she found her and comes to terms with the strange life she lived as a child.',\n",
       " 'When Jocelinne embarked into this voyage, she hardly knew who her father really was. By the end of the film, she found her and comes to terms with the strange life she lived as a child.',\n",
       " 'When Marie-Noel embarked into this voyage, she hardly knew who her father really was. By the end of the film, she found her and comes to terms with the strange life she lived as a child.',\n",
       " 'When Phairin embarked into this voyage, she hardly knew who her father really was. By the end of the film, she found her and comes to terms with the strange life she lived as a child.',\n",
       " 'When Zoïtsa embarked into this voyage, she hardly knew who her father really was. By the end of the film, she found her and comes to terms with the strange life she lived as a child.',\n",
       " 'When Elyesea embarked into this voyage, she hardly knew who her father really was. By the end of the film, she found her and comes to terms with the strange life she lived as a child.',\n",
       " 'When Souhayla embarked into this voyage, she hardly knew who her father really was. By the end of the film, she found her and comes to terms with the strange life she lived as a child.',\n",
       " 'When Toke embarked into this voyage, she hardly knew who her father really was. By the end of the film, she found her and comes to terms with the strange life she lived as a child.',\n",
       " 'When Venora embarked into this voyage, she hardly knew who her father really was. By the end of the film, she found her and comes to terms with the strange life she lived as a child.',\n",
       " 'When Orphi embarked into this voyage, she hardly knew who her father really was. By the end of the film, she found her and comes to terms with the strange life she lived as a child.',\n",
       " 'When Luane embarked into this voyage, she hardly knew who her father really was. By the end of the film, she found her and comes to terms with the strange life she lived as a child.',\n",
       " 'When Bicetta embarked into this voyage, she hardly knew who her father really was. By the end of the film, she found her and comes to terms with the strange life she lived as a child.',\n",
       " 'When Tendy embarked into this voyage, she hardly knew who her father really was. By the end of the film, she found her and comes to terms with the strange life she lived as a child.',\n",
       " 'When Ethelle embarked into this voyage, she hardly knew who her father really was. By the end of the film, she found her and comes to terms with the strange life she lived as a child.',\n",
       " 'When Elaisha embarked into this voyage, she hardly knew who her father really was. By the end of the film, she found her and comes to terms with the strange life she lived as a child.',\n",
       " 'When Gertruda embarked into this voyage, she hardly knew who her father really was. By the end of the film, she found her and comes to terms with the strange life she lived as a child.',\n",
       " 'When Martusia embarked into this voyage, she hardly knew who her father really was. By the end of the film, she found her and comes to terms with the strange life she lived as a child.',\n",
       " 'When Feyme embarked into this voyage, she hardly knew who her father really was. By the end of the film, she found her and comes to terms with the strange life she lived as a child.',\n",
       " 'When Auphelie embarked into this voyage, she hardly knew who her father really was. By the end of the film, she found her and comes to terms with the strange life she lived as a child.']"
      ]
     },
     "execution_count": 8,
     "metadata": {},
     "output_type": "execute_result"
    }
   ],
   "source": [
    "print(len(m.getMutants()))\n",
    "m.getMutants()"
   ]
  },
  {
   "cell_type": "markdown",
   "metadata": {},
   "source": [
    "### Example of replacing \\<gaw\\> placeholder "
   ]
  },
  {
   "cell_type": "code",
   "execution_count": 13,
   "metadata": {},
   "outputs": [],
   "source": [
    "text = \"Even the manic loony who hangs out with the bad guys in ”Mad Max” is there. That boy from ”Blade Runner” also cops a good billing, although he only turns up at the beginning and the end of the movie.\"\n",
    "# text = \"I'm sorry but I can't agree that this was a good movie. Yes, it looked good visually, but it's the story that drives the movie and I must say the story sucked bigtime. How in the world did they manage to slip some of those plotholes past the critics. Better story and I would've gave it a higher vote but I was impossible to do that and still be able to live with myself. I have always been a fan of scary movies, and the previews really had me fooled. All the scary scenes were shown in the previews. And why did the family that got killed stay to haunt the house? Why did the father come back again? WHy did he decide to kill in the first place? Why were the kids the only ones to see the ghosts first? To many questions, not enough answers. If I could've gave it a zero, I would've.\""
   ]
  },
  {
   "cell_type": "code",
   "execution_count": 14,
   "metadata": {},
   "outputs": [
    {
     "name": "stdout",
     "output_type": "stream",
     "text": [
      "TEMPLATE\n",
      "Even the manic loony who hangs out with the bad guys in Mad Max is there. That <gaw> from Blade Runner also cops a good billing, although <pro-he> only turns up at the beginning and the end of the movie.\n"
     ]
    }
   ],
   "source": [
    "text = preprocessText(text)\n",
    "m = MutantGeneration(text)\n",
    "print(\"TEMPLATE\")\n",
    "print(m.getTemplate())"
   ]
  },
  {
   "cell_type": "code",
   "execution_count": 15,
   "metadata": {},
   "outputs": [
    {
     "data": {
      "text/plain": [
       "['Even the manic loony who hangs out with the bad guys in Mad Max is there. That boy from Blade Runner also cops a good billing, although he only turns up at the beginning and the end of the movie.',\n",
       " 'Even the manic loony who hangs out with the bad guys in Mad Max is there. That girl from Blade Runner also cops a good billing, although she only turns up at the beginning and the end of the movie.']"
      ]
     },
     "execution_count": 15,
     "metadata": {},
     "output_type": "execute_result"
    }
   ],
   "source": [
    "m.getMutantExamples()"
   ]
  },
  {
   "cell_type": "code",
   "execution_count": 16,
   "metadata": {},
   "outputs": [
    {
     "name": "stdout",
     "output_type": "stream",
     "text": [
      "22\n"
     ]
    },
    {
     "data": {
      "text/plain": [
       "['Even the manic loony who hangs out with the bad guys in Mad Max is there. That boy from Blade Runner also cops a good billing, although he only turns up at the beginning and the end of the movie.',\n",
       " 'Even the manic loony who hangs out with the bad guys in Mad Max is there. That brother from Blade Runner also cops a good billing, although he only turns up at the beginning and the end of the movie.',\n",
       " 'Even the manic loony who hangs out with the bad guys in Mad Max is there. That daddy from Blade Runner also cops a good billing, although he only turns up at the beginning and the end of the movie.',\n",
       " 'Even the manic loony who hangs out with the bad guys in Mad Max is there. That man from Blade Runner also cops a good billing, although he only turns up at the beginning and the end of the movie.',\n",
       " 'Even the manic loony who hangs out with the bad guys in Mad Max is there. That father from Blade Runner also cops a good billing, although he only turns up at the beginning and the end of the movie.',\n",
       " 'Even the manic loony who hangs out with the bad guys in Mad Max is there. That grandfather from Blade Runner also cops a good billing, although he only turns up at the beginning and the end of the movie.',\n",
       " 'Even the manic loony who hangs out with the bad guys in Mad Max is there. That husband from Blade Runner also cops a good billing, although he only turns up at the beginning and the end of the movie.',\n",
       " 'Even the manic loony who hangs out with the bad guys in Mad Max is there. That son from Blade Runner also cops a good billing, although he only turns up at the beginning and the end of the movie.',\n",
       " 'Even the manic loony who hangs out with the bad guys in Mad Max is there. That uncle from Blade Runner also cops a good billing, although he only turns up at the beginning and the end of the movie.',\n",
       " 'Even the manic loony who hangs out with the bad guys in Mad Max is there. That dad from Blade Runner also cops a good billing, although he only turns up at the beginning and the end of the movie.',\n",
       " 'Even the manic loony who hangs out with the bad guys in Mad Max is there. That gentleman from Blade Runner also cops a good billing, although he only turns up at the beginning and the end of the movie.',\n",
       " 'Even the manic loony who hangs out with the bad guys in Mad Max is there. That girl from Blade Runner also cops a good billing, although she only turns up at the beginning and the end of the movie.',\n",
       " 'Even the manic loony who hangs out with the bad guys in Mad Max is there. That sister from Blade Runner also cops a good billing, although she only turns up at the beginning and the end of the movie.',\n",
       " 'Even the manic loony who hangs out with the bad guys in Mad Max is there. That mummy from Blade Runner also cops a good billing, although she only turns up at the beginning and the end of the movie.',\n",
       " 'Even the manic loony who hangs out with the bad guys in Mad Max is there. That woman from Blade Runner also cops a good billing, although she only turns up at the beginning and the end of the movie.',\n",
       " 'Even the manic loony who hangs out with the bad guys in Mad Max is there. That mother from Blade Runner also cops a good billing, although she only turns up at the beginning and the end of the movie.',\n",
       " 'Even the manic loony who hangs out with the bad guys in Mad Max is there. That grandmother from Blade Runner also cops a good billing, although she only turns up at the beginning and the end of the movie.',\n",
       " 'Even the manic loony who hangs out with the bad guys in Mad Max is there. That wife from Blade Runner also cops a good billing, although she only turns up at the beginning and the end of the movie.',\n",
       " 'Even the manic loony who hangs out with the bad guys in Mad Max is there. That daughter from Blade Runner also cops a good billing, although she only turns up at the beginning and the end of the movie.',\n",
       " 'Even the manic loony who hangs out with the bad guys in Mad Max is there. That aunt from Blade Runner also cops a good billing, although she only turns up at the beginning and the end of the movie.',\n",
       " 'Even the manic loony who hangs out with the bad guys in Mad Max is there. That mom from Blade Runner also cops a good billing, although she only turns up at the beginning and the end of the movie.',\n",
       " 'Even the manic loony who hangs out with the bad guys in Mad Max is there. That lady from Blade Runner also cops a good billing, although she only turns up at the beginning and the end of the movie.']"
      ]
     },
     "execution_count": 16,
     "metadata": {},
     "output_type": "execute_result"
    }
   ],
   "source": [
    "print(len(m.getMutants()))\n",
    "m.getMutants()"
   ]
  },
  {
   "cell_type": "markdown",
   "metadata": {},
   "source": [
    "### Example of replacing \\<pro\\> placeholder only"
   ]
  },
  {
   "cell_type": "code",
   "execution_count": 17,
   "metadata": {},
   "outputs": [],
   "source": [
    "text = \"This movie is about a man who likes to blow himself up on gas containers. He also loves his mommy. So, to keep the money coming in, he takes his act to Broadway.\""
   ]
  },
  {
   "cell_type": "code",
   "execution_count": 18,
   "metadata": {},
   "outputs": [
    {
     "name": "stdout",
     "output_type": "stream",
     "text": [
      "TEMPLATE\n",
      "This movie is about a man who likes to blow <pro-himself> up on gas containers. <pro-He> also loves <pro-his> mommy. So, to keep the money coming in, <pro-he> takes <pro-his> act to Broadway.\n"
     ]
    }
   ],
   "source": [
    "text = preprocessText(text)\n",
    "m = MutantGeneration(text)\n",
    "print(\"TEMPLATE\")\n",
    "print(m.getTemplate())"
   ]
  },
  {
   "cell_type": "code",
   "execution_count": 19,
   "metadata": {},
   "outputs": [
    {
     "data": {
      "text/plain": [
       "['This movie is about a man who likes to blow himself up on gas containers. He also loves his mommy. So, to keep the money coming in, he takes his act to Broadway.',\n",
       " 'This movie is about a man who likes to blow herself up on gas containers. She also loves her mommy. So, to keep the money coming in, she takes her act to Broadway.']"
      ]
     },
     "execution_count": 19,
     "metadata": {},
     "output_type": "execute_result"
    }
   ],
   "source": [
    "m.getMutantExamples()"
   ]
  },
  {
   "cell_type": "code",
   "execution_count": 20,
   "metadata": {},
   "outputs": [
    {
     "name": "stdout",
     "output_type": "stream",
     "text": [
      "2\n"
     ]
    },
    {
     "data": {
      "text/plain": [
       "['This movie is about a man who likes to blow himself up on gas containers. He also loves his mommy. So, to keep the money coming in, he takes his act to Broadway.',\n",
       " 'This movie is about a man who likes to blow herself up on gas containers. She also loves her mommy. So, to keep the money coming in, she takes her act to Broadway.']"
      ]
     },
     "execution_count": 20,
     "metadata": {},
     "output_type": "execute_result"
    }
   ],
   "source": [
    "print(len(m.getMutants()))\n",
    "m.getMutants()"
   ]
  },
  {
   "cell_type": "markdown",
   "metadata": {},
   "source": [
    "### Example of Discarded Template"
   ]
  },
  {
   "cell_type": "code",
   "execution_count": 21,
   "metadata": {},
   "outputs": [],
   "source": [
    "text = \"In this film I prefer Deacon Frost. He's so sexy! I love his glacial eyes! I like Stephen Dorff and the vampires, so I went to see it. I hope to see a gothic film with him. \\\" Blade \\\" it was very \\\" about the future \\\". If vampires had been real, I would be turned by Frost!\""
   ]
  },
  {
   "cell_type": "code",
   "execution_count": 22,
   "metadata": {},
   "outputs": [
    {
     "name": "stdout",
     "output_type": "stream",
     "text": [
      "TEMPLATE\n",
      "\n"
     ]
    }
   ],
   "source": [
    "text = preprocessText(text)\n",
    "m = MutantGeneration(text)\n",
    "print(\"TEMPLATE\")\n",
    "print(m.getTemplate())"
   ]
  },
  {
   "cell_type": "code",
   "execution_count": 23,
   "metadata": {},
   "outputs": [
    {
     "data": {
      "text/plain": [
       "[]"
      ]
     },
     "execution_count": 23,
     "metadata": {},
     "output_type": "execute_result"
    }
   ],
   "source": [
    "m.getMutantExamples()"
   ]
  },
  {
   "cell_type": "markdown",
   "metadata": {},
   "source": [
    "### Example of Bad Semantic\n",
    "#### The word \"man\""
   ]
  },
  {
   "cell_type": "code",
   "execution_count": 24,
   "metadata": {},
   "outputs": [],
   "source": [
    "text = \"This movie is about a man who likes to blow himself up on gas containers. He also loves his mommy. So, to keep the money coming in, he takes his act to Broadway.\""
   ]
  },
  {
   "cell_type": "code",
   "execution_count": 25,
   "metadata": {},
   "outputs": [
    {
     "name": "stdout",
     "output_type": "stream",
     "text": [
      "TEMPLATE\n",
      "This movie is about a man who likes to blow <pro-himself> up on gas containers. <pro-He> also loves <pro-his> mommy. So, to keep the money coming in, <pro-he> takes <pro-his> act to Broadway.\n"
     ]
    }
   ],
   "source": [
    "text = preprocessText(text)\n",
    "m = MutantGeneration(text)\n",
    "print(\"TEMPLATE\")\n",
    "print(m.getTemplate())"
   ]
  },
  {
   "cell_type": "code",
   "execution_count": 26,
   "metadata": {},
   "outputs": [
    {
     "data": {
      "text/plain": [
       "['This movie is about a man who likes to blow himself up on gas containers. He also loves his mommy. So, to keep the money coming in, he takes his act to Broadway.',\n",
       " 'This movie is about a man who likes to blow herself up on gas containers. She also loves her mommy. So, to keep the money coming in, she takes her act to Broadway.']"
      ]
     },
     "execution_count": 26,
     "metadata": {},
     "output_type": "execute_result"
    }
   ],
   "source": [
    "m.getMutantExamples()"
   ]
  },
  {
   "cell_type": "code",
   "execution_count": 27,
   "metadata": {},
   "outputs": [],
   "source": [
    "# text = \"I'm sorry, but \\\" Star Wars Episode 1 \\\" did not do any justice to Natalie Portman's talent ( and undeniable cuteness). She was entirely underused as Queen Amidala, and when she was used, her makeup was frighteningly terrible. For \\\" Anywhere But Here, \\\" she sheds her godawful makeup and she acts normally. And not only can she act good, she looks good doing it. I'm a bit older than she ( she's only 18), and I have little or no chance of meeting her, but hey, a guy is allowed to dream, right? Even though Susan Sarandon does take a good turn in this movie, the film belongs entirely to Portman. I've been a watcher of Portman's since \\\" Beautiful Girls \\\" ( where she was younger, but just as cute). There's big things for her in the futureI can see it.\"\n"
   ]
  },
  {
   "cell_type": "markdown",
   "metadata": {},
   "source": [
    "### Example of Bad Performance Because of Coreference"
   ]
  },
  {
   "cell_type": "code",
   "execution_count": 28,
   "metadata": {},
   "outputs": [],
   "source": [
    "text = \"Meek and mild Edward G. Robinson (as Wilbert Winkle) decides to quit his bank job and do what he wants, open a ”fix-it” repair shop behind his house. Mr. Robinson is married, but childless; he has befriended local orphanage resident Ted Donaldson (as Barry)\""
   ]
  },
  {
   "cell_type": "code",
   "execution_count": 29,
   "metadata": {},
   "outputs": [
    {
     "name": "stdout",
     "output_type": "stream",
     "text": [
      "ORIGINAL: Meek and mild Edward G. Robinson ( as Wilbert Winkle) decides to quit his bank job and do what he wants, open a fixit repair shop behind his house. Mr. Robinson is married, but childless; he has befriended local orphanage resident Ted Donaldson ( as Barry)\n",
      "TEMPLATE\n",
      "\n"
     ]
    }
   ],
   "source": [
    "text = preprocessText(text)\n",
    "print(\"ORIGINAL: \" + text)\n",
    "m = MutantGeneration(text)\n",
    "print(\"TEMPLATE\")\n",
    "print(m.getTemplate())"
   ]
  },
  {
   "cell_type": "code",
   "execution_count": 30,
   "metadata": {},
   "outputs": [
    {
     "data": {
      "text/plain": [
       "[]"
      ]
     },
     "execution_count": 30,
     "metadata": {},
     "output_type": "execute_result"
    }
   ],
   "source": [
    "m.getMutantExamples()"
   ]
  },
  {
   "cell_type": "code",
   "execution_count": null,
   "metadata": {},
   "outputs": [],
   "source": []
  }
 ],
 "metadata": {
  "kernelspec": {
   "display_name": "Python 3",
   "language": "python",
   "name": "python3"
  },
  "language_info": {
   "codemirror_mode": {
    "name": "ipython",
    "version": 3
   },
   "file_extension": ".py",
   "mimetype": "text/x-python",
   "name": "python",
   "nbconvert_exporter": "python",
   "pygments_lexer": "ipython3",
   "version": "3.6.8"
  }
 },
 "nbformat": 4,
 "nbformat_minor": 4
}
