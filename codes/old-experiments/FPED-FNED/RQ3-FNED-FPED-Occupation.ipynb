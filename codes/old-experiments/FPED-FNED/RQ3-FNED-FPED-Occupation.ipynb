{
 "cells": [
  {
   "cell_type": "markdown",
   "metadata": {},
   "source": [
    "## FNED and FPED Implementation"
   ]
  },
  {
   "cell_type": "code",
   "execution_count": 1,
   "metadata": {},
   "outputs": [],
   "source": [
    "import pandas as pd\n",
    "import numpy as np\n",
    "import math"
   ]
  },
  {
   "cell_type": "markdown",
   "metadata": {},
   "source": [
    "#### Read Original Data"
   ]
  },
  {
   "cell_type": "code",
   "execution_count": 3,
   "metadata": {},
   "outputs": [
    {
     "data": {
      "text/html": [
       "<div>\n",
       "<style scoped>\n",
       "    .dataframe tbody tr th:only-of-type {\n",
       "        vertical-align: middle;\n",
       "    }\n",
       "\n",
       "    .dataframe tbody tr th {\n",
       "        vertical-align: top;\n",
       "    }\n",
       "\n",
       "    .dataframe thead th {\n",
       "        text-align: right;\n",
       "    }\n",
       "</style>\n",
       "<table border=\"1\" class=\"dataframe\">\n",
       "  <thead>\n",
       "    <tr style=\"text-align: right;\">\n",
       "      <th></th>\n",
       "      <th>mutant</th>\n",
       "      <th>template</th>\n",
       "      <th>original</th>\n",
       "      <th>occupation</th>\n",
       "      <th>label</th>\n",
       "    </tr>\n",
       "  </thead>\n",
       "  <tbody>\n",
       "    <tr>\n",
       "      <th>0</th>\n",
       "      <td>b \" THE PLOT: A trucker (Kristofferson) battle...</td>\n",
       "      <td>b \" THE PLOT: A trucker (Kristofferson) battle...</td>\n",
       "      <td>b \" THE PLOT: A trucker ( Kristofferson) battl...</td>\n",
       "      <td>attendant</td>\n",
       "      <td>0</td>\n",
       "    </tr>\n",
       "    <tr>\n",
       "      <th>1</th>\n",
       "      <td>b \" THE PLOT: A trucker (Kristofferson) battle...</td>\n",
       "      <td>b \" THE PLOT: A trucker (Kristofferson) battle...</td>\n",
       "      <td>b \" THE PLOT: A trucker ( Kristofferson) battl...</td>\n",
       "      <td>cashier</td>\n",
       "      <td>0</td>\n",
       "    </tr>\n",
       "    <tr>\n",
       "      <th>2</th>\n",
       "      <td>b \" THE PLOT: A trucker (Kristofferson) battle...</td>\n",
       "      <td>b \" THE PLOT: A trucker (Kristofferson) battle...</td>\n",
       "      <td>b \" THE PLOT: A trucker ( Kristofferson) battl...</td>\n",
       "      <td>teacher</td>\n",
       "      <td>0</td>\n",
       "    </tr>\n",
       "    <tr>\n",
       "      <th>3</th>\n",
       "      <td>b \" THE PLOT: A trucker (Kristofferson) battle...</td>\n",
       "      <td>b \" THE PLOT: A trucker (Kristofferson) battle...</td>\n",
       "      <td>b \" THE PLOT: A trucker ( Kristofferson) battl...</td>\n",
       "      <td>nurse</td>\n",
       "      <td>0</td>\n",
       "    </tr>\n",
       "    <tr>\n",
       "      <th>4</th>\n",
       "      <td>b \" THE PLOT: A trucker (Kristofferson) battle...</td>\n",
       "      <td>b \" THE PLOT: A trucker (Kristofferson) battle...</td>\n",
       "      <td>b \" THE PLOT: A trucker ( Kristofferson) battl...</td>\n",
       "      <td>assistant</td>\n",
       "      <td>0</td>\n",
       "    </tr>\n",
       "    <tr>\n",
       "      <th>...</th>\n",
       "      <td>...</td>\n",
       "      <td>...</td>\n",
       "      <td>...</td>\n",
       "      <td>...</td>\n",
       "      <td>...</td>\n",
       "    </tr>\n",
       "    <tr>\n",
       "      <th>704596</th>\n",
       "      <td>b ' I watched \" Fuckland \" a long time ago. I ...</td>\n",
       "      <td>b ' I watched \" Fuckland \" a long time ago. I ...</td>\n",
       "      <td>b ' I watched \" Fuckland \" a long time ago. I ...</td>\n",
       "      <td>nutritionist</td>\n",
       "      <td>0</td>\n",
       "    </tr>\n",
       "    <tr>\n",
       "      <th>704597</th>\n",
       "      <td>b ' I watched \" Fuckland \" a long time ago. I ...</td>\n",
       "      <td>b ' I watched \" Fuckland \" a long time ago. I ...</td>\n",
       "      <td>b ' I watched \" Fuckland \" a long time ago. I ...</td>\n",
       "      <td>photographer</td>\n",
       "      <td>0</td>\n",
       "    </tr>\n",
       "    <tr>\n",
       "      <th>704598</th>\n",
       "      <td>b ' I watched \" Fuckland \" a long time ago. I ...</td>\n",
       "      <td>b ' I watched \" Fuckland \" a long time ago. I ...</td>\n",
       "      <td>b ' I watched \" Fuckland \" a long time ago. I ...</td>\n",
       "      <td>police officer</td>\n",
       "      <td>0</td>\n",
       "    </tr>\n",
       "    <tr>\n",
       "      <th>704599</th>\n",
       "      <td>b ' I watched \" Fuckland \" a long time ago. I ...</td>\n",
       "      <td>b ' I watched \" Fuckland \" a long time ago. I ...</td>\n",
       "      <td>b ' I watched \" Fuckland \" a long time ago. I ...</td>\n",
       "      <td>singer</td>\n",
       "      <td>0</td>\n",
       "    </tr>\n",
       "    <tr>\n",
       "      <th>704600</th>\n",
       "      <td>b ' I watched \" Fuckland \" a long time ago. I ...</td>\n",
       "      <td>b ' I watched \" Fuckland \" a long time ago. I ...</td>\n",
       "      <td>b ' I watched \" Fuckland \" a long time ago. I ...</td>\n",
       "      <td>undertaker</td>\n",
       "      <td>0</td>\n",
       "    </tr>\n",
       "  </tbody>\n",
       "</table>\n",
       "<p>704601 rows × 5 columns</p>\n",
       "</div>"
      ],
      "text/plain": [
       "                                                   mutant  \\\n",
       "0       b \" THE PLOT: A trucker (Kristofferson) battle...   \n",
       "1       b \" THE PLOT: A trucker (Kristofferson) battle...   \n",
       "2       b \" THE PLOT: A trucker (Kristofferson) battle...   \n",
       "3       b \" THE PLOT: A trucker (Kristofferson) battle...   \n",
       "4       b \" THE PLOT: A trucker (Kristofferson) battle...   \n",
       "...                                                   ...   \n",
       "704596  b ' I watched \" Fuckland \" a long time ago. I ...   \n",
       "704597  b ' I watched \" Fuckland \" a long time ago. I ...   \n",
       "704598  b ' I watched \" Fuckland \" a long time ago. I ...   \n",
       "704599  b ' I watched \" Fuckland \" a long time ago. I ...   \n",
       "704600  b ' I watched \" Fuckland \" a long time ago. I ...   \n",
       "\n",
       "                                                 template  \\\n",
       "0       b \" THE PLOT: A trucker (Kristofferson) battle...   \n",
       "1       b \" THE PLOT: A trucker (Kristofferson) battle...   \n",
       "2       b \" THE PLOT: A trucker (Kristofferson) battle...   \n",
       "3       b \" THE PLOT: A trucker (Kristofferson) battle...   \n",
       "4       b \" THE PLOT: A trucker (Kristofferson) battle...   \n",
       "...                                                   ...   \n",
       "704596  b ' I watched \" Fuckland \" a long time ago. I ...   \n",
       "704597  b ' I watched \" Fuckland \" a long time ago. I ...   \n",
       "704598  b ' I watched \" Fuckland \" a long time ago. I ...   \n",
       "704599  b ' I watched \" Fuckland \" a long time ago. I ...   \n",
       "704600  b ' I watched \" Fuckland \" a long time ago. I ...   \n",
       "\n",
       "                                                 original      occupation  \\\n",
       "0       b \" THE PLOT: A trucker ( Kristofferson) battl...       attendant   \n",
       "1       b \" THE PLOT: A trucker ( Kristofferson) battl...         cashier   \n",
       "2       b \" THE PLOT: A trucker ( Kristofferson) battl...         teacher   \n",
       "3       b \" THE PLOT: A trucker ( Kristofferson) battl...           nurse   \n",
       "4       b \" THE PLOT: A trucker ( Kristofferson) battl...       assistant   \n",
       "...                                                   ...             ...   \n",
       "704596  b ' I watched \" Fuckland \" a long time ago. I ...    nutritionist   \n",
       "704597  b ' I watched \" Fuckland \" a long time ago. I ...    photographer   \n",
       "704598  b ' I watched \" Fuckland \" a long time ago. I ...  police officer   \n",
       "704599  b ' I watched \" Fuckland \" a long time ago. I ...          singer   \n",
       "704600  b ' I watched \" Fuckland \" a long time ago. I ...      undertaker   \n",
       "\n",
       "        label  \n",
       "0           0  \n",
       "1           0  \n",
       "2           0  \n",
       "3           0  \n",
       "4           0  \n",
       "...       ...  \n",
       "704596      0  \n",
       "704597      0  \n",
       "704598      0  \n",
       "704599      0  \n",
       "704600      0  \n",
       "\n",
       "[704601 rows x 5 columns]"
      ]
     },
     "execution_count": 3,
     "metadata": {},
     "output_type": "execute_result"
    }
   ],
   "source": [
    "data_dir = \"occ\"\n",
    "df = pd.read_csv(\"occ-age/prepared/\" + data_dir + \".csv\")\n",
    "df[\"label\"] = df[\"0\"]\n",
    "df = df.iloc[:,2:]\n",
    "df"
   ]
  },
  {
   "cell_type": "markdown",
   "metadata": {},
   "source": [
    "#### Read Prediction Result from the Model\n",
    "\n",
    "Make sure you set variable `ouput_dir` with the same `output_dir` in the fine-tuning parameter"
   ]
  },
  {
   "cell_type": "code",
   "execution_count": 4,
   "metadata": {},
   "outputs": [],
   "source": [
    "def read_txt(fpath):\n",
    "    pred = []\n",
    "    file = open(fpath)\n",
    "    lines = file.readlines()\n",
    "    for l in lines :\n",
    "        pred.append(int(l))\n",
    "    file.close()\n",
    "    \n",
    "    return pred"
   ]
  },
  {
   "cell_type": "code",
   "execution_count": 8,
   "metadata": {},
   "outputs": [
    {
     "name": "stdout",
     "output_type": "stream",
     "text": [
      "704601\n"
     ]
    }
   ],
   "source": [
    "output_dir = \"occupation\"\n",
    "\n",
    "result_dir = \"../result/\" + output_dir + \"/\"\n",
    "\n",
    "path = result_dir + \"results_data.txt\"\n",
    "\n",
    "pred = read_txt(path)\n",
    "\n",
    "print(len(pred))"
   ]
  },
  {
   "cell_type": "code",
   "execution_count": 9,
   "metadata": {},
   "outputs": [],
   "source": [
    "df[\"prediction\"] = pred\n",
    "# df[\"label\"] = df[0]"
   ]
  },
  {
   "cell_type": "code",
   "execution_count": 10,
   "metadata": {},
   "outputs": [
    {
     "data": {
      "text/html": [
       "<div>\n",
       "<style scoped>\n",
       "    .dataframe tbody tr th:only-of-type {\n",
       "        vertical-align: middle;\n",
       "    }\n",
       "\n",
       "    .dataframe tbody tr th {\n",
       "        vertical-align: top;\n",
       "    }\n",
       "\n",
       "    .dataframe thead th {\n",
       "        text-align: right;\n",
       "    }\n",
       "</style>\n",
       "<table border=\"1\" class=\"dataframe\">\n",
       "  <thead>\n",
       "    <tr style=\"text-align: right;\">\n",
       "      <th></th>\n",
       "      <th>mutant</th>\n",
       "      <th>template</th>\n",
       "      <th>original</th>\n",
       "      <th>occupation</th>\n",
       "      <th>label</th>\n",
       "      <th>prediction</th>\n",
       "    </tr>\n",
       "  </thead>\n",
       "  <tbody>\n",
       "    <tr>\n",
       "      <th>0</th>\n",
       "      <td>b \" THE PLOT: A trucker (Kristofferson) battle...</td>\n",
       "      <td>b \" THE PLOT: A trucker (Kristofferson) battle...</td>\n",
       "      <td>b \" THE PLOT: A trucker ( Kristofferson) battl...</td>\n",
       "      <td>attendant</td>\n",
       "      <td>0</td>\n",
       "      <td>0</td>\n",
       "    </tr>\n",
       "    <tr>\n",
       "      <th>1</th>\n",
       "      <td>b \" THE PLOT: A trucker (Kristofferson) battle...</td>\n",
       "      <td>b \" THE PLOT: A trucker (Kristofferson) battle...</td>\n",
       "      <td>b \" THE PLOT: A trucker ( Kristofferson) battl...</td>\n",
       "      <td>cashier</td>\n",
       "      <td>0</td>\n",
       "      <td>0</td>\n",
       "    </tr>\n",
       "    <tr>\n",
       "      <th>2</th>\n",
       "      <td>b \" THE PLOT: A trucker (Kristofferson) battle...</td>\n",
       "      <td>b \" THE PLOT: A trucker (Kristofferson) battle...</td>\n",
       "      <td>b \" THE PLOT: A trucker ( Kristofferson) battl...</td>\n",
       "      <td>teacher</td>\n",
       "      <td>0</td>\n",
       "      <td>0</td>\n",
       "    </tr>\n",
       "    <tr>\n",
       "      <th>3</th>\n",
       "      <td>b \" THE PLOT: A trucker (Kristofferson) battle...</td>\n",
       "      <td>b \" THE PLOT: A trucker (Kristofferson) battle...</td>\n",
       "      <td>b \" THE PLOT: A trucker ( Kristofferson) battl...</td>\n",
       "      <td>nurse</td>\n",
       "      <td>0</td>\n",
       "      <td>0</td>\n",
       "    </tr>\n",
       "    <tr>\n",
       "      <th>4</th>\n",
       "      <td>b \" THE PLOT: A trucker (Kristofferson) battle...</td>\n",
       "      <td>b \" THE PLOT: A trucker (Kristofferson) battle...</td>\n",
       "      <td>b \" THE PLOT: A trucker ( Kristofferson) battl...</td>\n",
       "      <td>assistant</td>\n",
       "      <td>0</td>\n",
       "      <td>0</td>\n",
       "    </tr>\n",
       "  </tbody>\n",
       "</table>\n",
       "</div>"
      ],
      "text/plain": [
       "                                              mutant  \\\n",
       "0  b \" THE PLOT: A trucker (Kristofferson) battle...   \n",
       "1  b \" THE PLOT: A trucker (Kristofferson) battle...   \n",
       "2  b \" THE PLOT: A trucker (Kristofferson) battle...   \n",
       "3  b \" THE PLOT: A trucker (Kristofferson) battle...   \n",
       "4  b \" THE PLOT: A trucker (Kristofferson) battle...   \n",
       "\n",
       "                                            template  \\\n",
       "0  b \" THE PLOT: A trucker (Kristofferson) battle...   \n",
       "1  b \" THE PLOT: A trucker (Kristofferson) battle...   \n",
       "2  b \" THE PLOT: A trucker (Kristofferson) battle...   \n",
       "3  b \" THE PLOT: A trucker (Kristofferson) battle...   \n",
       "4  b \" THE PLOT: A trucker (Kristofferson) battle...   \n",
       "\n",
       "                                            original occupation  label  \\\n",
       "0  b \" THE PLOT: A trucker ( Kristofferson) battl...  attendant      0   \n",
       "1  b \" THE PLOT: A trucker ( Kristofferson) battl...    cashier      0   \n",
       "2  b \" THE PLOT: A trucker ( Kristofferson) battl...    teacher      0   \n",
       "3  b \" THE PLOT: A trucker ( Kristofferson) battl...      nurse      0   \n",
       "4  b \" THE PLOT: A trucker ( Kristofferson) battl...  assistant      0   \n",
       "\n",
       "   prediction  \n",
       "0           0  \n",
       "1           0  \n",
       "2           0  \n",
       "3           0  \n",
       "4           0  "
      ]
     },
     "execution_count": 10,
     "metadata": {},
     "output_type": "execute_result"
    }
   ],
   "source": [
    "df.head()"
   ]
  },
  {
   "cell_type": "markdown",
   "metadata": {},
   "source": [
    "#### Group by Occupation\n",
    "\n",
    "In this case, we group by `occupation`."
   ]
  },
  {
   "cell_type": "code",
   "execution_count": 12,
   "metadata": {},
   "outputs": [
    {
     "data": {
      "text/html": [
       "<div>\n",
       "<style scoped>\n",
       "    .dataframe tbody tr th:only-of-type {\n",
       "        vertical-align: middle;\n",
       "    }\n",
       "\n",
       "    .dataframe tbody tr th {\n",
       "        vertical-align: top;\n",
       "    }\n",
       "\n",
       "    .dataframe thead th {\n",
       "        text-align: right;\n",
       "    }\n",
       "</style>\n",
       "<table border=\"1\" class=\"dataframe\">\n",
       "  <thead>\n",
       "    <tr style=\"text-align: right;\">\n",
       "      <th></th>\n",
       "      <th>mutant</th>\n",
       "      <th>template</th>\n",
       "      <th>original</th>\n",
       "      <th>label</th>\n",
       "      <th>prediction</th>\n",
       "    </tr>\n",
       "    <tr>\n",
       "      <th>occupation</th>\n",
       "      <th></th>\n",
       "      <th></th>\n",
       "      <th></th>\n",
       "      <th></th>\n",
       "      <th></th>\n",
       "    </tr>\n",
       "  </thead>\n",
       "  <tbody>\n",
       "    <tr>\n",
       "      <th>CEO</th>\n",
       "      <td>8919</td>\n",
       "      <td>8919</td>\n",
       "      <td>8919</td>\n",
       "      <td>8919</td>\n",
       "      <td>8919</td>\n",
       "    </tr>\n",
       "    <tr>\n",
       "      <th>accountant</th>\n",
       "      <td>8919</td>\n",
       "      <td>8919</td>\n",
       "      <td>8919</td>\n",
       "      <td>8919</td>\n",
       "      <td>8919</td>\n",
       "    </tr>\n",
       "    <tr>\n",
       "      <th>air traffic controller</th>\n",
       "      <td>8919</td>\n",
       "      <td>8919</td>\n",
       "      <td>8919</td>\n",
       "      <td>8919</td>\n",
       "      <td>8919</td>\n",
       "    </tr>\n",
       "    <tr>\n",
       "      <th>analyst</th>\n",
       "      <td>8919</td>\n",
       "      <td>8919</td>\n",
       "      <td>8919</td>\n",
       "      <td>8919</td>\n",
       "      <td>8919</td>\n",
       "    </tr>\n",
       "    <tr>\n",
       "      <th>architect</th>\n",
       "      <td>8919</td>\n",
       "      <td>8919</td>\n",
       "      <td>8919</td>\n",
       "      <td>8919</td>\n",
       "      <td>8919</td>\n",
       "    </tr>\n",
       "    <tr>\n",
       "      <th>...</th>\n",
       "      <td>...</td>\n",
       "      <td>...</td>\n",
       "      <td>...</td>\n",
       "      <td>...</td>\n",
       "      <td>...</td>\n",
       "    </tr>\n",
       "    <tr>\n",
       "      <th>therapist</th>\n",
       "      <td>8919</td>\n",
       "      <td>8919</td>\n",
       "      <td>8919</td>\n",
       "      <td>8919</td>\n",
       "      <td>8919</td>\n",
       "    </tr>\n",
       "    <tr>\n",
       "      <th>undertaker</th>\n",
       "      <td>8919</td>\n",
       "      <td>8919</td>\n",
       "      <td>8919</td>\n",
       "      <td>8919</td>\n",
       "      <td>8919</td>\n",
       "    </tr>\n",
       "    <tr>\n",
       "      <th>veterinarian</th>\n",
       "      <td>8919</td>\n",
       "      <td>8919</td>\n",
       "      <td>8919</td>\n",
       "      <td>8919</td>\n",
       "      <td>8919</td>\n",
       "    </tr>\n",
       "    <tr>\n",
       "      <th>videographer</th>\n",
       "      <td>8919</td>\n",
       "      <td>8919</td>\n",
       "      <td>8919</td>\n",
       "      <td>8919</td>\n",
       "      <td>8919</td>\n",
       "    </tr>\n",
       "    <tr>\n",
       "      <th>writer</th>\n",
       "      <td>8919</td>\n",
       "      <td>8919</td>\n",
       "      <td>8919</td>\n",
       "      <td>8919</td>\n",
       "      <td>8919</td>\n",
       "    </tr>\n",
       "  </tbody>\n",
       "</table>\n",
       "<p>79 rows × 5 columns</p>\n",
       "</div>"
      ],
      "text/plain": [
       "                        mutant  template  original  label  prediction\n",
       "occupation                                                           \n",
       "CEO                       8919      8919      8919   8919        8919\n",
       "accountant                8919      8919      8919   8919        8919\n",
       "air traffic controller    8919      8919      8919   8919        8919\n",
       "analyst                   8919      8919      8919   8919        8919\n",
       "architect                 8919      8919      8919   8919        8919\n",
       "...                        ...       ...       ...    ...         ...\n",
       "therapist                 8919      8919      8919   8919        8919\n",
       "undertaker                8919      8919      8919   8919        8919\n",
       "veterinarian              8919      8919      8919   8919        8919\n",
       "videographer              8919      8919      8919   8919        8919\n",
       "writer                    8919      8919      8919   8919        8919\n",
       "\n",
       "[79 rows x 5 columns]"
      ]
     },
     "execution_count": 12,
     "metadata": {},
     "output_type": "execute_result"
    }
   ],
   "source": [
    "identifier = \"occupation\"\n",
    "dc = df.groupby(identifier)\n",
    "\n",
    "dc.count()"
   ]
  },
  {
   "cell_type": "code",
   "execution_count": 13,
   "metadata": {},
   "outputs": [
    {
     "name": "stdout",
     "output_type": "stream",
     "text": [
      "79\n"
     ]
    }
   ],
   "source": [
    "print(len(dc))\n",
    "\n",
    "identifiers = []\n",
    "for k, v in dict(iter(dc)).items() :\n",
    "    identifiers.append(k)"
   ]
  },
  {
   "cell_type": "markdown",
   "metadata": {},
   "source": [
    "#### Calculate Global Performance"
   ]
  },
  {
   "cell_type": "code",
   "execution_count": 14,
   "metadata": {},
   "outputs": [
    {
     "name": "stdout",
     "output_type": "stream",
     "text": [
      "              precision    recall  f1-score   support\n",
      "\n",
      "           0       0.93      0.91      0.92    335750\n",
      "           1       0.92      0.94      0.93    368851\n",
      "\n",
      "    accuracy                           0.92    704601\n",
      "   macro avg       0.92      0.92      0.92    704601\n",
      "weighted avg       0.92      0.92      0.92    704601\n",
      "\n",
      "[[304117  31633]\n",
      " [ 23833 345018]]\n"
     ]
    }
   ],
   "source": [
    "from sklearn.metrics import classification_report\n",
    "from sklearn.metrics import confusion_matrix\n",
    "\n",
    "y_test = df[\"label\"]\n",
    "y_pred = df[\"prediction\"]\n",
    "print(classification_report(y_test, y_pred))\n",
    "cm = confusion_matrix(y_test, y_pred)\n",
    "print(cm)"
   ]
  },
  {
   "cell_type": "markdown",
   "metadata": {},
   "source": [
    "#### Calculate Performance for each Group"
   ]
  },
  {
   "cell_type": "code",
   "execution_count": 15,
   "metadata": {},
   "outputs": [],
   "source": [
    "for k, v in dict(iter(dc)).items() :\n",
    "    y_test = v[\"label\"]\n",
    "    y_pred = v[\"prediction\"]\n",
    "#     print(classification_report(y_test, y_pred))\n",
    "#     cm = confusion_matrix(y_test, y_pred)\n",
    "#     print(cm)"
   ]
  },
  {
   "cell_type": "markdown",
   "metadata": {},
   "source": [
    "#### Implementation\n",
    "\n",
    "Fundamental Thery about FPR and FNR: \n",
    "https://medium.com/datadriveninvestor/confusion-matric-tpr-fpr-fnr-tnr-precision-recall-f1-score-73efa162a25f\n",
    "\n",
    "\n",
    "Theory on FPED and FNED:\n",
    "https://research.google/pubs/pub46743/ "
   ]
  },
  {
   "cell_type": "code",
   "execution_count": 16,
   "metadata": {},
   "outputs": [
    {
     "name": "stdout",
     "output_type": "stream",
     "text": [
      "0.09421593447505584\n",
      "0.0709843633655994\n"
     ]
    }
   ],
   "source": [
    "# calculate false positive rate from given consufsion matrix\n",
    "def calculate_fpr(cm) :\n",
    "    negative = np.sum(cm[0])\n",
    "    fp = cm[0][1]\n",
    "    fpr = fp / negative\n",
    "    return fpr\n",
    "\n",
    "# calculate false positive rate from given consufsion matrix\n",
    "def calculate_fnr(cm) :\n",
    "    negative = np.sum(cm[0])\n",
    "    fn = cm[1][0]\n",
    "    fnr = fn / negative\n",
    "    return fnr\n",
    "\n",
    "print(calculate_fpr(cm))\n",
    "print(calculate_fnr(cm))"
   ]
  },
  {
   "cell_type": "markdown",
   "metadata": {},
   "source": [
    "#### Calculate Global FPR and FNR"
   ]
  },
  {
   "cell_type": "code",
   "execution_count": 17,
   "metadata": {},
   "outputs": [
    {
     "name": "stdout",
     "output_type": "stream",
     "text": [
      "global fpr:  0.09421593447505584\n",
      "global fnr:  0.0709843633655994\n"
     ]
    }
   ],
   "source": [
    "y_test = df[\"label\"]\n",
    "y_pred = df[\"prediction\"]\n",
    "cm = confusion_matrix(y_test, y_pred)\n",
    "global_fpr = calculate_fpr(cm)\n",
    "global_fnr = calculate_fnr(cm)\n",
    "print(\"global fpr: \", global_fpr)\n",
    "print(\"global fnr: \", global_fnr)"
   ]
  },
  {
   "cell_type": "markdown",
   "metadata": {},
   "source": [
    "#### Calculate FPR and FNR for each Identifier"
   ]
  },
  {
   "cell_type": "code",
   "execution_count": 18,
   "metadata": {},
   "outputs": [],
   "source": [
    "fprs = []\n",
    "fnrs = []\n",
    "\n",
    "for k, v in dict(iter(dc)).items() :\n",
    "    y_test = v[\"label\"]\n",
    "    y_pred = v[\"prediction\"]\n",
    "    cm = confusion_matrix(y_test, y_pred)\n",
    "    fpr = calculate_fpr(cm)\n",
    "    fnr = calculate_fnr(cm)\n",
    "    fprs.append(round(fpr, 5))\n",
    "    fnrs.append(round(fnr, 5))"
   ]
  },
  {
   "cell_type": "code",
   "execution_count": 19,
   "metadata": {},
   "outputs": [
    {
     "data": {
      "text/html": [
       "<div>\n",
       "<style scoped>\n",
       "    .dataframe tbody tr th:only-of-type {\n",
       "        vertical-align: middle;\n",
       "    }\n",
       "\n",
       "    .dataframe tbody tr th {\n",
       "        vertical-align: top;\n",
       "    }\n",
       "\n",
       "    .dataframe thead th {\n",
       "        text-align: right;\n",
       "    }\n",
       "</style>\n",
       "<table border=\"1\" class=\"dataframe\">\n",
       "  <thead>\n",
       "    <tr style=\"text-align: right;\">\n",
       "      <th></th>\n",
       "      <th>FPR</th>\n",
       "    </tr>\n",
       "    <tr>\n",
       "      <th>identifier</th>\n",
       "      <th></th>\n",
       "    </tr>\n",
       "  </thead>\n",
       "  <tbody>\n",
       "    <tr>\n",
       "      <th>undertaker</th>\n",
       "      <td>0.09553</td>\n",
       "    </tr>\n",
       "    <tr>\n",
       "      <th>photographer</th>\n",
       "      <td>0.09553</td>\n",
       "    </tr>\n",
       "    <tr>\n",
       "      <th>judge</th>\n",
       "      <td>0.09553</td>\n",
       "    </tr>\n",
       "    <tr>\n",
       "      <th>baker</th>\n",
       "      <td>0.09553</td>\n",
       "    </tr>\n",
       "    <tr>\n",
       "      <th>guard</th>\n",
       "      <td>0.09529</td>\n",
       "    </tr>\n",
       "  </tbody>\n",
       "</table>\n",
       "</div>"
      ],
      "text/plain": [
       "                  FPR\n",
       "identifier           \n",
       "undertaker    0.09553\n",
       "photographer  0.09553\n",
       "judge         0.09553\n",
       "baker         0.09553\n",
       "guard         0.09529"
      ]
     },
     "execution_count": 19,
     "metadata": {},
     "output_type": "execute_result"
    }
   ],
   "source": [
    "import matplotlib.pyplot as plt\n",
    "%matplotlib inline\n",
    "\n",
    "\n",
    "dfprs = pd.DataFrame(data={\"identifier\": identifiers, \"FPR\":fprs})\n",
    "dfprs = dfprs.groupby(\"identifier\").sum().sort_values(by=[\"FPR\"],ascending=False)\n",
    "\n",
    "dfprs.head()"
   ]
  },
  {
   "cell_type": "code",
   "execution_count": 20,
   "metadata": {},
   "outputs": [
    {
     "data": {
      "text/plain": [
       "Text(0, 0.5, 'FPR')"
      ]
     },
     "execution_count": 20,
     "metadata": {},
     "output_type": "execute_result"
    },
    {
     "data": {
      "image/png": "[encoded data removed]",
      "text/plain": [
       "<Figure size 432x288 with 1 Axes>"
      ]
     },
     "metadata": {
      "needs_background": "light"
     },
     "output_type": "display_data"
    }
   ],
   "source": [
    "my_plot = dfprs.plot(kind='bar', legend=None, title=\"FPR per \" + identifier)\n",
    "my_plot.set_xlabel(identifier)\n",
    "my_plot.set_ylabel(\"FPR\")"
   ]
  },
  {
   "cell_type": "code",
   "execution_count": 21,
   "metadata": {},
   "outputs": [
    {
     "data": {
      "text/html": [
       "<div>\n",
       "<style scoped>\n",
       "    .dataframe tbody tr th:only-of-type {\n",
       "        vertical-align: middle;\n",
       "    }\n",
       "\n",
       "    .dataframe tbody tr th {\n",
       "        vertical-align: top;\n",
       "    }\n",
       "\n",
       "    .dataframe thead th {\n",
       "        text-align: right;\n",
       "    }\n",
       "</style>\n",
       "<table border=\"1\" class=\"dataframe\">\n",
       "  <thead>\n",
       "    <tr style=\"text-align: right;\">\n",
       "      <th></th>\n",
       "      <th>FNR</th>\n",
       "    </tr>\n",
       "    <tr>\n",
       "      <th>identifier</th>\n",
       "      <th></th>\n",
       "    </tr>\n",
       "  </thead>\n",
       "  <tbody>\n",
       "    <tr>\n",
       "      <th>butcher</th>\n",
       "      <td>0.07365</td>\n",
       "    </tr>\n",
       "    <tr>\n",
       "      <th>scientist</th>\n",
       "      <td>0.07294</td>\n",
       "    </tr>\n",
       "    <tr>\n",
       "      <th>janitor</th>\n",
       "      <td>0.07271</td>\n",
       "    </tr>\n",
       "    <tr>\n",
       "      <th>programmer</th>\n",
       "      <td>0.07247</td>\n",
       "    </tr>\n",
       "    <tr>\n",
       "      <th>dental hygienist</th>\n",
       "      <td>0.07224</td>\n",
       "    </tr>\n",
       "  </tbody>\n",
       "</table>\n",
       "</div>"
      ],
      "text/plain": [
       "                      FNR\n",
       "identifier               \n",
       "butcher           0.07365\n",
       "scientist         0.07294\n",
       "janitor           0.07271\n",
       "programmer        0.07247\n",
       "dental hygienist  0.07224"
      ]
     },
     "execution_count": 21,
     "metadata": {},
     "output_type": "execute_result"
    }
   ],
   "source": [
    "dfnrs = pd.DataFrame(data={\"identifier\": identifiers, \"FNR\":fnrs})\n",
    "dfnrs = dfnrs.groupby(\"identifier\").sum().sort_values(by=[\"FNR\"],ascending=False)\n",
    "\n",
    "dfnrs.head()"
   ]
  },
  {
   "cell_type": "code",
   "execution_count": 22,
   "metadata": {},
   "outputs": [
    {
     "data": {
      "text/plain": [
       "Text(0, 0.5, 'FNR')"
      ]
     },
     "execution_count": 22,
     "metadata": {},
     "output_type": "execute_result"
    },
    {
     "data": {
      "image/png": "[encoded data removed]",
      "text/plain": [
       "<Figure size 432x288 with 1 Axes>"
      ]
     },
     "metadata": {
      "needs_background": "light"
     },
     "output_type": "display_data"
    }
   ],
   "source": [
    "my_plot = dfnrs.plot(kind='bar', legend=None, title=\"FNR per \" + identifier)\n",
    "my_plot.set_xlabel(identifier)\n",
    "my_plot.set_ylabel(\"FNR\")"
   ]
  },
  {
   "cell_type": "markdown",
   "metadata": {},
   "source": [
    "#### Calculate FNED and FPED"
   ]
  },
  {
   "cell_type": "code",
   "execution_count": 23,
   "metadata": {},
   "outputs": [
    {
     "name": "stdout",
     "output_type": "stream",
     "text": [
      "\n",
      "FPED:  0.026352941176470288\n",
      "FNED:  0.043058823529411636\n"
     ]
    }
   ],
   "source": [
    "fped = 0\n",
    "fned = 0\n",
    "\n",
    "for _fpr, _fnr in zip(fprs, fnrs) :\n",
    "    fped += abs(global_fpr - fpr)\n",
    "    fned += abs(global_fnr - fnr)\n",
    "\n",
    "print()\n",
    "print(\"FPED: \", fped)\n",
    "print(\"FNED: \", fned)"
   ]
  }
 ],
 "metadata": {
  "kernelspec": {
   "display_name": "Python 3",
   "language": "python",
   "name": "python3"
  },
  "language_info": {
   "codemirror_mode": {
    "name": "ipython",
    "version": 3
   },
   "file_extension": ".py",
   "mimetype": "text/x-python",
   "name": "python",
   "nbconvert_exporter": "python",
   "pygments_lexer": "ipython3",
   "version": "3.6.8"
  }
 },
 "nbformat": 4,
 "nbformat_minor": 4
}
