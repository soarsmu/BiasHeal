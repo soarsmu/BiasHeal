{
 "cells": [
  {
   "cell_type": "markdown",
   "metadata": {},
   "source": [
    "## FNED and FPED Implementation"
   ]
  },
  {
   "cell_type": "code",
   "execution_count": 32,
   "metadata": {},
   "outputs": [],
   "source": [
    "import pandas as pd\n",
    "import numpy as np\n",
    "import math"
   ]
  },
  {
   "cell_type": "markdown",
   "metadata": {},
   "source": [
    "#### Read Original Data"
   ]
  },
  {
   "cell_type": "code",
   "execution_count": 33,
   "metadata": {},
   "outputs": [
    {
     "data": {
      "text/html": [
       "<div>\n",
       "<style scoped>\n",
       "    .dataframe tbody tr th:only-of-type {\n",
       "        vertical-align: middle;\n",
       "    }\n",
       "\n",
       "    .dataframe tbody tr th {\n",
       "        vertical-align: top;\n",
       "    }\n",
       "\n",
       "    .dataframe thead th {\n",
       "        text-align: right;\n",
       "    }\n",
       "</style>\n",
       "<table border=\"1\" class=\"dataframe\">\n",
       "  <thead>\n",
       "    <tr style=\"text-align: right;\">\n",
       "      <th></th>\n",
       "      <th>label</th>\n",
       "      <th>mutant</th>\n",
       "      <th>template</th>\n",
       "      <th>original</th>\n",
       "      <th>identifier</th>\n",
       "      <th>type</th>\n",
       "      <th>gender</th>\n",
       "      <th>country</th>\n",
       "    </tr>\n",
       "  </thead>\n",
       "  <tbody>\n",
       "    <tr>\n",
       "      <th>0</th>\n",
       "      <td>1</td>\n",
       "      <td>I have only see three episodes of Hack, starri...</td>\n",
       "      <td>I have only see three episodes of Hack, starri...</td>\n",
       "      <td>I have only see three episodes of Hack, starri...</td>\n",
       "      <td>Roen</td>\n",
       "      <td>name</td>\n",
       "      <td>male</td>\n",
       "      <td>UK</td>\n",
       "    </tr>\n",
       "    <tr>\n",
       "      <th>1</th>\n",
       "      <td>1</td>\n",
       "      <td>I have only see three episodes of Hack, starri...</td>\n",
       "      <td>I have only see three episodes of Hack, starri...</td>\n",
       "      <td>I have only see three episodes of Hack, starri...</td>\n",
       "      <td>Jeet</td>\n",
       "      <td>name</td>\n",
       "      <td>male</td>\n",
       "      <td>UK</td>\n",
       "    </tr>\n",
       "    <tr>\n",
       "      <th>2</th>\n",
       "      <td>1</td>\n",
       "      <td>I have only see three episodes of Hack, starri...</td>\n",
       "      <td>I have only see three episodes of Hack, starri...</td>\n",
       "      <td>I have only see three episodes of Hack, starri...</td>\n",
       "      <td>Hagen</td>\n",
       "      <td>name</td>\n",
       "      <td>male</td>\n",
       "      <td>UK</td>\n",
       "    </tr>\n",
       "    <tr>\n",
       "      <th>3</th>\n",
       "      <td>1</td>\n",
       "      <td>I have only see three episodes of Hack, starri...</td>\n",
       "      <td>I have only see three episodes of Hack, starri...</td>\n",
       "      <td>I have only see three episodes of Hack, starri...</td>\n",
       "      <td>Willow</td>\n",
       "      <td>name</td>\n",
       "      <td>male</td>\n",
       "      <td>UK</td>\n",
       "    </tr>\n",
       "    <tr>\n",
       "      <th>4</th>\n",
       "      <td>1</td>\n",
       "      <td>I have only see three episodes of Hack, starri...</td>\n",
       "      <td>I have only see three episodes of Hack, starri...</td>\n",
       "      <td>I have only see three episodes of Hack, starri...</td>\n",
       "      <td>Belal</td>\n",
       "      <td>name</td>\n",
       "      <td>male</td>\n",
       "      <td>UK</td>\n",
       "    </tr>\n",
       "    <tr>\n",
       "      <th>...</th>\n",
       "      <td>...</td>\n",
       "      <td>...</td>\n",
       "      <td>...</td>\n",
       "      <td>...</td>\n",
       "      <td>...</td>\n",
       "      <td>...</td>\n",
       "      <td>...</td>\n",
       "      <td>...</td>\n",
       "    </tr>\n",
       "    <tr>\n",
       "      <th>978943</th>\n",
       "      <td>1</td>\n",
       "      <td>Well, the movie did turn out a lot better than...</td>\n",
       "      <td>Well, the movie did turn out a lot better than...</td>\n",
       "      <td>Well, the movie did turn out a lot better than...</td>\n",
       "      <td>Dódi</td>\n",
       "      <td>name</td>\n",
       "      <td>female</td>\n",
       "      <td>Hungary</td>\n",
       "    </tr>\n",
       "    <tr>\n",
       "      <th>978944</th>\n",
       "      <td>1</td>\n",
       "      <td>Well, the movie did turn out a lot better than...</td>\n",
       "      <td>Well, the movie did turn out a lot better than...</td>\n",
       "      <td>Well, the movie did turn out a lot better than...</td>\n",
       "      <td>Iboyka</td>\n",
       "      <td>name</td>\n",
       "      <td>female</td>\n",
       "      <td>Hungary</td>\n",
       "    </tr>\n",
       "    <tr>\n",
       "      <th>978945</th>\n",
       "      <td>1</td>\n",
       "      <td>Well, the movie did turn out a lot better than...</td>\n",
       "      <td>Well, the movie did turn out a lot better than...</td>\n",
       "      <td>Well, the movie did turn out a lot better than...</td>\n",
       "      <td>Zsófia</td>\n",
       "      <td>name</td>\n",
       "      <td>female</td>\n",
       "      <td>Hungary</td>\n",
       "    </tr>\n",
       "    <tr>\n",
       "      <th>978946</th>\n",
       "      <td>1</td>\n",
       "      <td>Well, the movie did turn out a lot better than...</td>\n",
       "      <td>Well, the movie did turn out a lot better than...</td>\n",
       "      <td>Well, the movie did turn out a lot better than...</td>\n",
       "      <td>Ágota</td>\n",
       "      <td>name</td>\n",
       "      <td>female</td>\n",
       "      <td>Hungary</td>\n",
       "    </tr>\n",
       "    <tr>\n",
       "      <th>978947</th>\n",
       "      <td>1</td>\n",
       "      <td>Well, the movie did turn out a lot better than...</td>\n",
       "      <td>Well, the movie did turn out a lot better than...</td>\n",
       "      <td>Well, the movie did turn out a lot better than...</td>\n",
       "      <td>Alexa</td>\n",
       "      <td>name</td>\n",
       "      <td>female</td>\n",
       "      <td>Hungary</td>\n",
       "    </tr>\n",
       "  </tbody>\n",
       "</table>\n",
       "<p>978948 rows × 8 columns</p>\n",
       "</div>"
      ],
      "text/plain": [
       "        label                                             mutant  \\\n",
       "0           1  I have only see three episodes of Hack, starri...   \n",
       "1           1  I have only see three episodes of Hack, starri...   \n",
       "2           1  I have only see three episodes of Hack, starri...   \n",
       "3           1  I have only see three episodes of Hack, starri...   \n",
       "4           1  I have only see three episodes of Hack, starri...   \n",
       "...       ...                                                ...   \n",
       "978943      1  Well, the movie did turn out a lot better than...   \n",
       "978944      1  Well, the movie did turn out a lot better than...   \n",
       "978945      1  Well, the movie did turn out a lot better than...   \n",
       "978946      1  Well, the movie did turn out a lot better than...   \n",
       "978947      1  Well, the movie did turn out a lot better than...   \n",
       "\n",
       "                                                 template  \\\n",
       "0       I have only see three episodes of Hack, starri...   \n",
       "1       I have only see three episodes of Hack, starri...   \n",
       "2       I have only see three episodes of Hack, starri...   \n",
       "3       I have only see three episodes of Hack, starri...   \n",
       "4       I have only see three episodes of Hack, starri...   \n",
       "...                                                   ...   \n",
       "978943  Well, the movie did turn out a lot better than...   \n",
       "978944  Well, the movie did turn out a lot better than...   \n",
       "978945  Well, the movie did turn out a lot better than...   \n",
       "978946  Well, the movie did turn out a lot better than...   \n",
       "978947  Well, the movie did turn out a lot better than...   \n",
       "\n",
       "                                                 original identifier  type  \\\n",
       "0       I have only see three episodes of Hack, starri...       Roen  name   \n",
       "1       I have only see three episodes of Hack, starri...       Jeet  name   \n",
       "2       I have only see three episodes of Hack, starri...      Hagen  name   \n",
       "3       I have only see three episodes of Hack, starri...     Willow  name   \n",
       "4       I have only see three episodes of Hack, starri...      Belal  name   \n",
       "...                                                   ...        ...   ...   \n",
       "978943  Well, the movie did turn out a lot better than...       Dódi  name   \n",
       "978944  Well, the movie did turn out a lot better than...     Iboyka  name   \n",
       "978945  Well, the movie did turn out a lot better than...     Zsófia  name   \n",
       "978946  Well, the movie did turn out a lot better than...      Ágota  name   \n",
       "978947  Well, the movie did turn out a lot better than...      Alexa  name   \n",
       "\n",
       "        gender  country  \n",
       "0         male       UK  \n",
       "1         male       UK  \n",
       "2         male       UK  \n",
       "3         male       UK  \n",
       "4         male       UK  \n",
       "...        ...      ...  \n",
       "978943  female  Hungary  \n",
       "978944  female  Hungary  \n",
       "978945  female  Hungary  \n",
       "978946  female  Hungary  \n",
       "978947  female  Hungary  \n",
       "\n",
       "[978948 rows x 8 columns]"
      ]
     },
     "execution_count": 33,
     "metadata": {},
     "output_type": "execute_result"
    }
   ],
   "source": [
    "data_dir = \"gc_imdb\"\n",
    "df = pd.read_csv(\"../data/\" + data_dir + \"/test.csv\", header=None, sep=\"\\t\", names=[\"label\", \"mutant\", \"template\", \"original\", \"identifier\", \"type\", \"gender\", \"country\"])\n",
    "df"
   ]
  },
  {
   "cell_type": "markdown",
   "metadata": {},
   "source": [
    "#### Read Prediction Result from the Model\n",
    "\n",
    "Make sure you set variable `ouput_dir` with the same `output_dir` in the fine-tuning parameter"
   ]
  },
  {
   "cell_type": "code",
   "execution_count": 34,
   "metadata": {},
   "outputs": [],
   "source": [
    "def read_txt(fpath):\n",
    "    pred = []\n",
    "    file = open(fpath)\n",
    "    lines = file.readlines()\n",
    "    for l in lines :\n",
    "        pred.append(int(l))\n",
    "    file.close()\n",
    "    \n",
    "    return pred"
   ]
  },
  {
   "cell_type": "code",
   "execution_count": 36,
   "metadata": {},
   "outputs": [
    {
     "name": "stdout",
     "output_type": "stream",
     "text": [
      "978948\n"
     ]
    }
   ],
   "source": [
    "output_dir = \"gc_imdb\"\n",
    "\n",
    "result_dir = \"../result/\" + output_dir + \"/\"\n",
    "\n",
    "path = result_dir + \"results_data.txt\"\n",
    "\n",
    "pred = read_txt(path)\n",
    "\n",
    "print(len(pred))"
   ]
  },
  {
   "cell_type": "code",
   "execution_count": 37,
   "metadata": {},
   "outputs": [],
   "source": [
    "df[\"prediction\"] = pred\n",
    "# df[\"label\"] = df[0]"
   ]
  },
  {
   "cell_type": "code",
   "execution_count": 40,
   "metadata": {},
   "outputs": [
    {
     "data": {
      "text/html": [
       "<div>\n",
       "<style scoped>\n",
       "    .dataframe tbody tr th:only-of-type {\n",
       "        vertical-align: middle;\n",
       "    }\n",
       "\n",
       "    .dataframe tbody tr th {\n",
       "        vertical-align: top;\n",
       "    }\n",
       "\n",
       "    .dataframe thead th {\n",
       "        text-align: right;\n",
       "    }\n",
       "</style>\n",
       "<table border=\"1\" class=\"dataframe\">\n",
       "  <thead>\n",
       "    <tr style=\"text-align: right;\">\n",
       "      <th></th>\n",
       "      <th>label</th>\n",
       "      <th>mutant</th>\n",
       "      <th>template</th>\n",
       "      <th>original</th>\n",
       "      <th>identifier</th>\n",
       "      <th>type</th>\n",
       "      <th>gender</th>\n",
       "      <th>country</th>\n",
       "      <th>prediction</th>\n",
       "    </tr>\n",
       "  </thead>\n",
       "  <tbody>\n",
       "    <tr>\n",
       "      <th>0</th>\n",
       "      <td>1</td>\n",
       "      <td>I have only see three episodes of Hack, starri...</td>\n",
       "      <td>I have only see three episodes of Hack, starri...</td>\n",
       "      <td>I have only see three episodes of Hack, starri...</td>\n",
       "      <td>Roen</td>\n",
       "      <td>name</td>\n",
       "      <td>male</td>\n",
       "      <td>UK</td>\n",
       "      <td>1</td>\n",
       "    </tr>\n",
       "    <tr>\n",
       "      <th>1</th>\n",
       "      <td>1</td>\n",
       "      <td>I have only see three episodes of Hack, starri...</td>\n",
       "      <td>I have only see three episodes of Hack, starri...</td>\n",
       "      <td>I have only see three episodes of Hack, starri...</td>\n",
       "      <td>Jeet</td>\n",
       "      <td>name</td>\n",
       "      <td>male</td>\n",
       "      <td>UK</td>\n",
       "      <td>1</td>\n",
       "    </tr>\n",
       "    <tr>\n",
       "      <th>2</th>\n",
       "      <td>1</td>\n",
       "      <td>I have only see three episodes of Hack, starri...</td>\n",
       "      <td>I have only see three episodes of Hack, starri...</td>\n",
       "      <td>I have only see three episodes of Hack, starri...</td>\n",
       "      <td>Hagen</td>\n",
       "      <td>name</td>\n",
       "      <td>male</td>\n",
       "      <td>UK</td>\n",
       "      <td>1</td>\n",
       "    </tr>\n",
       "    <tr>\n",
       "      <th>3</th>\n",
       "      <td>1</td>\n",
       "      <td>I have only see three episodes of Hack, starri...</td>\n",
       "      <td>I have only see three episodes of Hack, starri...</td>\n",
       "      <td>I have only see three episodes of Hack, starri...</td>\n",
       "      <td>Willow</td>\n",
       "      <td>name</td>\n",
       "      <td>male</td>\n",
       "      <td>UK</td>\n",
       "      <td>1</td>\n",
       "    </tr>\n",
       "    <tr>\n",
       "      <th>4</th>\n",
       "      <td>1</td>\n",
       "      <td>I have only see three episodes of Hack, starri...</td>\n",
       "      <td>I have only see three episodes of Hack, starri...</td>\n",
       "      <td>I have only see three episodes of Hack, starri...</td>\n",
       "      <td>Belal</td>\n",
       "      <td>name</td>\n",
       "      <td>male</td>\n",
       "      <td>UK</td>\n",
       "      <td>1</td>\n",
       "    </tr>\n",
       "    <tr>\n",
       "      <th>...</th>\n",
       "      <td>...</td>\n",
       "      <td>...</td>\n",
       "      <td>...</td>\n",
       "      <td>...</td>\n",
       "      <td>...</td>\n",
       "      <td>...</td>\n",
       "      <td>...</td>\n",
       "      <td>...</td>\n",
       "      <td>...</td>\n",
       "    </tr>\n",
       "    <tr>\n",
       "      <th>978943</th>\n",
       "      <td>1</td>\n",
       "      <td>Well, the movie did turn out a lot better than...</td>\n",
       "      <td>Well, the movie did turn out a lot better than...</td>\n",
       "      <td>Well, the movie did turn out a lot better than...</td>\n",
       "      <td>Dódi</td>\n",
       "      <td>name</td>\n",
       "      <td>female</td>\n",
       "      <td>Hungary</td>\n",
       "      <td>1</td>\n",
       "    </tr>\n",
       "    <tr>\n",
       "      <th>978944</th>\n",
       "      <td>1</td>\n",
       "      <td>Well, the movie did turn out a lot better than...</td>\n",
       "      <td>Well, the movie did turn out a lot better than...</td>\n",
       "      <td>Well, the movie did turn out a lot better than...</td>\n",
       "      <td>Iboyka</td>\n",
       "      <td>name</td>\n",
       "      <td>female</td>\n",
       "      <td>Hungary</td>\n",
       "      <td>1</td>\n",
       "    </tr>\n",
       "    <tr>\n",
       "      <th>978945</th>\n",
       "      <td>1</td>\n",
       "      <td>Well, the movie did turn out a lot better than...</td>\n",
       "      <td>Well, the movie did turn out a lot better than...</td>\n",
       "      <td>Well, the movie did turn out a lot better than...</td>\n",
       "      <td>Zsófia</td>\n",
       "      <td>name</td>\n",
       "      <td>female</td>\n",
       "      <td>Hungary</td>\n",
       "      <td>1</td>\n",
       "    </tr>\n",
       "    <tr>\n",
       "      <th>978946</th>\n",
       "      <td>1</td>\n",
       "      <td>Well, the movie did turn out a lot better than...</td>\n",
       "      <td>Well, the movie did turn out a lot better than...</td>\n",
       "      <td>Well, the movie did turn out a lot better than...</td>\n",
       "      <td>Ágota</td>\n",
       "      <td>name</td>\n",
       "      <td>female</td>\n",
       "      <td>Hungary</td>\n",
       "      <td>1</td>\n",
       "    </tr>\n",
       "    <tr>\n",
       "      <th>978947</th>\n",
       "      <td>1</td>\n",
       "      <td>Well, the movie did turn out a lot better than...</td>\n",
       "      <td>Well, the movie did turn out a lot better than...</td>\n",
       "      <td>Well, the movie did turn out a lot better than...</td>\n",
       "      <td>Alexa</td>\n",
       "      <td>name</td>\n",
       "      <td>female</td>\n",
       "      <td>Hungary</td>\n",
       "      <td>1</td>\n",
       "    </tr>\n",
       "  </tbody>\n",
       "</table>\n",
       "<p>978948 rows × 9 columns</p>\n",
       "</div>"
      ],
      "text/plain": [
       "        label                                             mutant  \\\n",
       "0           1  I have only see three episodes of Hack, starri...   \n",
       "1           1  I have only see three episodes of Hack, starri...   \n",
       "2           1  I have only see three episodes of Hack, starri...   \n",
       "3           1  I have only see three episodes of Hack, starri...   \n",
       "4           1  I have only see three episodes of Hack, starri...   \n",
       "...       ...                                                ...   \n",
       "978943      1  Well, the movie did turn out a lot better than...   \n",
       "978944      1  Well, the movie did turn out a lot better than...   \n",
       "978945      1  Well, the movie did turn out a lot better than...   \n",
       "978946      1  Well, the movie did turn out a lot better than...   \n",
       "978947      1  Well, the movie did turn out a lot better than...   \n",
       "\n",
       "                                                 template  \\\n",
       "0       I have only see three episodes of Hack, starri...   \n",
       "1       I have only see three episodes of Hack, starri...   \n",
       "2       I have only see three episodes of Hack, starri...   \n",
       "3       I have only see three episodes of Hack, starri...   \n",
       "4       I have only see three episodes of Hack, starri...   \n",
       "...                                                   ...   \n",
       "978943  Well, the movie did turn out a lot better than...   \n",
       "978944  Well, the movie did turn out a lot better than...   \n",
       "978945  Well, the movie did turn out a lot better than...   \n",
       "978946  Well, the movie did turn out a lot better than...   \n",
       "978947  Well, the movie did turn out a lot better than...   \n",
       "\n",
       "                                                 original identifier  type  \\\n",
       "0       I have only see three episodes of Hack, starri...       Roen  name   \n",
       "1       I have only see three episodes of Hack, starri...       Jeet  name   \n",
       "2       I have only see three episodes of Hack, starri...      Hagen  name   \n",
       "3       I have only see three episodes of Hack, starri...     Willow  name   \n",
       "4       I have only see three episodes of Hack, starri...      Belal  name   \n",
       "...                                                   ...        ...   ...   \n",
       "978943  Well, the movie did turn out a lot better than...       Dódi  name   \n",
       "978944  Well, the movie did turn out a lot better than...     Iboyka  name   \n",
       "978945  Well, the movie did turn out a lot better than...     Zsófia  name   \n",
       "978946  Well, the movie did turn out a lot better than...      Ágota  name   \n",
       "978947  Well, the movie did turn out a lot better than...      Alexa  name   \n",
       "\n",
       "        gender  country  prediction  \n",
       "0         male       UK           1  \n",
       "1         male       UK           1  \n",
       "2         male       UK           1  \n",
       "3         male       UK           1  \n",
       "4         male       UK           1  \n",
       "...        ...      ...         ...  \n",
       "978943  female  Hungary           1  \n",
       "978944  female  Hungary           1  \n",
       "978945  female  Hungary           1  \n",
       "978946  female  Hungary           1  \n",
       "978947  female  Hungary           1  \n",
       "\n",
       "[978948 rows x 9 columns]"
      ]
     },
     "execution_count": 40,
     "metadata": {},
     "output_type": "execute_result"
    }
   ],
   "source": [
    "df"
   ]
  },
  {
   "cell_type": "markdown",
   "metadata": {},
   "source": [
    "#### Group by Gender\n",
    "\n",
    "In this case, we group by `gender`"
   ]
  },
  {
   "cell_type": "code",
   "execution_count": 41,
   "metadata": {},
   "outputs": [
    {
     "data": {
      "text/html": [
       "<div>\n",
       "<style scoped>\n",
       "    .dataframe tbody tr th:only-of-type {\n",
       "        vertical-align: middle;\n",
       "    }\n",
       "\n",
       "    .dataframe tbody tr th {\n",
       "        vertical-align: top;\n",
       "    }\n",
       "\n",
       "    .dataframe thead th {\n",
       "        text-align: right;\n",
       "    }\n",
       "</style>\n",
       "<table border=\"1\" class=\"dataframe\">\n",
       "  <thead>\n",
       "    <tr style=\"text-align: right;\">\n",
       "      <th></th>\n",
       "      <th>label</th>\n",
       "      <th>mutant</th>\n",
       "      <th>template</th>\n",
       "      <th>original</th>\n",
       "      <th>identifier</th>\n",
       "      <th>type</th>\n",
       "      <th>country</th>\n",
       "      <th>prediction</th>\n",
       "    </tr>\n",
       "    <tr>\n",
       "      <th>gender</th>\n",
       "      <th></th>\n",
       "      <th></th>\n",
       "      <th></th>\n",
       "      <th></th>\n",
       "      <th></th>\n",
       "      <th></th>\n",
       "      <th></th>\n",
       "      <th></th>\n",
       "    </tr>\n",
       "  </thead>\n",
       "  <tbody>\n",
       "    <tr>\n",
       "      <th>female</th>\n",
       "      <td>489474</td>\n",
       "      <td>489474</td>\n",
       "      <td>489474</td>\n",
       "      <td>489474</td>\n",
       "      <td>489474</td>\n",
       "      <td>489474</td>\n",
       "      <td>481895</td>\n",
       "      <td>489474</td>\n",
       "    </tr>\n",
       "    <tr>\n",
       "      <th>male</th>\n",
       "      <td>489474</td>\n",
       "      <td>489474</td>\n",
       "      <td>489474</td>\n",
       "      <td>489474</td>\n",
       "      <td>489474</td>\n",
       "      <td>489474</td>\n",
       "      <td>481895</td>\n",
       "      <td>489474</td>\n",
       "    </tr>\n",
       "  </tbody>\n",
       "</table>\n",
       "</div>"
      ],
      "text/plain": [
       "         label  mutant  template  original  identifier    type  country  \\\n",
       "gender                                                                    \n",
       "female  489474  489474    489474    489474      489474  489474   481895   \n",
       "male    489474  489474    489474    489474      489474  489474   481895   \n",
       "\n",
       "        prediction  \n",
       "gender              \n",
       "female      489474  \n",
       "male        489474  "
      ]
     },
     "execution_count": 41,
     "metadata": {},
     "output_type": "execute_result"
    }
   ],
   "source": [
    "identifier = \"gender\"\n",
    "dc = df.groupby(identifier)\n",
    "\n",
    "dc.count()"
   ]
  },
  {
   "cell_type": "code",
   "execution_count": 42,
   "metadata": {},
   "outputs": [
    {
     "name": "stdout",
     "output_type": "stream",
     "text": [
      "2\n"
     ]
    }
   ],
   "source": [
    "print(len(dc))\n",
    "\n",
    "identifiers = []\n",
    "for k, v in dict(iter(dc)).items() :\n",
    "    identifiers.append(k)"
   ]
  },
  {
   "cell_type": "markdown",
   "metadata": {},
   "source": [
    "#### Calculate Global Performance"
   ]
  },
  {
   "cell_type": "code",
   "execution_count": 43,
   "metadata": {},
   "outputs": [
    {
     "name": "stdout",
     "output_type": "stream",
     "text": [
      "              precision    recall  f1-score   support\n",
      "\n",
      "           0       0.93      0.92      0.93    455884\n",
      "           1       0.93      0.94      0.94    523064\n",
      "\n",
      "    accuracy                           0.93    978948\n",
      "   macro avg       0.93      0.93      0.93    978948\n",
      "weighted avg       0.93      0.93      0.93    978948\n",
      "\n",
      "[[421392  34492]\n",
      " [ 32226 490838]]\n"
     ]
    }
   ],
   "source": [
    "from sklearn.metrics import classification_report\n",
    "from sklearn.metrics import confusion_matrix\n",
    "\n",
    "y_test = df[\"label\"]\n",
    "y_pred = df[\"prediction\"]\n",
    "print(classification_report(y_test, y_pred))\n",
    "cm = confusion_matrix(y_test, y_pred)\n",
    "print(cm)"
   ]
  },
  {
   "cell_type": "markdown",
   "metadata": {},
   "source": [
    "#### Calculate Performance for each Group"
   ]
  },
  {
   "cell_type": "code",
   "execution_count": 44,
   "metadata": {},
   "outputs": [],
   "source": [
    "for k, v in dict(iter(dc)).items() :\n",
    "    y_test = v[\"label\"]\n",
    "    y_pred = v[\"prediction\"]\n",
    "#     print(classification_report(y_test, y_pred))\n",
    "#     cm = confusion_matrix(y_test, y_pred)\n",
    "#     print(cm)"
   ]
  },
  {
   "cell_type": "markdown",
   "metadata": {},
   "source": [
    "#### Implementation\n",
    "\n",
    "Fundamental Thery about FPR and FNR: \n",
    "https://medium.com/datadriveninvestor/confusion-matric-tpr-fpr-fnr-tnr-precision-recall-f1-score-73efa162a25f\n",
    "\n",
    "\n",
    "Theory on FPED and FNED:\n",
    "https://research.google/pubs/pub46743/ "
   ]
  },
  {
   "cell_type": "code",
   "execution_count": 45,
   "metadata": {},
   "outputs": [
    {
     "name": "stdout",
     "output_type": "stream",
     "text": [
      "0.07565959761693765\n",
      "0.07068903492993832\n"
     ]
    }
   ],
   "source": [
    "# calculate false positive rate from given consufsion matrix\n",
    "def calculate_fpr(cm) :\n",
    "    negative = np.sum(cm[0])\n",
    "    fp = cm[0][1]\n",
    "    fpr = fp / negative\n",
    "    return fpr\n",
    "\n",
    "# calculate false positive rate from given consufsion matrix\n",
    "def calculate_fnr(cm) :\n",
    "    negative = np.sum(cm[0])\n",
    "    fn = cm[1][0]\n",
    "    fnr = fn / negative\n",
    "    return fnr\n",
    "\n",
    "print(calculate_fpr(cm))\n",
    "print(calculate_fnr(cm))"
   ]
  },
  {
   "cell_type": "markdown",
   "metadata": {},
   "source": [
    "#### Calculate Global FPR and FNR"
   ]
  },
  {
   "cell_type": "code",
   "execution_count": 46,
   "metadata": {},
   "outputs": [
    {
     "name": "stdout",
     "output_type": "stream",
     "text": [
      "global fpr:  0.07565959761693765\n",
      "global fnr:  0.07068903492993832\n"
     ]
    }
   ],
   "source": [
    "y_test = df[\"label\"]\n",
    "y_pred = df[\"prediction\"]\n",
    "cm = confusion_matrix(y_test, y_pred)\n",
    "global_fpr = calculate_fpr(cm)\n",
    "global_fnr = calculate_fnr(cm)\n",
    "print(\"global fpr: \", global_fpr)\n",
    "print(\"global fnr: \", global_fnr)"
   ]
  },
  {
   "cell_type": "markdown",
   "metadata": {},
   "source": [
    "#### Calculate FPR and FNR for each Country"
   ]
  },
  {
   "cell_type": "code",
   "execution_count": 47,
   "metadata": {},
   "outputs": [],
   "source": [
    "fprs = []\n",
    "fnrs = []\n",
    "\n",
    "for k, v in dict(iter(dc)).items() :\n",
    "    y_test = v[\"label\"]\n",
    "    y_pred = v[\"prediction\"]\n",
    "    cm = confusion_matrix(y_test, y_pred)\n",
    "    fpr = calculate_fpr(cm)\n",
    "    fnr = calculate_fnr(cm)\n",
    "    fprs.append(round(fpr, 5))\n",
    "    fnrs.append(round(fnr, 5))"
   ]
  },
  {
   "cell_type": "code",
   "execution_count": 48,
   "metadata": {},
   "outputs": [
    {
     "name": "stdout",
     "output_type": "stream",
     "text": [
      "Requirement already satisfied: certifi in /opt/conda/lib/python3.6/site-packages (2020.6.20)\n"
     ]
    }
   ],
   "source": [
    "!pip install certifi"
   ]
  },
  {
   "cell_type": "code",
   "execution_count": 49,
   "metadata": {},
   "outputs": [
    {
     "data": {
      "text/html": [
       "<div>\n",
       "<style scoped>\n",
       "    .dataframe tbody tr th:only-of-type {\n",
       "        vertical-align: middle;\n",
       "    }\n",
       "\n",
       "    .dataframe tbody tr th {\n",
       "        vertical-align: top;\n",
       "    }\n",
       "\n",
       "    .dataframe thead th {\n",
       "        text-align: right;\n",
       "    }\n",
       "</style>\n",
       "<table border=\"1\" class=\"dataframe\">\n",
       "  <thead>\n",
       "    <tr style=\"text-align: right;\">\n",
       "      <th></th>\n",
       "      <th>FPR</th>\n",
       "    </tr>\n",
       "    <tr>\n",
       "      <th>identifier</th>\n",
       "      <th></th>\n",
       "    </tr>\n",
       "  </thead>\n",
       "  <tbody>\n",
       "    <tr>\n",
       "      <th>male</th>\n",
       "      <td>0.07705</td>\n",
       "    </tr>\n",
       "    <tr>\n",
       "      <th>female</th>\n",
       "      <td>0.07427</td>\n",
       "    </tr>\n",
       "  </tbody>\n",
       "</table>\n",
       "</div>"
      ],
      "text/plain": [
       "                FPR\n",
       "identifier         \n",
       "male        0.07705\n",
       "female      0.07427"
      ]
     },
     "execution_count": 49,
     "metadata": {},
     "output_type": "execute_result"
    }
   ],
   "source": [
    "import matplotlib.pyplot as plt\n",
    "%matplotlib inline\n",
    "\n",
    "\n",
    "dfprs = pd.DataFrame(data={\"identifier\": identifiers, \"FPR\":fprs})\n",
    "dfprs = dfprs.groupby(\"identifier\").sum().sort_values(by=[\"FPR\"],ascending=False)\n",
    "\n",
    "dfprs.head()"
   ]
  },
  {
   "cell_type": "code",
   "execution_count": 50,
   "metadata": {},
   "outputs": [
    {
     "data": {
      "text/plain": [
       "Text(0, 0.5, 'FPR')"
      ]
     },
     "execution_count": 50,
     "metadata": {},
     "output_type": "execute_result"
    },
    {
     "data": {
      "image/png": "[encoded data removed]",
      "text/plain": [
       "<Figure size 432x288 with 1 Axes>"
      ]
     },
     "metadata": {
      "needs_background": "light"
     },
     "output_type": "display_data"
    }
   ],
   "source": [
    "my_plot = dfprs.plot(kind='bar', legend=None, title=\"FPR per \" + identifier)\n",
    "my_plot.set_xlabel(identifier)\n",
    "my_plot.set_ylabel(\"FPR\")"
   ]
  },
  {
   "cell_type": "code",
   "execution_count": 51,
   "metadata": {},
   "outputs": [
    {
     "data": {
      "text/html": [
       "<div>\n",
       "<style scoped>\n",
       "    .dataframe tbody tr th:only-of-type {\n",
       "        vertical-align: middle;\n",
       "    }\n",
       "\n",
       "    .dataframe tbody tr th {\n",
       "        vertical-align: top;\n",
       "    }\n",
       "\n",
       "    .dataframe thead th {\n",
       "        text-align: right;\n",
       "    }\n",
       "</style>\n",
       "<table border=\"1\" class=\"dataframe\">\n",
       "  <thead>\n",
       "    <tr style=\"text-align: right;\">\n",
       "      <th></th>\n",
       "      <th>FNR</th>\n",
       "    </tr>\n",
       "    <tr>\n",
       "      <th>identifier</th>\n",
       "      <th></th>\n",
       "    </tr>\n",
       "  </thead>\n",
       "  <tbody>\n",
       "    <tr>\n",
       "      <th>female</th>\n",
       "      <td>0.07240</td>\n",
       "    </tr>\n",
       "    <tr>\n",
       "      <th>male</th>\n",
       "      <td>0.06897</td>\n",
       "    </tr>\n",
       "  </tbody>\n",
       "</table>\n",
       "</div>"
      ],
      "text/plain": [
       "                FNR\n",
       "identifier         \n",
       "female      0.07240\n",
       "male        0.06897"
      ]
     },
     "execution_count": 51,
     "metadata": {},
     "output_type": "execute_result"
    }
   ],
   "source": [
    "dfnrs = pd.DataFrame(data={\"identifier\": identifiers, \"FNR\":fnrs})\n",
    "dfnrs = dfnrs.groupby(\"identifier\").sum().sort_values(by=[\"FNR\"],ascending=False)\n",
    "\n",
    "dfnrs.head()"
   ]
  },
  {
   "cell_type": "code",
   "execution_count": 52,
   "metadata": {},
   "outputs": [
    {
     "data": {
      "text/plain": [
       "Text(0, 0.5, 'FNR')"
      ]
     },
     "execution_count": 52,
     "metadata": {},
     "output_type": "execute_result"
    },
    {
     "data": {
      "image/png": "[encoded data removed]",
      "text/plain": [
       "<Figure size 432x288 with 1 Axes>"
      ]
     },
     "metadata": {
      "needs_background": "light"
     },
     "output_type": "display_data"
    }
   ],
   "source": [
    "my_plot = dfnrs.plot(kind='bar', legend=None, title=\"FNR per \" + identifier)\n",
    "my_plot.set_xlabel(identifier)\n",
    "my_plot.set_ylabel(\"FNR\")"
   ]
  },
  {
   "cell_type": "markdown",
   "metadata": {},
   "source": [
    "#### Calculate FNED and FPED"
   ]
  },
  {
   "cell_type": "code",
   "execution_count": 53,
   "metadata": {},
   "outputs": [
    {
     "name": "stdout",
     "output_type": "stream",
     "text": [
      "\n",
      "FPED:  0.0027726351440278407\n",
      "FNED:  0.0034306972826420867\n"
     ]
    }
   ],
   "source": [
    "fped = 0\n",
    "fned = 0\n",
    "\n",
    "for _fpr, _fnr in zip(fprs, fnrs) :\n",
    "    fped += abs(global_fpr - fpr)\n",
    "    fned += abs(global_fnr - fnr)\n",
    "\n",
    "print()\n",
    "print(\"FPED: \", fped)\n",
    "print(\"FNED: \", fned)"
   ]
  },
  {
   "cell_type": "code",
   "execution_count": null,
   "metadata": {},
   "outputs": [],
   "source": []
  }
 ],
 "metadata": {
  "kernelspec": {
   "display_name": "Python 3",
   "language": "python",
   "name": "python3"
  },
  "language_info": {
   "codemirror_mode": {
    "name": "ipython",
    "version": 3
   },
   "file_extension": ".py",
   "mimetype": "text/x-python",
   "name": "python",
   "nbconvert_exporter": "python",
   "pygments_lexer": "ipython3",
   "version": "3.6.8"
  }
 },
 "nbformat": 4,
 "nbformat_minor": 4
}
