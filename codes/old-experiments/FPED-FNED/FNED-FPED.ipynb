{
 "cells": [
  {
   "cell_type": "markdown",
   "metadata": {},
   "source": [
    "## FNED and FPED Implementation"
   ]
  },
  {
   "cell_type": "code",
   "execution_count": 1,
   "metadata": {},
   "outputs": [],
   "source": [
    "import pandas as pd\n",
    "import numpy as np\n",
    "import math"
   ]
  },
  {
   "cell_type": "markdown",
   "metadata": {},
   "source": [
    "#### Read Original Data"
   ]
  },
  {
   "cell_type": "code",
   "execution_count": 2,
   "metadata": {},
   "outputs": [],
   "source": [
    "data_dir = \"imdb_mutant\"\n",
    "dfm = pd.read_csv(\"../data/\" + data_dir + \"/male/test.csv\", header=None, sep=\"\\t\", names=[\"label\", \"text\", \"template\"])\n",
    "dff = pd.read_csv(\"../data/\" + data_dir + \"/female/test.csv\", header=None, sep=\"\\t\", names=[\"label\", \"text\", \"template\"])"
   ]
  },
  {
   "cell_type": "markdown",
   "metadata": {},
   "source": [
    "#### Read Prediction Result from the Model\n",
    "\n",
    "Make sure you set variable `ouput_dir` with the same `output_dir` in the fine-tuning parameter"
   ]
  },
  {
   "cell_type": "code",
   "execution_count": 25,
   "metadata": {},
   "outputs": [],
   "source": [
    "def read_txt(fpath):\n",
    "    pred = []\n",
    "    file = open(fpath)\n",
    "    lines = file.readlines()\n",
    "    for l in lines :\n",
    "        pred.append(int(l))\n",
    "    file.close()\n",
    "    \n",
    "    return pred"
   ]
  },
  {
   "cell_type": "code",
   "execution_count": 27,
   "metadata": {},
   "outputs": [
    {
     "name": "stdout",
     "output_type": "stream",
     "text": [
      "139000\n",
      "139000\n"
     ]
    }
   ],
   "source": [
    "output_dir = \"exp2_on_imdb\"\n",
    "\n",
    "result_dir = \"../result/\" + output_dir + \"/\"\n",
    "\n",
    "rm = result_dir + \"results_data_male.txt\"\n",
    "rf = result_dir + \"results_data_female.txt\"\n",
    "\n",
    "mpred = read_txt(rm)\n",
    "fpred = read_txt(rf)\n",
    "\n",
    "print(len(mpred))\n",
    "print(len(fpred))"
   ]
  },
  {
   "cell_type": "code",
   "execution_count": 28,
   "metadata": {},
   "outputs": [],
   "source": [
    "dfm[\"pred\"] = mpred\n",
    "dff[\"pred\"] = fpred"
   ]
  },
  {
   "cell_type": "code",
   "execution_count": 29,
   "metadata": {},
   "outputs": [
    {
     "data": {
      "text/html": [
       "<div>\n",
       "<style scoped>\n",
       "    .dataframe tbody tr th:only-of-type {\n",
       "        vertical-align: middle;\n",
       "    }\n",
       "\n",
       "    .dataframe tbody tr th {\n",
       "        vertical-align: top;\n",
       "    }\n",
       "\n",
       "    .dataframe thead th {\n",
       "        text-align: right;\n",
       "    }\n",
       "</style>\n",
       "<table border=\"1\" class=\"dataframe\">\n",
       "  <thead>\n",
       "    <tr style=\"text-align: right;\">\n",
       "      <th></th>\n",
       "      <th>label</th>\n",
       "      <th>text</th>\n",
       "      <th>template</th>\n",
       "      <th>pred</th>\n",
       "    </tr>\n",
       "  </thead>\n",
       "  <tbody>\n",
       "    <tr>\n",
       "      <th>0</th>\n",
       "      <td>1</td>\n",
       "      <td>I have only see three episodes of Hack, starri...</td>\n",
       "      <td>I have only see three episodes of Hack, starri...</td>\n",
       "      <td>1</td>\n",
       "    </tr>\n",
       "    <tr>\n",
       "      <th>1</th>\n",
       "      <td>1</td>\n",
       "      <td>I have only see three episodes of Hack, starri...</td>\n",
       "      <td>I have only see three episodes of Hack, starri...</td>\n",
       "      <td>1</td>\n",
       "    </tr>\n",
       "    <tr>\n",
       "      <th>2</th>\n",
       "      <td>1</td>\n",
       "      <td>I have only see three episodes of Hack, starri...</td>\n",
       "      <td>I have only see three episodes of Hack, starri...</td>\n",
       "      <td>1</td>\n",
       "    </tr>\n",
       "    <tr>\n",
       "      <th>3</th>\n",
       "      <td>1</td>\n",
       "      <td>I have only see three episodes of Hack, starri...</td>\n",
       "      <td>I have only see three episodes of Hack, starri...</td>\n",
       "      <td>1</td>\n",
       "    </tr>\n",
       "    <tr>\n",
       "      <th>4</th>\n",
       "      <td>1</td>\n",
       "      <td>I have only see three episodes of Hack, starri...</td>\n",
       "      <td>I have only see three episodes of Hack, starri...</td>\n",
       "      <td>1</td>\n",
       "    </tr>\n",
       "  </tbody>\n",
       "</table>\n",
       "</div>"
      ],
      "text/plain": [
       "   label                                               text  \\\n",
       "0      1  I have only see three episodes of Hack, starri...   \n",
       "1      1  I have only see three episodes of Hack, starri...   \n",
       "2      1  I have only see three episodes of Hack, starri...   \n",
       "3      1  I have only see three episodes of Hack, starri...   \n",
       "4      1  I have only see three episodes of Hack, starri...   \n",
       "\n",
       "                                            template  pred  \n",
       "0  I have only see three episodes of Hack, starri...     1  \n",
       "1  I have only see three episodes of Hack, starri...     1  \n",
       "2  I have only see three episodes of Hack, starri...     1  \n",
       "3  I have only see three episodes of Hack, starri...     1  \n",
       "4  I have only see three episodes of Hack, starri...     1  "
      ]
     },
     "execution_count": 29,
     "metadata": {},
     "output_type": "execute_result"
    }
   ],
   "source": [
    "dfm.head()"
   ]
  },
  {
   "cell_type": "code",
   "execution_count": 30,
   "metadata": {},
   "outputs": [],
   "source": [
    "df = pd.concat([dfm, dff])"
   ]
  },
  {
   "cell_type": "code",
   "execution_count": 31,
   "metadata": {},
   "outputs": [
    {
     "data": {
      "text/html": [
       "<div>\n",
       "<style scoped>\n",
       "    .dataframe tbody tr th:only-of-type {\n",
       "        vertical-align: middle;\n",
       "    }\n",
       "\n",
       "    .dataframe tbody tr th {\n",
       "        vertical-align: top;\n",
       "    }\n",
       "\n",
       "    .dataframe thead th {\n",
       "        text-align: right;\n",
       "    }\n",
       "</style>\n",
       "<table border=\"1\" class=\"dataframe\">\n",
       "  <thead>\n",
       "    <tr style=\"text-align: right;\">\n",
       "      <th></th>\n",
       "      <th>label</th>\n",
       "      <th>text</th>\n",
       "      <th>template</th>\n",
       "      <th>pred</th>\n",
       "    </tr>\n",
       "  </thead>\n",
       "  <tbody>\n",
       "    <tr>\n",
       "      <th>0</th>\n",
       "      <td>1</td>\n",
       "      <td>I have only see three episodes of Hack, starri...</td>\n",
       "      <td>I have only see three episodes of Hack, starri...</td>\n",
       "      <td>1</td>\n",
       "    </tr>\n",
       "    <tr>\n",
       "      <th>1</th>\n",
       "      <td>1</td>\n",
       "      <td>I have only see three episodes of Hack, starri...</td>\n",
       "      <td>I have only see three episodes of Hack, starri...</td>\n",
       "      <td>1</td>\n",
       "    </tr>\n",
       "    <tr>\n",
       "      <th>2</th>\n",
       "      <td>1</td>\n",
       "      <td>I have only see three episodes of Hack, starri...</td>\n",
       "      <td>I have only see three episodes of Hack, starri...</td>\n",
       "      <td>1</td>\n",
       "    </tr>\n",
       "    <tr>\n",
       "      <th>3</th>\n",
       "      <td>1</td>\n",
       "      <td>I have only see three episodes of Hack, starri...</td>\n",
       "      <td>I have only see three episodes of Hack, starri...</td>\n",
       "      <td>1</td>\n",
       "    </tr>\n",
       "    <tr>\n",
       "      <th>4</th>\n",
       "      <td>1</td>\n",
       "      <td>I have only see three episodes of Hack, starri...</td>\n",
       "      <td>I have only see three episodes of Hack, starri...</td>\n",
       "      <td>1</td>\n",
       "    </tr>\n",
       "    <tr>\n",
       "      <th>...</th>\n",
       "      <td>...</td>\n",
       "      <td>...</td>\n",
       "      <td>...</td>\n",
       "      <td>...</td>\n",
       "    </tr>\n",
       "    <tr>\n",
       "      <th>138995</th>\n",
       "      <td>1</td>\n",
       "      <td>First, I'm a huge Melanie fan. I grew up knowi...</td>\n",
       "      <td>First, I'm a huge Buddy Holly fan. I grew up k...</td>\n",
       "      <td>1</td>\n",
       "    </tr>\n",
       "    <tr>\n",
       "      <th>138996</th>\n",
       "      <td>1</td>\n",
       "      <td>First, I'm a huge Tanisha fan. I grew up knowi...</td>\n",
       "      <td>First, I'm a huge Buddy Holly fan. I grew up k...</td>\n",
       "      <td>1</td>\n",
       "    </tr>\n",
       "    <tr>\n",
       "      <th>138997</th>\n",
       "      <td>1</td>\n",
       "      <td>First, I'm a huge Nancy fan. I grew up knowing...</td>\n",
       "      <td>First, I'm a huge Buddy Holly fan. I grew up k...</td>\n",
       "      <td>1</td>\n",
       "    </tr>\n",
       "    <tr>\n",
       "      <th>138998</th>\n",
       "      <td>1</td>\n",
       "      <td>First, I'm a huge Tia fan. I grew up knowing w...</td>\n",
       "      <td>First, I'm a huge Buddy Holly fan. I grew up k...</td>\n",
       "      <td>1</td>\n",
       "    </tr>\n",
       "    <tr>\n",
       "      <th>138999</th>\n",
       "      <td>1</td>\n",
       "      <td>First, I'm a huge Stephanie fan. I grew up kno...</td>\n",
       "      <td>First, I'm a huge Buddy Holly fan. I grew up k...</td>\n",
       "      <td>1</td>\n",
       "    </tr>\n",
       "  </tbody>\n",
       "</table>\n",
       "<p>278000 rows × 4 columns</p>\n",
       "</div>"
      ],
      "text/plain": [
       "        label                                               text  \\\n",
       "0           1  I have only see three episodes of Hack, starri...   \n",
       "1           1  I have only see three episodes of Hack, starri...   \n",
       "2           1  I have only see three episodes of Hack, starri...   \n",
       "3           1  I have only see three episodes of Hack, starri...   \n",
       "4           1  I have only see three episodes of Hack, starri...   \n",
       "...       ...                                                ...   \n",
       "138995      1  First, I'm a huge Melanie fan. I grew up knowi...   \n",
       "138996      1  First, I'm a huge Tanisha fan. I grew up knowi...   \n",
       "138997      1  First, I'm a huge Nancy fan. I grew up knowing...   \n",
       "138998      1  First, I'm a huge Tia fan. I grew up knowing w...   \n",
       "138999      1  First, I'm a huge Stephanie fan. I grew up kno...   \n",
       "\n",
       "                                                 template  pred  \n",
       "0       I have only see three episodes of Hack, starri...     1  \n",
       "1       I have only see three episodes of Hack, starri...     1  \n",
       "2       I have only see three episodes of Hack, starri...     1  \n",
       "3       I have only see three episodes of Hack, starri...     1  \n",
       "4       I have only see three episodes of Hack, starri...     1  \n",
       "...                                                   ...   ...  \n",
       "138995  First, I'm a huge Buddy Holly fan. I grew up k...     1  \n",
       "138996  First, I'm a huge Buddy Holly fan. I grew up k...     1  \n",
       "138997  First, I'm a huge Buddy Holly fan. I grew up k...     1  \n",
       "138998  First, I'm a huge Buddy Holly fan. I grew up k...     1  \n",
       "138999  First, I'm a huge Buddy Holly fan. I grew up k...     1  \n",
       "\n",
       "[278000 rows x 4 columns]"
      ]
     },
     "execution_count": 31,
     "metadata": {},
     "output_type": "execute_result"
    }
   ],
   "source": [
    "df"
   ]
  },
  {
   "cell_type": "markdown",
   "metadata": {},
   "source": [
    "#### Calculate Global Performance"
   ]
  },
  {
   "cell_type": "code",
   "execution_count": 32,
   "metadata": {},
   "outputs": [
    {
     "name": "stdout",
     "output_type": "stream",
     "text": [
      "              precision    recall  f1-score   support\n",
      "\n",
      "           0       0.82      0.97      0.89    139240\n",
      "           1       0.96      0.79      0.87    138760\n",
      "\n",
      "    accuracy                           0.88    278000\n",
      "   macro avg       0.89      0.88      0.88    278000\n",
      "weighted avg       0.89      0.88      0.88    278000\n",
      "\n",
      "[[135172   4068]\n",
      " [ 29407 109353]]\n"
     ]
    }
   ],
   "source": [
    "from sklearn.metrics import classification_report\n",
    "from sklearn.metrics import confusion_matrix\n",
    "\n",
    "y_test = df[\"label\"]\n",
    "y_pred = df[\"pred\"]\n",
    "print(classification_report(y_test, y_pred))\n",
    "cm = confusion_matrix(y_test, y_pred)\n",
    "print(cm)"
   ]
  },
  {
   "cell_type": "markdown",
   "metadata": {},
   "source": [
    "#### Calculate Performance for each Group"
   ]
  },
  {
   "cell_type": "code",
   "execution_count": 33,
   "metadata": {},
   "outputs": [
    {
     "name": "stdout",
     "output_type": "stream",
     "text": [
      "              precision    recall  f1-score   support\n",
      "\n",
      "           0       0.82      0.97      0.89     69620\n",
      "           1       0.96      0.79      0.87     69380\n",
      "\n",
      "    accuracy                           0.88    139000\n",
      "   macro avg       0.89      0.88      0.88    139000\n",
      "weighted avg       0.89      0.88      0.88    139000\n",
      "\n",
      "[[67579  2041]\n",
      " [14507 54873]]\n"
     ]
    }
   ],
   "source": [
    "y_test = dfm[\"label\"]\n",
    "y_pred = dfm[\"pred\"]\n",
    "print(classification_report(y_test, y_pred))\n",
    "cm = confusion_matrix(y_test, y_pred)\n",
    "print(cm)"
   ]
  },
  {
   "cell_type": "code",
   "execution_count": 34,
   "metadata": {},
   "outputs": [
    {
     "name": "stdout",
     "output_type": "stream",
     "text": [
      "              precision    recall  f1-score   support\n",
      "\n",
      "           0       0.82      0.97      0.89     69620\n",
      "           1       0.96      0.79      0.87     69380\n",
      "\n",
      "    accuracy                           0.88    139000\n",
      "   macro avg       0.89      0.88      0.88    139000\n",
      "weighted avg       0.89      0.88      0.88    139000\n",
      "\n",
      "[[67593  2027]\n",
      " [14900 54480]]\n"
     ]
    }
   ],
   "source": [
    "y_test = dff[\"label\"]\n",
    "y_pred = dff[\"pred\"]\n",
    "print(classification_report(y_test, y_pred))\n",
    "cm = confusion_matrix(y_test, y_pred)\n",
    "print(cm)"
   ]
  },
  {
   "cell_type": "markdown",
   "metadata": {},
   "source": [
    "#### Implementation\n",
    "\n",
    "Fundamental Thery about FPR and FNR: \n",
    "https://medium.com/datadriveninvestor/confusion-matric-tpr-fpr-fnr-tnr-precision-recall-f1-score-73efa162a25f\n",
    "\n",
    "\n",
    "Theory on FPED and FNED:\n",
    "https://research.google/pubs/pub46743/ "
   ]
  },
  {
   "cell_type": "code",
   "execution_count": 35,
   "metadata": {},
   "outputs": [
    {
     "name": "stdout",
     "output_type": "stream",
     "text": [
      "0.029115196782533756\n",
      "0.21401896006894572\n"
     ]
    }
   ],
   "source": [
    "# calculate false positive rate from given consufsion matrix\n",
    "def calculate_fpr(cm) :\n",
    "    negative = np.sum(cm[0])\n",
    "    fp = cm[0][1]\n",
    "    fpr = fp / negative\n",
    "    return fpr\n",
    "\n",
    "# calculate false positive rate from given consufsion matrix\n",
    "def calculate_fnr(cm) :\n",
    "    negative = np.sum(cm[0])\n",
    "    fn = cm[1][0]\n",
    "    fnr = fn / negative\n",
    "    return fnr\n",
    "\n",
    "print(calculate_fpr(cm))\n",
    "print(calculate_fnr(cm))"
   ]
  },
  {
   "cell_type": "code",
   "execution_count": 36,
   "metadata": {},
   "outputs": [
    {
     "name": "stdout",
     "output_type": "stream",
     "text": [
      "global fpr:  0.029215742602700375\n",
      "global fnr:  0.21119649525998277\n",
      "fpr:  0.02931628842286699\n",
      "fnr:  0.20837403045101982\n",
      "fpr:  0.029115196782533756\n",
      "fnr:  0.21401896006894572\n",
      "\n",
      "FPED:  0.00020109164033323482\n",
      "FNED:  0.005644929617925898\n"
     ]
    }
   ],
   "source": [
    "y_test = df[\"label\"]\n",
    "y_pred = df[\"pred\"]\n",
    "cm = confusion_matrix(y_test, y_pred)\n",
    "global_fpr = calculate_fpr(cm)\n",
    "global_fnr = calculate_fnr(cm)\n",
    "print(\"global fpr: \", global_fpr)\n",
    "print(\"global fnr: \", global_fnr)\n",
    "\n",
    "d = [dfm, dff]\n",
    "fped = 0\n",
    "fned = 0\n",
    "for _d in d :\n",
    "    y_test = _d[\"label\"]\n",
    "    y_pred = _d[\"pred\"]\n",
    "    cm = confusion_matrix(y_test, y_pred)\n",
    "    fpr = calculate_fpr(cm)\n",
    "    fnr = calculate_fnr(cm)\n",
    "    fped += abs(global_fpr - fpr)\n",
    "    fned += abs(global_fnr - fnr)\n",
    "    print(\"fpr: \", fpr)\n",
    "    print(\"fnr: \", fnr)\n",
    "\n",
    "print()\n",
    "print(\"FPED: \", fped)\n",
    "print(\"FNED: \", fned)"
   ]
  }
 ],
 "metadata": {
  "kernelspec": {
   "display_name": "Python 3",
   "language": "python",
   "name": "python3"
  },
  "language_info": {
   "codemirror_mode": {
    "name": "ipython",
    "version": 3
   },
   "file_extension": ".py",
   "mimetype": "text/x-python",
   "name": "python",
   "nbconvert_exporter": "python",
   "pygments_lexer": "ipython3",
   "version": "3.6.8"
  }
 },
 "nbformat": 4,
 "nbformat_minor": 4
}
