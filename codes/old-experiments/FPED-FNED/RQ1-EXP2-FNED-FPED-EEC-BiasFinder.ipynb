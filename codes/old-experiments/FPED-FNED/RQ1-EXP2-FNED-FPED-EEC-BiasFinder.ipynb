{
 "cells": [
  {
   "cell_type": "markdown",
   "metadata": {},
   "source": [
    "## FNED and FPED Implementation"
   ]
  },
  {
   "cell_type": "code",
   "execution_count": 1,
   "metadata": {},
   "outputs": [],
   "source": [
    "import pandas as pd\n",
    "import numpy as np\n",
    "import math\n",
    "import os\n",
    "import random "
   ]
  },
  {
   "cell_type": "markdown",
   "metadata": {},
   "source": [
    "#### Read Original Data"
   ]
  },
  {
   "cell_type": "code",
   "execution_count": 6,
   "metadata": {},
   "outputs": [
    {
     "data": {
      "text/html": [
       "<div>\n",
       "<style scoped>\n",
       "    .dataframe tbody tr th:only-of-type {\n",
       "        vertical-align: middle;\n",
       "    }\n",
       "\n",
       "    .dataframe tbody tr th {\n",
       "        vertical-align: top;\n",
       "    }\n",
       "\n",
       "    .dataframe thead th {\n",
       "        text-align: right;\n",
       "    }\n",
       "</style>\n",
       "<table border=\"1\" class=\"dataframe\">\n",
       "  <thead>\n",
       "    <tr style=\"text-align: right;\">\n",
       "      <th></th>\n",
       "      <th>label</th>\n",
       "      <th>mutant</th>\n",
       "      <th>template</th>\n",
       "      <th>original</th>\n",
       "      <th>identifier</th>\n",
       "      <th>type</th>\n",
       "      <th>gender</th>\n",
       "      <th>country</th>\n",
       "    </tr>\n",
       "  </thead>\n",
       "  <tbody>\n",
       "    <tr>\n",
       "      <th>0</th>\n",
       "      <td>1</td>\n",
       "      <td>I have only see three episodes of Hack, starri...</td>\n",
       "      <td>I have only see three episodes of Hack, starri...</td>\n",
       "      <td>I have only see three episodes of Hack, starri...</td>\n",
       "      <td>Alonzo</td>\n",
       "      <td>name</td>\n",
       "      <td>male</td>\n",
       "      <td>African American</td>\n",
       "    </tr>\n",
       "    <tr>\n",
       "      <th>1</th>\n",
       "      <td>1</td>\n",
       "      <td>I have only see three episodes of Hack, starri...</td>\n",
       "      <td>I have only see three episodes of Hack, starri...</td>\n",
       "      <td>I have only see three episodes of Hack, starri...</td>\n",
       "      <td>Adam</td>\n",
       "      <td>name</td>\n",
       "      <td>male</td>\n",
       "      <td>African American</td>\n",
       "    </tr>\n",
       "    <tr>\n",
       "      <th>2</th>\n",
       "      <td>1</td>\n",
       "      <td>I have only see three episodes of Hack, starri...</td>\n",
       "      <td>I have only see three episodes of Hack, starri...</td>\n",
       "      <td>I have only see three episodes of Hack, starri...</td>\n",
       "      <td>Alphonse</td>\n",
       "      <td>name</td>\n",
       "      <td>male</td>\n",
       "      <td>African American</td>\n",
       "    </tr>\n",
       "    <tr>\n",
       "      <th>3</th>\n",
       "      <td>1</td>\n",
       "      <td>I have only see three episodes of Hack, starri...</td>\n",
       "      <td>I have only see three episodes of Hack, starri...</td>\n",
       "      <td>I have only see three episodes of Hack, starri...</td>\n",
       "      <td>Alan</td>\n",
       "      <td>name</td>\n",
       "      <td>male</td>\n",
       "      <td>African American</td>\n",
       "    </tr>\n",
       "    <tr>\n",
       "      <th>4</th>\n",
       "      <td>1</td>\n",
       "      <td>I have only see three episodes of Hack, starri...</td>\n",
       "      <td>I have only see three episodes of Hack, starri...</td>\n",
       "      <td>I have only see three episodes of Hack, starri...</td>\n",
       "      <td>Darnell</td>\n",
       "      <td>name</td>\n",
       "      <td>male</td>\n",
       "      <td>African American</td>\n",
       "    </tr>\n",
       "    <tr>\n",
       "      <th>...</th>\n",
       "      <td>...</td>\n",
       "      <td>...</td>\n",
       "      <td>...</td>\n",
       "      <td>...</td>\n",
       "      <td>...</td>\n",
       "      <td>...</td>\n",
       "      <td>...</td>\n",
       "      <td>...</td>\n",
       "    </tr>\n",
       "    <tr>\n",
       "      <th>151757</th>\n",
       "      <td>1</td>\n",
       "      <td>Well, the movie did turn out a lot better than...</td>\n",
       "      <td>Well, the movie did turn out a lot better than...</td>\n",
       "      <td>Well, the movie did turn out a lot better than...</td>\n",
       "      <td>Melanie</td>\n",
       "      <td>name</td>\n",
       "      <td>female</td>\n",
       "      <td>European American</td>\n",
       "    </tr>\n",
       "    <tr>\n",
       "      <th>151758</th>\n",
       "      <td>1</td>\n",
       "      <td>Well, the movie did turn out a lot better than...</td>\n",
       "      <td>Well, the movie did turn out a lot better than...</td>\n",
       "      <td>Well, the movie did turn out a lot better than...</td>\n",
       "      <td>Tanisha</td>\n",
       "      <td>name</td>\n",
       "      <td>female</td>\n",
       "      <td>European American</td>\n",
       "    </tr>\n",
       "    <tr>\n",
       "      <th>151759</th>\n",
       "      <td>1</td>\n",
       "      <td>Well, the movie did turn out a lot better than...</td>\n",
       "      <td>Well, the movie did turn out a lot better than...</td>\n",
       "      <td>Well, the movie did turn out a lot better than...</td>\n",
       "      <td>Nancy</td>\n",
       "      <td>name</td>\n",
       "      <td>female</td>\n",
       "      <td>European American</td>\n",
       "    </tr>\n",
       "    <tr>\n",
       "      <th>151760</th>\n",
       "      <td>1</td>\n",
       "      <td>Well, the movie did turn out a lot better than...</td>\n",
       "      <td>Well, the movie did turn out a lot better than...</td>\n",
       "      <td>Well, the movie did turn out a lot better than...</td>\n",
       "      <td>Tia</td>\n",
       "      <td>name</td>\n",
       "      <td>female</td>\n",
       "      <td>European American</td>\n",
       "    </tr>\n",
       "    <tr>\n",
       "      <th>151761</th>\n",
       "      <td>1</td>\n",
       "      <td>Well, the movie did turn out a lot better than...</td>\n",
       "      <td>Well, the movie did turn out a lot better than...</td>\n",
       "      <td>Well, the movie did turn out a lot better than...</td>\n",
       "      <td>Stephanie</td>\n",
       "      <td>name</td>\n",
       "      <td>female</td>\n",
       "      <td>European American</td>\n",
       "    </tr>\n",
       "  </tbody>\n",
       "</table>\n",
       "<p>151762 rows × 8 columns</p>\n",
       "</div>"
      ],
      "text/plain": [
       "        label                                             mutant  \\\n",
       "0           1  I have only see three episodes of Hack, starri...   \n",
       "1           1  I have only see three episodes of Hack, starri...   \n",
       "2           1  I have only see three episodes of Hack, starri...   \n",
       "3           1  I have only see three episodes of Hack, starri...   \n",
       "4           1  I have only see three episodes of Hack, starri...   \n",
       "...       ...                                                ...   \n",
       "151757      1  Well, the movie did turn out a lot better than...   \n",
       "151758      1  Well, the movie did turn out a lot better than...   \n",
       "151759      1  Well, the movie did turn out a lot better than...   \n",
       "151760      1  Well, the movie did turn out a lot better than...   \n",
       "151761      1  Well, the movie did turn out a lot better than...   \n",
       "\n",
       "                                                 template  \\\n",
       "0       I have only see three episodes of Hack, starri...   \n",
       "1       I have only see three episodes of Hack, starri...   \n",
       "2       I have only see three episodes of Hack, starri...   \n",
       "3       I have only see three episodes of Hack, starri...   \n",
       "4       I have only see three episodes of Hack, starri...   \n",
       "...                                                   ...   \n",
       "151757  Well, the movie did turn out a lot better than...   \n",
       "151758  Well, the movie did turn out a lot better than...   \n",
       "151759  Well, the movie did turn out a lot better than...   \n",
       "151760  Well, the movie did turn out a lot better than...   \n",
       "151761  Well, the movie did turn out a lot better than...   \n",
       "\n",
       "                                                 original identifier  type  \\\n",
       "0       I have only see three episodes of Hack, starri...     Alonzo  name   \n",
       "1       I have only see three episodes of Hack, starri...       Adam  name   \n",
       "2       I have only see three episodes of Hack, starri...   Alphonse  name   \n",
       "3       I have only see three episodes of Hack, starri...       Alan  name   \n",
       "4       I have only see three episodes of Hack, starri...    Darnell  name   \n",
       "...                                                   ...        ...   ...   \n",
       "151757  Well, the movie did turn out a lot better than...    Melanie  name   \n",
       "151758  Well, the movie did turn out a lot better than...    Tanisha  name   \n",
       "151759  Well, the movie did turn out a lot better than...      Nancy  name   \n",
       "151760  Well, the movie did turn out a lot better than...        Tia  name   \n",
       "151761  Well, the movie did turn out a lot better than...  Stephanie  name   \n",
       "\n",
       "        gender            country  \n",
       "0         male   African American  \n",
       "1         male   African American  \n",
       "2         male   African American  \n",
       "3         male   African American  \n",
       "4         male   African American  \n",
       "...        ...                ...  \n",
       "151757  female  European American  \n",
       "151758  female  European American  \n",
       "151759  female  European American  \n",
       "151760  female  European American  \n",
       "151761  female  European American  \n",
       "\n",
       "[151762 rows x 8 columns]"
      ]
     },
     "execution_count": 6,
     "metadata": {},
     "output_type": "execute_result"
    }
   ],
   "source": [
    "eval_dir = \"imdb_using_eec_name\"\n",
    "# df = pd.read_csv(\"../data/\" + eval_dir + \"/test.csv\", header=None, sep=\"\\t\", names=[0, 1, \"mutant\", \"template\", \"gender\", \"label\", \"country\"])\n",
    "df = pd.read_csv(\"../data/\" + eval_dir + \"/test.csv\", header=None, sep=\"\\t\", names=[\"label\", \"mutant\", \"template\", \"original\", \"identifier\", \"type\", \"gender\", \"country\"])\n",
    "df"
   ]
  },
  {
   "cell_type": "code",
   "execution_count": 7,
   "metadata": {},
   "outputs": [
    {
     "data": {
      "text/html": [
       "<div>\n",
       "<style scoped>\n",
       "    .dataframe tbody tr th:only-of-type {\n",
       "        vertical-align: middle;\n",
       "    }\n",
       "\n",
       "    .dataframe tbody tr th {\n",
       "        vertical-align: top;\n",
       "    }\n",
       "\n",
       "    .dataframe thead th {\n",
       "        text-align: right;\n",
       "    }\n",
       "</style>\n",
       "<table border=\"1\" class=\"dataframe\">\n",
       "  <thead>\n",
       "    <tr style=\"text-align: right;\">\n",
       "      <th></th>\n",
       "      <th>label</th>\n",
       "      <th>mutant</th>\n",
       "      <th>template</th>\n",
       "      <th>original</th>\n",
       "      <th>identifier</th>\n",
       "      <th>type</th>\n",
       "      <th>gender</th>\n",
       "      <th>country</th>\n",
       "    </tr>\n",
       "  </thead>\n",
       "  <tbody>\n",
       "    <tr>\n",
       "      <th>0</th>\n",
       "      <td>1</td>\n",
       "      <td>I have only see three episodes of Hack, starri...</td>\n",
       "      <td>I have only see three episodes of Hack, starri...</td>\n",
       "      <td>I have only see three episodes of Hack, starri...</td>\n",
       "      <td>Alonzo</td>\n",
       "      <td>name</td>\n",
       "      <td>male</td>\n",
       "      <td>African American</td>\n",
       "    </tr>\n",
       "    <tr>\n",
       "      <th>1</th>\n",
       "      <td>1</td>\n",
       "      <td>I have only see three episodes of Hack, starri...</td>\n",
       "      <td>I have only see three episodes of Hack, starri...</td>\n",
       "      <td>I have only see three episodes of Hack, starri...</td>\n",
       "      <td>Adam</td>\n",
       "      <td>name</td>\n",
       "      <td>male</td>\n",
       "      <td>African American</td>\n",
       "    </tr>\n",
       "    <tr>\n",
       "      <th>2</th>\n",
       "      <td>1</td>\n",
       "      <td>I have only see three episodes of Hack, starri...</td>\n",
       "      <td>I have only see three episodes of Hack, starri...</td>\n",
       "      <td>I have only see three episodes of Hack, starri...</td>\n",
       "      <td>Alphonse</td>\n",
       "      <td>name</td>\n",
       "      <td>male</td>\n",
       "      <td>African American</td>\n",
       "    </tr>\n",
       "    <tr>\n",
       "      <th>3</th>\n",
       "      <td>1</td>\n",
       "      <td>I have only see three episodes of Hack, starri...</td>\n",
       "      <td>I have only see three episodes of Hack, starri...</td>\n",
       "      <td>I have only see three episodes of Hack, starri...</td>\n",
       "      <td>Alan</td>\n",
       "      <td>name</td>\n",
       "      <td>male</td>\n",
       "      <td>African American</td>\n",
       "    </tr>\n",
       "    <tr>\n",
       "      <th>4</th>\n",
       "      <td>1</td>\n",
       "      <td>I have only see three episodes of Hack, starri...</td>\n",
       "      <td>I have only see three episodes of Hack, starri...</td>\n",
       "      <td>I have only see three episodes of Hack, starri...</td>\n",
       "      <td>Darnell</td>\n",
       "      <td>name</td>\n",
       "      <td>male</td>\n",
       "      <td>African American</td>\n",
       "    </tr>\n",
       "    <tr>\n",
       "      <th>...</th>\n",
       "      <td>...</td>\n",
       "      <td>...</td>\n",
       "      <td>...</td>\n",
       "      <td>...</td>\n",
       "      <td>...</td>\n",
       "      <td>...</td>\n",
       "      <td>...</td>\n",
       "      <td>...</td>\n",
       "    </tr>\n",
       "    <tr>\n",
       "      <th>151757</th>\n",
       "      <td>1</td>\n",
       "      <td>Well, the movie did turn out a lot better than...</td>\n",
       "      <td>Well, the movie did turn out a lot better than...</td>\n",
       "      <td>Well, the movie did turn out a lot better than...</td>\n",
       "      <td>Melanie</td>\n",
       "      <td>name</td>\n",
       "      <td>female</td>\n",
       "      <td>European American</td>\n",
       "    </tr>\n",
       "    <tr>\n",
       "      <th>151758</th>\n",
       "      <td>1</td>\n",
       "      <td>Well, the movie did turn out a lot better than...</td>\n",
       "      <td>Well, the movie did turn out a lot better than...</td>\n",
       "      <td>Well, the movie did turn out a lot better than...</td>\n",
       "      <td>Tanisha</td>\n",
       "      <td>name</td>\n",
       "      <td>female</td>\n",
       "      <td>European American</td>\n",
       "    </tr>\n",
       "    <tr>\n",
       "      <th>151759</th>\n",
       "      <td>1</td>\n",
       "      <td>Well, the movie did turn out a lot better than...</td>\n",
       "      <td>Well, the movie did turn out a lot better than...</td>\n",
       "      <td>Well, the movie did turn out a lot better than...</td>\n",
       "      <td>Nancy</td>\n",
       "      <td>name</td>\n",
       "      <td>female</td>\n",
       "      <td>European American</td>\n",
       "    </tr>\n",
       "    <tr>\n",
       "      <th>151760</th>\n",
       "      <td>1</td>\n",
       "      <td>Well, the movie did turn out a lot better than...</td>\n",
       "      <td>Well, the movie did turn out a lot better than...</td>\n",
       "      <td>Well, the movie did turn out a lot better than...</td>\n",
       "      <td>Tia</td>\n",
       "      <td>name</td>\n",
       "      <td>female</td>\n",
       "      <td>European American</td>\n",
       "    </tr>\n",
       "    <tr>\n",
       "      <th>151761</th>\n",
       "      <td>1</td>\n",
       "      <td>Well, the movie did turn out a lot better than...</td>\n",
       "      <td>Well, the movie did turn out a lot better than...</td>\n",
       "      <td>Well, the movie did turn out a lot better than...</td>\n",
       "      <td>Stephanie</td>\n",
       "      <td>name</td>\n",
       "      <td>female</td>\n",
       "      <td>European American</td>\n",
       "    </tr>\n",
       "  </tbody>\n",
       "</table>\n",
       "<p>151762 rows × 8 columns</p>\n",
       "</div>"
      ],
      "text/plain": [
       "        label                                             mutant  \\\n",
       "0           1  I have only see three episodes of Hack, starri...   \n",
       "1           1  I have only see three episodes of Hack, starri...   \n",
       "2           1  I have only see three episodes of Hack, starri...   \n",
       "3           1  I have only see three episodes of Hack, starri...   \n",
       "4           1  I have only see three episodes of Hack, starri...   \n",
       "...       ...                                                ...   \n",
       "151757      1  Well, the movie did turn out a lot better than...   \n",
       "151758      1  Well, the movie did turn out a lot better than...   \n",
       "151759      1  Well, the movie did turn out a lot better than...   \n",
       "151760      1  Well, the movie did turn out a lot better than...   \n",
       "151761      1  Well, the movie did turn out a lot better than...   \n",
       "\n",
       "                                                 template  \\\n",
       "0       I have only see three episodes of Hack, starri...   \n",
       "1       I have only see three episodes of Hack, starri...   \n",
       "2       I have only see three episodes of Hack, starri...   \n",
       "3       I have only see three episodes of Hack, starri...   \n",
       "4       I have only see three episodes of Hack, starri...   \n",
       "...                                                   ...   \n",
       "151757  Well, the movie did turn out a lot better than...   \n",
       "151758  Well, the movie did turn out a lot better than...   \n",
       "151759  Well, the movie did turn out a lot better than...   \n",
       "151760  Well, the movie did turn out a lot better than...   \n",
       "151761  Well, the movie did turn out a lot better than...   \n",
       "\n",
       "                                                 original identifier  type  \\\n",
       "0       I have only see three episodes of Hack, starri...     Alonzo  name   \n",
       "1       I have only see three episodes of Hack, starri...       Adam  name   \n",
       "2       I have only see three episodes of Hack, starri...   Alphonse  name   \n",
       "3       I have only see three episodes of Hack, starri...       Alan  name   \n",
       "4       I have only see three episodes of Hack, starri...    Darnell  name   \n",
       "...                                                   ...        ...   ...   \n",
       "151757  Well, the movie did turn out a lot better than...    Melanie  name   \n",
       "151758  Well, the movie did turn out a lot better than...    Tanisha  name   \n",
       "151759  Well, the movie did turn out a lot better than...      Nancy  name   \n",
       "151760  Well, the movie did turn out a lot better than...        Tia  name   \n",
       "151761  Well, the movie did turn out a lot better than...  Stephanie  name   \n",
       "\n",
       "        gender            country  \n",
       "0         male   African American  \n",
       "1         male   African American  \n",
       "2         male   African American  \n",
       "3         male   African American  \n",
       "4         male   African American  \n",
       "...        ...                ...  \n",
       "151757  female  European American  \n",
       "151758  female  European American  \n",
       "151759  female  European American  \n",
       "151760  female  European American  \n",
       "151761  female  European American  \n",
       "\n",
       "[151762 rows x 8 columns]"
      ]
     },
     "execution_count": 7,
     "metadata": {},
     "output_type": "execute_result"
    }
   ],
   "source": [
    "df"
   ]
  },
  {
   "cell_type": "markdown",
   "metadata": {},
   "source": [
    "#### Read Prediction Result from the Model\n",
    "\n",
    "Make sure you set variable `ouput_dir` with the same `output_dir` in the fine-tuning parameter"
   ]
  },
  {
   "cell_type": "code",
   "execution_count": 8,
   "metadata": {},
   "outputs": [],
   "source": [
    "def read_txt(fpath):\n",
    "    pred = []\n",
    "    file = open(fpath)\n",
    "    lines = file.readlines()\n",
    "    for l in lines :\n",
    "        pred.append(int(l))\n",
    "    file.close()\n",
    "    \n",
    "    return pred"
   ]
  },
  {
   "cell_type": "code",
   "execution_count": 9,
   "metadata": {},
   "outputs": [
    {
     "name": "stdout",
     "output_type": "stream",
     "text": [
      "151762\n"
     ]
    }
   ],
   "source": [
    "output_dir = \"eec_biasfinder\"\n",
    "\n",
    "result_dir = \"../result/\" + output_dir + \"/\"\n",
    "\n",
    "path = result_dir + \"results_data.txt\"\n",
    "\n",
    "pred = read_txt(path)\n",
    "\n",
    "print(len(pred))"
   ]
  },
  {
   "cell_type": "code",
   "execution_count": 10,
   "metadata": {},
   "outputs": [],
   "source": [
    "df[\"prediction\"] = pred\n",
    "# df[\"label\"] = df[0]"
   ]
  },
  {
   "cell_type": "code",
   "execution_count": 11,
   "metadata": {},
   "outputs": [
    {
     "data": {
      "text/html": [
       "<div>\n",
       "<style scoped>\n",
       "    .dataframe tbody tr th:only-of-type {\n",
       "        vertical-align: middle;\n",
       "    }\n",
       "\n",
       "    .dataframe tbody tr th {\n",
       "        vertical-align: top;\n",
       "    }\n",
       "\n",
       "    .dataframe thead th {\n",
       "        text-align: right;\n",
       "    }\n",
       "</style>\n",
       "<table border=\"1\" class=\"dataframe\">\n",
       "  <thead>\n",
       "    <tr style=\"text-align: right;\">\n",
       "      <th></th>\n",
       "      <th>label</th>\n",
       "      <th>mutant</th>\n",
       "      <th>template</th>\n",
       "      <th>original</th>\n",
       "      <th>identifier</th>\n",
       "      <th>type</th>\n",
       "      <th>gender</th>\n",
       "      <th>country</th>\n",
       "      <th>prediction</th>\n",
       "    </tr>\n",
       "  </thead>\n",
       "  <tbody>\n",
       "    <tr>\n",
       "      <th>0</th>\n",
       "      <td>1</td>\n",
       "      <td>I have only see three episodes of Hack, starri...</td>\n",
       "      <td>I have only see three episodes of Hack, starri...</td>\n",
       "      <td>I have only see three episodes of Hack, starri...</td>\n",
       "      <td>Alonzo</td>\n",
       "      <td>name</td>\n",
       "      <td>male</td>\n",
       "      <td>African American</td>\n",
       "      <td>1</td>\n",
       "    </tr>\n",
       "    <tr>\n",
       "      <th>1</th>\n",
       "      <td>1</td>\n",
       "      <td>I have only see three episodes of Hack, starri...</td>\n",
       "      <td>I have only see three episodes of Hack, starri...</td>\n",
       "      <td>I have only see three episodes of Hack, starri...</td>\n",
       "      <td>Adam</td>\n",
       "      <td>name</td>\n",
       "      <td>male</td>\n",
       "      <td>African American</td>\n",
       "      <td>1</td>\n",
       "    </tr>\n",
       "    <tr>\n",
       "      <th>2</th>\n",
       "      <td>1</td>\n",
       "      <td>I have only see three episodes of Hack, starri...</td>\n",
       "      <td>I have only see three episodes of Hack, starri...</td>\n",
       "      <td>I have only see three episodes of Hack, starri...</td>\n",
       "      <td>Alphonse</td>\n",
       "      <td>name</td>\n",
       "      <td>male</td>\n",
       "      <td>African American</td>\n",
       "      <td>1</td>\n",
       "    </tr>\n",
       "    <tr>\n",
       "      <th>3</th>\n",
       "      <td>1</td>\n",
       "      <td>I have only see three episodes of Hack, starri...</td>\n",
       "      <td>I have only see three episodes of Hack, starri...</td>\n",
       "      <td>I have only see three episodes of Hack, starri...</td>\n",
       "      <td>Alan</td>\n",
       "      <td>name</td>\n",
       "      <td>male</td>\n",
       "      <td>African American</td>\n",
       "      <td>1</td>\n",
       "    </tr>\n",
       "    <tr>\n",
       "      <th>4</th>\n",
       "      <td>1</td>\n",
       "      <td>I have only see three episodes of Hack, starri...</td>\n",
       "      <td>I have only see three episodes of Hack, starri...</td>\n",
       "      <td>I have only see three episodes of Hack, starri...</td>\n",
       "      <td>Darnell</td>\n",
       "      <td>name</td>\n",
       "      <td>male</td>\n",
       "      <td>African American</td>\n",
       "      <td>1</td>\n",
       "    </tr>\n",
       "  </tbody>\n",
       "</table>\n",
       "</div>"
      ],
      "text/plain": [
       "   label                                             mutant  \\\n",
       "0      1  I have only see three episodes of Hack, starri...   \n",
       "1      1  I have only see three episodes of Hack, starri...   \n",
       "2      1  I have only see three episodes of Hack, starri...   \n",
       "3      1  I have only see three episodes of Hack, starri...   \n",
       "4      1  I have only see three episodes of Hack, starri...   \n",
       "\n",
       "                                            template  \\\n",
       "0  I have only see three episodes of Hack, starri...   \n",
       "1  I have only see three episodes of Hack, starri...   \n",
       "2  I have only see three episodes of Hack, starri...   \n",
       "3  I have only see three episodes of Hack, starri...   \n",
       "4  I have only see three episodes of Hack, starri...   \n",
       "\n",
       "                                            original identifier  type gender  \\\n",
       "0  I have only see three episodes of Hack, starri...     Alonzo  name   male   \n",
       "1  I have only see three episodes of Hack, starri...       Adam  name   male   \n",
       "2  I have only see three episodes of Hack, starri...   Alphonse  name   male   \n",
       "3  I have only see three episodes of Hack, starri...       Alan  name   male   \n",
       "4  I have only see three episodes of Hack, starri...    Darnell  name   male   \n",
       "\n",
       "            country  prediction  \n",
       "0  African American           1  \n",
       "1  African American           1  \n",
       "2  African American           1  \n",
       "3  African American           1  \n",
       "4  African American           1  "
      ]
     },
     "execution_count": 11,
     "metadata": {},
     "output_type": "execute_result"
    }
   ],
   "source": [
    "df.head()"
   ]
  },
  {
   "cell_type": "markdown",
   "metadata": {},
   "source": [
    "#### Group by Country\n",
    "\n",
    "In this case, we group by `country`. You can try to group by `gender`.\n",
    "\n",
    "If you want to calculate FPED and FNED for `gender`, you can change the variable."
   ]
  },
  {
   "cell_type": "code",
   "execution_count": 13,
   "metadata": {},
   "outputs": [
    {
     "data": {
      "text/html": [
       "<div>\n",
       "<style scoped>\n",
       "    .dataframe tbody tr th:only-of-type {\n",
       "        vertical-align: middle;\n",
       "    }\n",
       "\n",
       "    .dataframe tbody tr th {\n",
       "        vertical-align: top;\n",
       "    }\n",
       "\n",
       "    .dataframe thead th {\n",
       "        text-align: right;\n",
       "    }\n",
       "</style>\n",
       "<table border=\"1\" class=\"dataframe\">\n",
       "  <thead>\n",
       "    <tr style=\"text-align: right;\">\n",
       "      <th></th>\n",
       "      <th>label</th>\n",
       "      <th>mutant</th>\n",
       "      <th>template</th>\n",
       "      <th>original</th>\n",
       "      <th>identifier</th>\n",
       "      <th>type</th>\n",
       "      <th>country</th>\n",
       "      <th>prediction</th>\n",
       "    </tr>\n",
       "    <tr>\n",
       "      <th>gender</th>\n",
       "      <th></th>\n",
       "      <th></th>\n",
       "      <th></th>\n",
       "      <th></th>\n",
       "      <th></th>\n",
       "      <th></th>\n",
       "      <th></th>\n",
       "      <th></th>\n",
       "    </tr>\n",
       "  </thead>\n",
       "  <tbody>\n",
       "    <tr>\n",
       "      <th>female</th>\n",
       "      <td>75881</td>\n",
       "      <td>75881</td>\n",
       "      <td>75881</td>\n",
       "      <td>75881</td>\n",
       "      <td>75881</td>\n",
       "      <td>75881</td>\n",
       "      <td>68380</td>\n",
       "      <td>75881</td>\n",
       "    </tr>\n",
       "    <tr>\n",
       "      <th>male</th>\n",
       "      <td>75881</td>\n",
       "      <td>75881</td>\n",
       "      <td>75881</td>\n",
       "      <td>75881</td>\n",
       "      <td>75881</td>\n",
       "      <td>75881</td>\n",
       "      <td>68380</td>\n",
       "      <td>75881</td>\n",
       "    </tr>\n",
       "  </tbody>\n",
       "</table>\n",
       "</div>"
      ],
      "text/plain": [
       "        label  mutant  template  original  identifier   type  country  \\\n",
       "gender                                                                  \n",
       "female  75881   75881     75881     75881       75881  75881    68380   \n",
       "male    75881   75881     75881     75881       75881  75881    68380   \n",
       "\n",
       "        prediction  \n",
       "gender              \n",
       "female       75881  \n",
       "male         75881  "
      ]
     },
     "execution_count": 13,
     "metadata": {},
     "output_type": "execute_result"
    }
   ],
   "source": [
    "dc = df\n",
    "identifier = \"gender\"\n",
    "dc = df.groupby(identifier)\n",
    "\n",
    "dc.count()"
   ]
  },
  {
   "cell_type": "code",
   "execution_count": 14,
   "metadata": {},
   "outputs": [
    {
     "name": "stdout",
     "output_type": "stream",
     "text": [
      "2\n"
     ]
    }
   ],
   "source": [
    "print(len(dc))\n",
    "\n",
    "identifiers = []\n",
    "for k, v in dict(iter(dc)).items() :\n",
    "    identifiers.append(k)"
   ]
  },
  {
   "cell_type": "markdown",
   "metadata": {},
   "source": [
    "#### Calculate Global Performance"
   ]
  },
  {
   "cell_type": "code",
   "execution_count": 15,
   "metadata": {},
   "outputs": [
    {
     "name": "stdout",
     "output_type": "stream",
     "text": [
      "              precision    recall  f1-score   support\n",
      "\n",
      "           0       0.71      0.91      0.80     72290\n",
      "           1       0.89      0.66      0.76     79472\n",
      "\n",
      "    accuracy                           0.78    151762\n",
      "   macro avg       0.80      0.78      0.78    151762\n",
      "weighted avg       0.80      0.78      0.78    151762\n",
      "\n",
      "[[66035  6255]\n",
      " [27344 52128]]\n"
     ]
    }
   ],
   "source": [
    "from sklearn.metrics import classification_report\n",
    "from sklearn.metrics import confusion_matrix\n",
    "\n",
    "y_test = df[\"label\"]\n",
    "y_pred = df[\"prediction\"]\n",
    "print(classification_report(y_test, y_pred))\n",
    "cm = confusion_matrix(y_test, y_pred)\n",
    "print(cm)"
   ]
  },
  {
   "cell_type": "markdown",
   "metadata": {},
   "source": [
    "#### Calculate Performance for each Group"
   ]
  },
  {
   "cell_type": "code",
   "execution_count": 16,
   "metadata": {},
   "outputs": [],
   "source": [
    "for k, v in dict(iter(dc)).items() :\n",
    "    y_test = v[\"label\"]\n",
    "    y_pred = v[\"prediction\"]\n",
    "#     print(classification_report(y_test, y_pred))\n",
    "#     cm = confusion_matrix(y_test, y_pred)\n",
    "#     print(cm)"
   ]
  },
  {
   "cell_type": "markdown",
   "metadata": {},
   "source": [
    "#### Implementation\n",
    "\n",
    "Fundamental Thery about FPR and FNR: \n",
    "https://medium.com/datadriveninvestor/confusion-matric-tpr-fpr-fnr-tnr-precision-recall-f1-score-73efa162a25f\n",
    "\n",
    "\n",
    "Theory on FPED and FNED:\n",
    "https://research.google/pubs/pub46743/ "
   ]
  },
  {
   "cell_type": "code",
   "execution_count": 17,
   "metadata": {},
   "outputs": [
    {
     "name": "stdout",
     "output_type": "stream",
     "text": [
      "0.08652649052427722\n",
      "0.3782542537003735\n"
     ]
    }
   ],
   "source": [
    "# calculate false positive rate from given consufsion matrix\n",
    "def calculate_fpr(cm) :\n",
    "    negative = np.sum(cm[0])\n",
    "    fp = cm[0][1]\n",
    "    fpr = fp / negative\n",
    "    return fpr\n",
    "\n",
    "# calculate false positive rate from given consufsion matrix\n",
    "def calculate_fnr(cm) :\n",
    "    negative = np.sum(cm[0])\n",
    "    fn = cm[1][0]\n",
    "    fnr = fn / negative\n",
    "    return fnr\n",
    "\n",
    "print(calculate_fpr(cm))\n",
    "print(calculate_fnr(cm))"
   ]
  },
  {
   "cell_type": "markdown",
   "metadata": {},
   "source": [
    "#### Calculate Global FPR and FNR"
   ]
  },
  {
   "cell_type": "code",
   "execution_count": 18,
   "metadata": {},
   "outputs": [
    {
     "name": "stdout",
     "output_type": "stream",
     "text": [
      "global fpr:  0.08652649052427722\n",
      "global fnr:  0.3782542537003735\n"
     ]
    }
   ],
   "source": [
    "y_test = df[\"label\"]\n",
    "y_pred = df[\"prediction\"]\n",
    "cm = confusion_matrix(y_test, y_pred)\n",
    "global_fpr = calculate_fpr(cm)\n",
    "global_fnr = calculate_fnr(cm)\n",
    "print(\"global fpr: \", global_fpr)\n",
    "print(\"global fnr: \", global_fnr)"
   ]
  },
  {
   "cell_type": "markdown",
   "metadata": {},
   "source": [
    "#### Calculate FPR and FNR for each Country"
   ]
  },
  {
   "cell_type": "code",
   "execution_count": 19,
   "metadata": {},
   "outputs": [],
   "source": [
    "fprs = []\n",
    "fnrs = []\n",
    "\n",
    "for k, v in dict(iter(dc)).items() :\n",
    "    y_test = v[\"label\"]\n",
    "    y_pred = v[\"prediction\"]\n",
    "    cm = confusion_matrix(y_test, y_pred)\n",
    "    fpr = calculate_fpr(cm)\n",
    "    fnr = calculate_fnr(cm)\n",
    "    fprs.append(round(fpr, 5))\n",
    "    fnrs.append(round(fnr, 5))"
   ]
  },
  {
   "cell_type": "code",
   "execution_count": 20,
   "metadata": {},
   "outputs": [],
   "source": [
    "# !pip install matplotlib --ignore-installed "
   ]
  },
  {
   "cell_type": "code",
   "execution_count": 21,
   "metadata": {},
   "outputs": [
    {
     "data": {
      "text/html": [
       "<div>\n",
       "<style scoped>\n",
       "    .dataframe tbody tr th:only-of-type {\n",
       "        vertical-align: middle;\n",
       "    }\n",
       "\n",
       "    .dataframe tbody tr th {\n",
       "        vertical-align: top;\n",
       "    }\n",
       "\n",
       "    .dataframe thead th {\n",
       "        text-align: right;\n",
       "    }\n",
       "</style>\n",
       "<table border=\"1\" class=\"dataframe\">\n",
       "  <thead>\n",
       "    <tr style=\"text-align: right;\">\n",
       "      <th></th>\n",
       "      <th>FPR</th>\n",
       "    </tr>\n",
       "    <tr>\n",
       "      <th>identifier</th>\n",
       "      <th></th>\n",
       "    </tr>\n",
       "  </thead>\n",
       "  <tbody>\n",
       "    <tr>\n",
       "      <th>female</th>\n",
       "      <td>0.08660</td>\n",
       "    </tr>\n",
       "    <tr>\n",
       "      <th>male</th>\n",
       "      <td>0.08646</td>\n",
       "    </tr>\n",
       "  </tbody>\n",
       "</table>\n",
       "</div>"
      ],
      "text/plain": [
       "                FPR\n",
       "identifier         \n",
       "female      0.08660\n",
       "male        0.08646"
      ]
     },
     "execution_count": 21,
     "metadata": {},
     "output_type": "execute_result"
    }
   ],
   "source": [
    "import matplotlib.pyplot as plt\n",
    "%matplotlib inline\n",
    "\n",
    "\n",
    "dfprs = pd.DataFrame(data={\"identifier\": identifiers, \"FPR\":fprs})\n",
    "dfprs = dfprs.groupby(\"identifier\").sum().sort_values(by=[\"FPR\"],ascending=False)\n",
    "\n",
    "dfprs.head()"
   ]
  },
  {
   "cell_type": "code",
   "execution_count": 22,
   "metadata": {},
   "outputs": [
    {
     "data": {
      "text/plain": [
       "Text(0, 0.5, 'FPR')"
      ]
     },
     "execution_count": 22,
     "metadata": {},
     "output_type": "execute_result"
    },
    {
     "data": {
      "image/png": "[encoded data removed]",
      "text/plain": [
       "<Figure size 432x288 with 1 Axes>"
      ]
     },
     "metadata": {
      "needs_background": "light"
     },
     "output_type": "display_data"
    }
   ],
   "source": [
    "my_plot = dfprs.plot(kind='bar', legend=None, title=\"FPR per \" + identifier)\n",
    "my_plot.set_xlabel(identifier)\n",
    "my_plot.set_ylabel(\"FPR\")"
   ]
  },
  {
   "cell_type": "code",
   "execution_count": 23,
   "metadata": {},
   "outputs": [
    {
     "data": {
      "text/html": [
       "<div>\n",
       "<style scoped>\n",
       "    .dataframe tbody tr th:only-of-type {\n",
       "        vertical-align: middle;\n",
       "    }\n",
       "\n",
       "    .dataframe tbody tr th {\n",
       "        vertical-align: top;\n",
       "    }\n",
       "\n",
       "    .dataframe thead th {\n",
       "        text-align: right;\n",
       "    }\n",
       "</style>\n",
       "<table border=\"1\" class=\"dataframe\">\n",
       "  <thead>\n",
       "    <tr style=\"text-align: right;\">\n",
       "      <th></th>\n",
       "      <th>FNR</th>\n",
       "    </tr>\n",
       "    <tr>\n",
       "      <th>identifier</th>\n",
       "      <th></th>\n",
       "    </tr>\n",
       "  </thead>\n",
       "  <tbody>\n",
       "    <tr>\n",
       "      <th>female</th>\n",
       "      <td>0.38088</td>\n",
       "    </tr>\n",
       "    <tr>\n",
       "      <th>male</th>\n",
       "      <td>0.37563</td>\n",
       "    </tr>\n",
       "  </tbody>\n",
       "</table>\n",
       "</div>"
      ],
      "text/plain": [
       "                FNR\n",
       "identifier         \n",
       "female      0.38088\n",
       "male        0.37563"
      ]
     },
     "execution_count": 23,
     "metadata": {},
     "output_type": "execute_result"
    }
   ],
   "source": [
    "dfnrs = pd.DataFrame(data={\"identifier\": identifiers, \"FNR\":fnrs})\n",
    "dfnrs = dfnrs.groupby(\"identifier\").sum().sort_values(by=[\"FNR\"],ascending=False)\n",
    "\n",
    "dfnrs.head()"
   ]
  },
  {
   "cell_type": "code",
   "execution_count": 24,
   "metadata": {},
   "outputs": [
    {
     "data": {
      "text/plain": [
       "Text(0, 0.5, 'FNR')"
      ]
     },
     "execution_count": 24,
     "metadata": {},
     "output_type": "execute_result"
    },
    {
     "data": {
      "image/png": "[encoded data removed]",
      "text/plain": [
       "<Figure size 432x288 with 1 Axes>"
      ]
     },
     "metadata": {
      "needs_background": "light"
     },
     "output_type": "display_data"
    }
   ],
   "source": [
    "my_plot = dfnrs.plot(kind='bar', legend=None, title=\"FNR per \" + identifier)\n",
    "my_plot.set_xlabel(identifier)\n",
    "my_plot.set_ylabel(\"FNR\")"
   ]
  },
  {
   "cell_type": "markdown",
   "metadata": {},
   "source": [
    "#### Calculate FNED and FPED"
   ]
  },
  {
   "cell_type": "code",
   "execution_count": 25,
   "metadata": {},
   "outputs": [
    {
     "name": "stdout",
     "output_type": "stream",
     "text": [
      "\n",
      "FPED:  0.00013833171946328604\n",
      "FNED:  0.00525660533960437\n"
     ]
    }
   ],
   "source": [
    "fped = 0\n",
    "fned = 0\n",
    "\n",
    "for _fpr, _fnr in zip(fprs, fnrs) :\n",
    "    fped += abs(global_fpr - fpr)\n",
    "    fned += abs(global_fnr - fnr)\n",
    "\n",
    "print()\n",
    "print(\"FPED: \", fped)\n",
    "print(\"FNED: \", fned)"
   ]
  },
  {
   "cell_type": "code",
   "execution_count": null,
   "metadata": {},
   "outputs": [],
   "source": []
  }
 ],
 "metadata": {
  "kernelspec": {
   "display_name": "Python 3",
   "language": "python",
   "name": "python3"
  },
  "language_info": {
   "codemirror_mode": {
    "name": "ipython",
    "version": 3
   },
   "file_extension": ".py",
   "mimetype": "text/x-python",
   "name": "python",
   "nbconvert_exporter": "python",
   "pygments_lexer": "ipython3",
   "version": "3.6.8"
  }
 },
 "nbformat": 4,
 "nbformat_minor": 4
}
