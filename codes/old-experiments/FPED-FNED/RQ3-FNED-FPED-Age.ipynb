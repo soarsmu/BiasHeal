{
 "cells": [
  {
   "cell_type": "markdown",
   "metadata": {},
   "source": [
    "## FNED and FPED Implementation"
   ]
  },
  {
   "cell_type": "code",
   "execution_count": 1,
   "metadata": {},
   "outputs": [],
   "source": [
    "import pandas as pd\n",
    "import numpy as np\n",
    "import math"
   ]
  },
  {
   "cell_type": "markdown",
   "metadata": {},
   "source": [
    "#### Read Original Data"
   ]
  },
  {
   "cell_type": "code",
   "execution_count": 2,
   "metadata": {},
   "outputs": [
    {
     "data": {
      "text/html": [
       "<div>\n",
       "<style scoped>\n",
       "    .dataframe tbody tr th:only-of-type {\n",
       "        vertical-align: middle;\n",
       "    }\n",
       "\n",
       "    .dataframe tbody tr th {\n",
       "        vertical-align: top;\n",
       "    }\n",
       "\n",
       "    .dataframe thead th {\n",
       "        text-align: right;\n",
       "    }\n",
       "</style>\n",
       "<table border=\"1\" class=\"dataframe\">\n",
       "  <thead>\n",
       "    <tr style=\"text-align: right;\">\n",
       "      <th></th>\n",
       "      <th>mutant</th>\n",
       "      <th>template</th>\n",
       "      <th>original</th>\n",
       "      <th>age</th>\n",
       "      <th>name</th>\n",
       "      <th>label</th>\n",
       "    </tr>\n",
       "  </thead>\n",
       "  <tbody>\n",
       "    <tr>\n",
       "      <th>0</th>\n",
       "      <td>b \" The Mascot is Starewicz's masterpiece. It ...</td>\n",
       "      <td>b \" The Mascot is Starewicz's masterpiece. It ...</td>\n",
       "      <td>b \" The Mascot is Ladislaw Starewicz's masterp...</td>\n",
       "      <td>young</td>\n",
       "      <td>Starewicz</td>\n",
       "      <td>1</td>\n",
       "    </tr>\n",
       "    <tr>\n",
       "      <th>1</th>\n",
       "      <td>b \" The Mascot is Starewicz's masterpiece. It ...</td>\n",
       "      <td>b \" The Mascot is Starewicz's masterpiece. It ...</td>\n",
       "      <td>b \" The Mascot is Ladislaw Starewicz's masterp...</td>\n",
       "      <td>old</td>\n",
       "      <td>Starewicz</td>\n",
       "      <td>1</td>\n",
       "    </tr>\n",
       "    <tr>\n",
       "      <th>2</th>\n",
       "      <td>b \" I have only see three episodes of Hack, st...</td>\n",
       "      <td>b \" I have only see three episodes of Hack, st...</td>\n",
       "      <td>b \" I have only see three episodes of Hack, st...</td>\n",
       "      <td>young</td>\n",
       "      <td>David Morse</td>\n",
       "      <td>1</td>\n",
       "    </tr>\n",
       "    <tr>\n",
       "      <th>3</th>\n",
       "      <td>b \" I have only see three episodes of Hack, st...</td>\n",
       "      <td>b \" I have only see three episodes of Hack, st...</td>\n",
       "      <td>b \" I have only see three episodes of Hack, st...</td>\n",
       "      <td>old</td>\n",
       "      <td>David Morse</td>\n",
       "      <td>1</td>\n",
       "    </tr>\n",
       "    <tr>\n",
       "      <th>4</th>\n",
       "      <td>b ' Deepa Mehta's \" Fire \" is groundbreaking, ...</td>\n",
       "      <td>b ' Deepa Mehta's \" Fire \" is groundbreaking, ...</td>\n",
       "      <td>b ' Deepa Mehta's \" Fire \" is groundbreaking, ...</td>\n",
       "      <td>young</td>\n",
       "      <td>Shabana Azmi</td>\n",
       "      <td>1</td>\n",
       "    </tr>\n",
       "    <tr>\n",
       "      <th>...</th>\n",
       "      <td>...</td>\n",
       "      <td>...</td>\n",
       "      <td>...</td>\n",
       "      <td>...</td>\n",
       "      <td>...</td>\n",
       "      <td>...</td>\n",
       "    </tr>\n",
       "    <tr>\n",
       "      <th>36909</th>\n",
       "      <td>b \" How do you describe perfection? In - the -...</td>\n",
       "      <td>b \" How do you describe perfection? In - the -...</td>\n",
       "      <td>b \" How do you describe perfection? In - the -...</td>\n",
       "      <td>old</td>\n",
       "      <td>Maggie Cheung</td>\n",
       "      <td>1</td>\n",
       "    </tr>\n",
       "    <tr>\n",
       "      <th>36910</th>\n",
       "      <td>b \" The French Babbette appears at the modest ...</td>\n",
       "      <td>b \" The French Babbette appears at the modest ...</td>\n",
       "      <td>b \" The French Babbette appears at the modest ...</td>\n",
       "      <td>young</td>\n",
       "      <td>Babette</td>\n",
       "      <td>1</td>\n",
       "    </tr>\n",
       "    <tr>\n",
       "      <th>36911</th>\n",
       "      <td>b \" The French Babbette appears at the modest ...</td>\n",
       "      <td>b \" The French Babbette appears at the modest ...</td>\n",
       "      <td>b \" The French Babbette appears at the modest ...</td>\n",
       "      <td>old</td>\n",
       "      <td>Babette</td>\n",
       "      <td>1</td>\n",
       "    </tr>\n",
       "    <tr>\n",
       "      <th>36912</th>\n",
       "      <td>b \" First, I'm a huge Buddy Holly fan. I grew ...</td>\n",
       "      <td>b \" First, I'm a huge Buddy Holly fan. I grew ...</td>\n",
       "      <td>b \" First, I'm a huge Buddy Holly fan. I grew ...</td>\n",
       "      <td>young</td>\n",
       "      <td>Gary Busey</td>\n",
       "      <td>1</td>\n",
       "    </tr>\n",
       "    <tr>\n",
       "      <th>36913</th>\n",
       "      <td>b \" First, I'm a huge Buddy Holly fan. I grew ...</td>\n",
       "      <td>b \" First, I'm a huge Buddy Holly fan. I grew ...</td>\n",
       "      <td>b \" First, I'm a huge Buddy Holly fan. I grew ...</td>\n",
       "      <td>old</td>\n",
       "      <td>Gary Busey</td>\n",
       "      <td>1</td>\n",
       "    </tr>\n",
       "  </tbody>\n",
       "</table>\n",
       "<p>36914 rows × 6 columns</p>\n",
       "</div>"
      ],
      "text/plain": [
       "                                                  mutant  \\\n",
       "0      b \" The Mascot is Starewicz's masterpiece. It ...   \n",
       "1      b \" The Mascot is Starewicz's masterpiece. It ...   \n",
       "2      b \" I have only see three episodes of Hack, st...   \n",
       "3      b \" I have only see three episodes of Hack, st...   \n",
       "4      b ' Deepa Mehta's \" Fire \" is groundbreaking, ...   \n",
       "...                                                  ...   \n",
       "36909  b \" How do you describe perfection? In - the -...   \n",
       "36910  b \" The French Babbette appears at the modest ...   \n",
       "36911  b \" The French Babbette appears at the modest ...   \n",
       "36912  b \" First, I'm a huge Buddy Holly fan. I grew ...   \n",
       "36913  b \" First, I'm a huge Buddy Holly fan. I grew ...   \n",
       "\n",
       "                                                template  \\\n",
       "0      b \" The Mascot is Starewicz's masterpiece. It ...   \n",
       "1      b \" The Mascot is Starewicz's masterpiece. It ...   \n",
       "2      b \" I have only see three episodes of Hack, st...   \n",
       "3      b \" I have only see three episodes of Hack, st...   \n",
       "4      b ' Deepa Mehta's \" Fire \" is groundbreaking, ...   \n",
       "...                                                  ...   \n",
       "36909  b \" How do you describe perfection? In - the -...   \n",
       "36910  b \" The French Babbette appears at the modest ...   \n",
       "36911  b \" The French Babbette appears at the modest ...   \n",
       "36912  b \" First, I'm a huge Buddy Holly fan. I grew ...   \n",
       "36913  b \" First, I'm a huge Buddy Holly fan. I grew ...   \n",
       "\n",
       "                                                original    age  \\\n",
       "0      b \" The Mascot is Ladislaw Starewicz's masterp...  young   \n",
       "1      b \" The Mascot is Ladislaw Starewicz's masterp...    old   \n",
       "2      b \" I have only see three episodes of Hack, st...  young   \n",
       "3      b \" I have only see three episodes of Hack, st...    old   \n",
       "4      b ' Deepa Mehta's \" Fire \" is groundbreaking, ...  young   \n",
       "...                                                  ...    ...   \n",
       "36909  b \" How do you describe perfection? In - the -...    old   \n",
       "36910  b \" The French Babbette appears at the modest ...  young   \n",
       "36911  b \" The French Babbette appears at the modest ...    old   \n",
       "36912  b \" First, I'm a huge Buddy Holly fan. I grew ...  young   \n",
       "36913  b \" First, I'm a huge Buddy Holly fan. I grew ...    old   \n",
       "\n",
       "                name  label  \n",
       "0          Starewicz      1  \n",
       "1          Starewicz      1  \n",
       "2        David Morse      1  \n",
       "3        David Morse      1  \n",
       "4       Shabana Azmi      1  \n",
       "...              ...    ...  \n",
       "36909  Maggie Cheung      1  \n",
       "36910        Babette      1  \n",
       "36911        Babette      1  \n",
       "36912     Gary Busey      1  \n",
       "36913     Gary Busey      1  \n",
       "\n",
       "[36914 rows x 6 columns]"
      ]
     },
     "execution_count": 2,
     "metadata": {},
     "output_type": "execute_result"
    }
   ],
   "source": [
    "data_dir = \"age\"\n",
    "df = pd.read_csv(\"occ-age/prepared/\" + data_dir + \".csv\")\n",
    "df[\"label\"] = df[\"0\"]\n",
    "df = df.iloc[:,2:]\n",
    "df"
   ]
  },
  {
   "cell_type": "markdown",
   "metadata": {},
   "source": [
    "#### Read Prediction Result from the Model\n",
    "\n",
    "Make sure you set variable `ouput_dir` with the same `output_dir` in the fine-tuning parameter"
   ]
  },
  {
   "cell_type": "code",
   "execution_count": 3,
   "metadata": {},
   "outputs": [],
   "source": [
    "def read_txt(fpath):\n",
    "    pred = []\n",
    "    file = open(fpath)\n",
    "    lines = file.readlines()\n",
    "    for l in lines :\n",
    "        pred.append(int(l))\n",
    "    file.close()\n",
    "    \n",
    "    return pred"
   ]
  },
  {
   "cell_type": "code",
   "execution_count": 4,
   "metadata": {},
   "outputs": [
    {
     "name": "stdout",
     "output_type": "stream",
     "text": [
      "36914\n"
     ]
    }
   ],
   "source": [
    "output_dir = \"age\"\n",
    "\n",
    "result_dir = \"../result/\" + output_dir + \"/\"\n",
    "\n",
    "path = result_dir + \"results_data.txt\"\n",
    "\n",
    "pred = read_txt(path)\n",
    "\n",
    "print(len(pred))"
   ]
  },
  {
   "cell_type": "code",
   "execution_count": 5,
   "metadata": {},
   "outputs": [],
   "source": [
    "df[\"prediction\"] = pred\n",
    "# df[\"label\"] = df[0]"
   ]
  },
  {
   "cell_type": "code",
   "execution_count": 6,
   "metadata": {},
   "outputs": [
    {
     "data": {
      "text/html": [
       "<div>\n",
       "<style scoped>\n",
       "    .dataframe tbody tr th:only-of-type {\n",
       "        vertical-align: middle;\n",
       "    }\n",
       "\n",
       "    .dataframe tbody tr th {\n",
       "        vertical-align: top;\n",
       "    }\n",
       "\n",
       "    .dataframe thead th {\n",
       "        text-align: right;\n",
       "    }\n",
       "</style>\n",
       "<table border=\"1\" class=\"dataframe\">\n",
       "  <thead>\n",
       "    <tr style=\"text-align: right;\">\n",
       "      <th></th>\n",
       "      <th>mutant</th>\n",
       "      <th>template</th>\n",
       "      <th>original</th>\n",
       "      <th>age</th>\n",
       "      <th>name</th>\n",
       "      <th>label</th>\n",
       "      <th>prediction</th>\n",
       "    </tr>\n",
       "  </thead>\n",
       "  <tbody>\n",
       "    <tr>\n",
       "      <th>0</th>\n",
       "      <td>b \" The Mascot is Starewicz's masterpiece. It ...</td>\n",
       "      <td>b \" The Mascot is Starewicz's masterpiece. It ...</td>\n",
       "      <td>b \" The Mascot is Ladislaw Starewicz's masterp...</td>\n",
       "      <td>young</td>\n",
       "      <td>Starewicz</td>\n",
       "      <td>1</td>\n",
       "      <td>1</td>\n",
       "    </tr>\n",
       "    <tr>\n",
       "      <th>1</th>\n",
       "      <td>b \" The Mascot is Starewicz's masterpiece. It ...</td>\n",
       "      <td>b \" The Mascot is Starewicz's masterpiece. It ...</td>\n",
       "      <td>b \" The Mascot is Ladislaw Starewicz's masterp...</td>\n",
       "      <td>old</td>\n",
       "      <td>Starewicz</td>\n",
       "      <td>1</td>\n",
       "      <td>1</td>\n",
       "    </tr>\n",
       "    <tr>\n",
       "      <th>2</th>\n",
       "      <td>b \" I have only see three episodes of Hack, st...</td>\n",
       "      <td>b \" I have only see three episodes of Hack, st...</td>\n",
       "      <td>b \" I have only see three episodes of Hack, st...</td>\n",
       "      <td>young</td>\n",
       "      <td>David Morse</td>\n",
       "      <td>1</td>\n",
       "      <td>1</td>\n",
       "    </tr>\n",
       "    <tr>\n",
       "      <th>3</th>\n",
       "      <td>b \" I have only see three episodes of Hack, st...</td>\n",
       "      <td>b \" I have only see three episodes of Hack, st...</td>\n",
       "      <td>b \" I have only see three episodes of Hack, st...</td>\n",
       "      <td>old</td>\n",
       "      <td>David Morse</td>\n",
       "      <td>1</td>\n",
       "      <td>1</td>\n",
       "    </tr>\n",
       "    <tr>\n",
       "      <th>4</th>\n",
       "      <td>b ' Deepa Mehta's \" Fire \" is groundbreaking, ...</td>\n",
       "      <td>b ' Deepa Mehta's \" Fire \" is groundbreaking, ...</td>\n",
       "      <td>b ' Deepa Mehta's \" Fire \" is groundbreaking, ...</td>\n",
       "      <td>young</td>\n",
       "      <td>Shabana Azmi</td>\n",
       "      <td>1</td>\n",
       "      <td>1</td>\n",
       "    </tr>\n",
       "  </tbody>\n",
       "</table>\n",
       "</div>"
      ],
      "text/plain": [
       "                                              mutant  \\\n",
       "0  b \" The Mascot is Starewicz's masterpiece. It ...   \n",
       "1  b \" The Mascot is Starewicz's masterpiece. It ...   \n",
       "2  b \" I have only see three episodes of Hack, st...   \n",
       "3  b \" I have only see three episodes of Hack, st...   \n",
       "4  b ' Deepa Mehta's \" Fire \" is groundbreaking, ...   \n",
       "\n",
       "                                            template  \\\n",
       "0  b \" The Mascot is Starewicz's masterpiece. It ...   \n",
       "1  b \" The Mascot is Starewicz's masterpiece. It ...   \n",
       "2  b \" I have only see three episodes of Hack, st...   \n",
       "3  b \" I have only see three episodes of Hack, st...   \n",
       "4  b ' Deepa Mehta's \" Fire \" is groundbreaking, ...   \n",
       "\n",
       "                                            original    age          name  \\\n",
       "0  b \" The Mascot is Ladislaw Starewicz's masterp...  young     Starewicz   \n",
       "1  b \" The Mascot is Ladislaw Starewicz's masterp...    old     Starewicz   \n",
       "2  b \" I have only see three episodes of Hack, st...  young   David Morse   \n",
       "3  b \" I have only see three episodes of Hack, st...    old   David Morse   \n",
       "4  b ' Deepa Mehta's \" Fire \" is groundbreaking, ...  young  Shabana Azmi   \n",
       "\n",
       "   label  prediction  \n",
       "0      1           1  \n",
       "1      1           1  \n",
       "2      1           1  \n",
       "3      1           1  \n",
       "4      1           1  "
      ]
     },
     "execution_count": 6,
     "metadata": {},
     "output_type": "execute_result"
    }
   ],
   "source": [
    "df.head()"
   ]
  },
  {
   "cell_type": "markdown",
   "metadata": {},
   "source": [
    "#### Group by Age\n",
    "\n",
    "In this case, we group by `age`."
   ]
  },
  {
   "cell_type": "code",
   "execution_count": 7,
   "metadata": {},
   "outputs": [
    {
     "data": {
      "text/html": [
       "<div>\n",
       "<style scoped>\n",
       "    .dataframe tbody tr th:only-of-type {\n",
       "        vertical-align: middle;\n",
       "    }\n",
       "\n",
       "    .dataframe tbody tr th {\n",
       "        vertical-align: top;\n",
       "    }\n",
       "\n",
       "    .dataframe thead th {\n",
       "        text-align: right;\n",
       "    }\n",
       "</style>\n",
       "<table border=\"1\" class=\"dataframe\">\n",
       "  <thead>\n",
       "    <tr style=\"text-align: right;\">\n",
       "      <th></th>\n",
       "      <th>mutant</th>\n",
       "      <th>template</th>\n",
       "      <th>original</th>\n",
       "      <th>name</th>\n",
       "      <th>label</th>\n",
       "      <th>prediction</th>\n",
       "    </tr>\n",
       "    <tr>\n",
       "      <th>age</th>\n",
       "      <th></th>\n",
       "      <th></th>\n",
       "      <th></th>\n",
       "      <th></th>\n",
       "      <th></th>\n",
       "      <th></th>\n",
       "    </tr>\n",
       "  </thead>\n",
       "  <tbody>\n",
       "    <tr>\n",
       "      <th>old</th>\n",
       "      <td>18456</td>\n",
       "      <td>18456</td>\n",
       "      <td>18457</td>\n",
       "      <td>18457</td>\n",
       "      <td>18457</td>\n",
       "      <td>18457</td>\n",
       "    </tr>\n",
       "    <tr>\n",
       "      <th>young</th>\n",
       "      <td>18456</td>\n",
       "      <td>18456</td>\n",
       "      <td>18457</td>\n",
       "      <td>18457</td>\n",
       "      <td>18457</td>\n",
       "      <td>18457</td>\n",
       "    </tr>\n",
       "  </tbody>\n",
       "</table>\n",
       "</div>"
      ],
      "text/plain": [
       "       mutant  template  original   name  label  prediction\n",
       "age                                                        \n",
       "old     18456     18456     18457  18457  18457       18457\n",
       "young   18456     18456     18457  18457  18457       18457"
      ]
     },
     "execution_count": 7,
     "metadata": {},
     "output_type": "execute_result"
    }
   ],
   "source": [
    "identifier = \"age\"\n",
    "dc = df.groupby(identifier)\n",
    "\n",
    "dc.count()"
   ]
  },
  {
   "cell_type": "code",
   "execution_count": 8,
   "metadata": {},
   "outputs": [
    {
     "name": "stdout",
     "output_type": "stream",
     "text": [
      "2\n"
     ]
    }
   ],
   "source": [
    "print(len(dc))\n",
    "\n",
    "identifiers = []\n",
    "for k, v in dict(iter(dc)).items() :\n",
    "    identifiers.append(k)"
   ]
  },
  {
   "cell_type": "markdown",
   "metadata": {},
   "source": [
    "#### Calculate Global Performance"
   ]
  },
  {
   "cell_type": "code",
   "execution_count": 9,
   "metadata": {},
   "outputs": [
    {
     "name": "stdout",
     "output_type": "stream",
     "text": [
      "              precision    recall  f1-score   support\n",
      "\n",
      "           0       0.93      0.92      0.92     17296\n",
      "           1       0.93      0.94      0.93     19618\n",
      "\n",
      "    accuracy                           0.93     36914\n",
      "   macro avg       0.93      0.93      0.93     36914\n",
      "weighted avg       0.93      0.93      0.93     36914\n",
      "\n",
      "[[15831  1465]\n",
      " [ 1242 18376]]\n"
     ]
    }
   ],
   "source": [
    "from sklearn.metrics import classification_report\n",
    "from sklearn.metrics import confusion_matrix\n",
    "\n",
    "y_test = df[\"label\"]\n",
    "y_pred = df[\"prediction\"]\n",
    "print(classification_report(y_test, y_pred))\n",
    "cm = confusion_matrix(y_test, y_pred)\n",
    "print(cm)"
   ]
  },
  {
   "cell_type": "markdown",
   "metadata": {},
   "source": [
    "#### Calculate Performance for each Group"
   ]
  },
  {
   "cell_type": "code",
   "execution_count": 10,
   "metadata": {},
   "outputs": [],
   "source": [
    "for k, v in dict(iter(dc)).items() :\n",
    "    y_test = v[\"label\"]\n",
    "    y_pred = v[\"prediction\"]\n",
    "#     print(classification_report(y_test, y_pred))\n",
    "#     cm = confusion_matrix(y_test, y_pred)\n",
    "#     print(cm)"
   ]
  },
  {
   "cell_type": "markdown",
   "metadata": {},
   "source": [
    "#### Implementation\n",
    "\n",
    "Fundamental Thery about FPR and FNR: \n",
    "https://medium.com/datadriveninvestor/confusion-matric-tpr-fpr-fnr-tnr-precision-recall-f1-score-73efa162a25f\n",
    "\n",
    "\n",
    "Theory on FPED and FNED:\n",
    "https://research.google/pubs/pub46743/ "
   ]
  },
  {
   "cell_type": "code",
   "execution_count": 11,
   "metadata": {},
   "outputs": [
    {
     "name": "stdout",
     "output_type": "stream",
     "text": [
      "0.08470166512488436\n",
      "0.07180851063829788\n"
     ]
    }
   ],
   "source": [
    "# calculate false positive rate from given consufsion matrix\n",
    "def calculate_fpr(cm) :\n",
    "    negative = np.sum(cm[0])\n",
    "    fp = cm[0][1]\n",
    "    fpr = fp / negative\n",
    "    return fpr\n",
    "\n",
    "# calculate false positive rate from given consufsion matrix\n",
    "def calculate_fnr(cm) :\n",
    "    negative = np.sum(cm[0])\n",
    "    fn = cm[1][0]\n",
    "    fnr = fn / negative\n",
    "    return fnr\n",
    "\n",
    "print(calculate_fpr(cm))\n",
    "print(calculate_fnr(cm))"
   ]
  },
  {
   "cell_type": "markdown",
   "metadata": {},
   "source": [
    "#### Calculate Global FPR and FNR"
   ]
  },
  {
   "cell_type": "code",
   "execution_count": 26,
   "metadata": {},
   "outputs": [
    {
     "name": "stdout",
     "output_type": "stream",
     "text": [
      "global fpr:  0.08470166512488436\n",
      "global fnr:  0.07180851063829788\n"
     ]
    }
   ],
   "source": [
    "y_test = df[\"label\"]\n",
    "y_pred = df[\"prediction\"]\n",
    "cm = confusion_matrix(y_test, y_pred)\n",
    "global_fpr = calculate_fpr(cm)\n",
    "global_fnr = calculate_fnr(cm)\n",
    "print(\"global fpr: \", global_fpr)\n",
    "print(\"global fnr: \", global_fnr)"
   ]
  },
  {
   "cell_type": "markdown",
   "metadata": {},
   "source": [
    "#### Calculate FPR and FNR for each Identifier"
   ]
  },
  {
   "cell_type": "code",
   "execution_count": 28,
   "metadata": {},
   "outputs": [],
   "source": [
    "fprs = []\n",
    "fnrs = []\n",
    "\n",
    "for k, v in dict(iter(dc)).items() :\n",
    "    y_test = v[\"label\"]\n",
    "    y_pred = v[\"prediction\"]\n",
    "    cm = confusion_matrix(y_test, y_pred)\n",
    "    fpr = calculate_fpr(cm)\n",
    "    fnr = calculate_fnr(cm)\n",
    "    fprs.append(round(fpr, 5))\n",
    "    fnrs.append(round(fnr, 5))"
   ]
  },
  {
   "cell_type": "code",
   "execution_count": 31,
   "metadata": {},
   "outputs": [
    {
     "data": {
      "text/html": [
       "<div>\n",
       "<style scoped>\n",
       "    .dataframe tbody tr th:only-of-type {\n",
       "        vertical-align: middle;\n",
       "    }\n",
       "\n",
       "    .dataframe tbody tr th {\n",
       "        vertical-align: top;\n",
       "    }\n",
       "\n",
       "    .dataframe thead th {\n",
       "        text-align: right;\n",
       "    }\n",
       "</style>\n",
       "<table border=\"1\" class=\"dataframe\">\n",
       "  <thead>\n",
       "    <tr style=\"text-align: right;\">\n",
       "      <th></th>\n",
       "      <th>FPR</th>\n",
       "    </tr>\n",
       "    <tr>\n",
       "      <th>identifier</th>\n",
       "      <th></th>\n",
       "    </tr>\n",
       "  </thead>\n",
       "  <tbody>\n",
       "    <tr>\n",
       "      <th>young</th>\n",
       "      <td>0.08488</td>\n",
       "    </tr>\n",
       "    <tr>\n",
       "      <th>old</th>\n",
       "      <td>0.08453</td>\n",
       "    </tr>\n",
       "  </tbody>\n",
       "</table>\n",
       "</div>"
      ],
      "text/plain": [
       "                FPR\n",
       "identifier         \n",
       "young       0.08488\n",
       "old         0.08453"
      ]
     },
     "execution_count": 31,
     "metadata": {},
     "output_type": "execute_result"
    }
   ],
   "source": [
    "import matplotlib.pyplot as plt\n",
    "%matplotlib inline\n",
    "\n",
    "\n",
    "dfprs = pd.DataFrame(data={\"identifier\": identifiers, \"FPR\":fprs})\n",
    "dfprs = dfprs.groupby(\"identifier\").sum().sort_values(by=[\"FPR\"],ascending=False)\n",
    "\n",
    "dfprs.head()"
   ]
  },
  {
   "cell_type": "code",
   "execution_count": 32,
   "metadata": {},
   "outputs": [
    {
     "data": {
      "text/plain": [
       "Text(0, 0.5, 'FPR')"
      ]
     },
     "execution_count": 32,
     "metadata": {},
     "output_type": "execute_result"
    },
    {
     "data": {
      "image/png": "[encoded data removed]",
      "text/plain": [
       "<Figure size 432x288 with 1 Axes>"
      ]
     },
     "metadata": {
      "needs_background": "light"
     },
     "output_type": "display_data"
    }
   ],
   "source": [
    "my_plot = dfprs.plot(kind='bar', legend=None, title=\"FPR per \" + identifier)\n",
    "my_plot.set_xlabel(identifier)\n",
    "my_plot.set_ylabel(\"FPR\")"
   ]
  },
  {
   "cell_type": "code",
   "execution_count": 33,
   "metadata": {},
   "outputs": [
    {
     "data": {
      "text/html": [
       "<div>\n",
       "<style scoped>\n",
       "    .dataframe tbody tr th:only-of-type {\n",
       "        vertical-align: middle;\n",
       "    }\n",
       "\n",
       "    .dataframe tbody tr th {\n",
       "        vertical-align: top;\n",
       "    }\n",
       "\n",
       "    .dataframe thead th {\n",
       "        text-align: right;\n",
       "    }\n",
       "</style>\n",
       "<table border=\"1\" class=\"dataframe\">\n",
       "  <thead>\n",
       "    <tr style=\"text-align: right;\">\n",
       "      <th></th>\n",
       "      <th>FNR</th>\n",
       "    </tr>\n",
       "    <tr>\n",
       "      <th>identifier</th>\n",
       "      <th></th>\n",
       "    </tr>\n",
       "  </thead>\n",
       "  <tbody>\n",
       "    <tr>\n",
       "      <th>old</th>\n",
       "      <td>0.07239</td>\n",
       "    </tr>\n",
       "    <tr>\n",
       "      <th>young</th>\n",
       "      <td>0.07123</td>\n",
       "    </tr>\n",
       "  </tbody>\n",
       "</table>\n",
       "</div>"
      ],
      "text/plain": [
       "                FNR\n",
       "identifier         \n",
       "old         0.07239\n",
       "young       0.07123"
      ]
     },
     "execution_count": 33,
     "metadata": {},
     "output_type": "execute_result"
    }
   ],
   "source": [
    "dfnrs = pd.DataFrame(data={\"identifier\": identifiers, \"FNR\":fnrs})\n",
    "dfnrs = dfnrs.groupby(\"identifier\").sum().sort_values(by=[\"FNR\"],ascending=False)\n",
    "\n",
    "dfnrs.head()"
   ]
  },
  {
   "cell_type": "code",
   "execution_count": 34,
   "metadata": {},
   "outputs": [
    {
     "data": {
      "text/plain": [
       "Text(0, 0.5, 'FNR')"
      ]
     },
     "execution_count": 34,
     "metadata": {},
     "output_type": "execute_result"
    },
    {
     "data": {
      "image/png": "[encoded data removed]",
      "text/plain": [
       "<Figure size 432x288 with 1 Axes>"
      ]
     },
     "metadata": {
      "needs_background": "light"
     },
     "output_type": "display_data"
    }
   ],
   "source": [
    "my_plot = dfnrs.plot(kind='bar', legend=None, title=\"FNR per \" + identifier)\n",
    "my_plot.set_xlabel(identifier)\n",
    "my_plot.set_ylabel(\"FNR\")"
   ]
  },
  {
   "cell_type": "markdown",
   "metadata": {},
   "source": [
    "#### Calculate FNED and FPED"
   ]
  },
  {
   "cell_type": "code",
   "execution_count": 35,
   "metadata": {},
   "outputs": [
    {
     "name": "stdout",
     "output_type": "stream",
     "text": [
      "\n",
      "FPED:  0.00034690101757633984\n",
      "FNED:  0.0011563367252544199\n"
     ]
    }
   ],
   "source": [
    "fped = 0\n",
    "fned = 0\n",
    "\n",
    "for _fpr, _fnr in zip(fprs, fnrs) :\n",
    "    fped += abs(global_fpr - fpr)\n",
    "    fned += abs(global_fnr - fnr)\n",
    "\n",
    "print()\n",
    "print(\"FPED: \", fped)\n",
    "print(\"FNED: \", fned)"
   ]
  }
 ],
 "metadata": {
  "kernelspec": {
   "display_name": "Python 3",
   "language": "python",
   "name": "python3"
  },
  "language_info": {
   "codemirror_mode": {
    "name": "ipython",
    "version": 3
   },
   "file_extension": ".py",
   "mimetype": "text/x-python",
   "name": "python",
   "nbconvert_exporter": "python",
   "pygments_lexer": "ipython3",
   "version": "3.6.8"
  }
 },
 "nbformat": 4,
 "nbformat_minor": 4
}
